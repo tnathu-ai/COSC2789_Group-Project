{
 "cells": [
  {
   "cell_type": "markdown",
   "id": "f0ee370e",
   "metadata": {},
   "source": [
    "<h1 style=\"color:#ffc0cb;font-size:70px;font-family:Georgia;text-align:center;\"><strong>Assignment 3</strong></h1>\n",
    "\n",
    "Comprehensive data preparation, exploration, visualization, feature engineering, and regression modeling for a case study: Predict house price range in Hanoi 2019 and 2020 periods.\n",
    "\n",
    "\n",
    "<b> Group: 10</b>\n",
    "+ Student Name: Nguyen Dang Huynh Chau (s3777214)</b>\n",
    "+ Student Name: Tran Ngoc Anh Thu (s3879312)</b>\n",
    "+ Student Name: Ho Le Minh Thach (s3879312)</b>\n",
    "+ Student Name: Do Hoang Duc (s3788345)</b>\n",
    "+ Lecturer: Vo Ngoc Yen Nhi </b>\n",
    "\n",
    "Having played a vital role in the human-being life, housing is one of the greatest considerations and its price has been researched carefully in millions of studies by using machine learning. Although, this is not the rare topic, it is still necessary to construct a machine learning model in order to not only predict an accurate housing price but also have the user-friendliness for the users to have the most optimised and effective way to investigate the housing price for improving the living standard.\n",
    "\n",
    "# Hypothesis forming:\n"
   ]
  },
  {
   "cell_type": "markdown",
   "id": "76504e29",
   "metadata": {},
   "source": [
    "<a id=\"1\"></a>\n",
    "<h1 style=\"color:#ffc0cb;font-size:40px;font-family:Georgia;text-align:center;\"><strong>1. Data Preparation</strong></h1>\n",
    "\n",
    "<a id=\"1.1\"></a>\n",
    "# 1.1 Importing Necessary Libraries and datasets"
   ]
  },
  {
   "cell_type": "code",
   "execution_count": 516,
   "id": "4ba3a331",
   "metadata": {},
   "outputs": [
    {
     "name": "stdout",
     "output_type": "stream",
     "text": [
      "Requirement already satisfied: missingno in c:\\users\\thu\\anaconda3\\lib\\site-packages (0.5.0)\n",
      "Requirement already satisfied: numpy in c:\\users\\thu\\anaconda3\\lib\\site-packages (from missingno) (1.19.5)\n",
      "Requirement already satisfied: scipy in c:\\users\\thu\\anaconda3\\lib\\site-packages (from missingno) (1.6.2)\n",
      "Requirement already satisfied: matplotlib in c:\\users\\thu\\anaconda3\\lib\\site-packages (from missingno) (3.3.4)\n",
      "Requirement already satisfied: seaborn in c:\\users\\thu\\anaconda3\\lib\\site-packages (from missingno) (0.11.2)\n",
      "Requirement already satisfied: python-dateutil>=2.1 in c:\\users\\thu\\anaconda3\\lib\\site-packages (from matplotlib->missingno) (2.8.2)\n",
      "Requirement already satisfied: kiwisolver>=1.0.1 in c:\\users\\thu\\anaconda3\\lib\\site-packages (from matplotlib->missingno) (1.3.1)\n",
      "Requirement already satisfied: pyparsing!=2.0.4,!=2.1.2,!=2.1.6,>=2.0.3 in c:\\users\\thu\\anaconda3\\lib\\site-packages (from matplotlib->missingno) (3.0.4)\n",
      "Requirement already satisfied: cycler>=0.10 in c:\\users\\thu\\anaconda3\\lib\\site-packages (from matplotlib->missingno) (0.10.0)\n",
      "Requirement already satisfied: pillow>=6.2.0 in c:\\users\\thu\\anaconda3\\lib\\site-packages (from matplotlib->missingno) (8.4.0)\n",
      "Requirement already satisfied: pandas>=0.23 in c:\\users\\thu\\anaconda3\\lib\\site-packages (from seaborn->missingno) (1.3.4)\n",
      "Requirement already satisfied: six in c:\\users\\thu\\anaconda3\\lib\\site-packages (from cycler>=0.10->matplotlib->missingno) (1.15.0)\n",
      "Requirement already satisfied: pytz>=2017.3 in c:\\users\\thu\\anaconda3\\lib\\site-packages (from pandas>=0.23->seaborn->missingno) (2021.3)\n"
     ]
    },
    {
     "data": {
      "text/plain": "<Figure size 432x288 with 0 Axes>"
     },
     "metadata": {},
     "output_type": "display_data"
    }
   ],
   "source": [
    "# Install a conda package in the current Jupyter kernel\n",
    "import sys\n",
    "!{sys.executable} -m pip install missingno\n",
    "\n",
    "# work with data in tabular representation\n",
    "from datetime import time\n",
    "\n",
    "import pandas as pd\n",
    "# round the data in the correlation matrix\n",
    "import numpy as np\n",
    "# module for regular expression\n",
    "import re\n",
    "\n",
    "# Modules for data visualization\n",
    "import seaborn as sns\n",
    "import missingno as msno\n",
    "import matplotlib.pyplot as plt\n",
    "import matplotlib.patches as mpatches\n",
    "\n",
    "from scipy.stats import skew  # for some statistics\n",
    "import matplotlib.style as style\n",
    "from xgboost import sklearn\n",
    "import statsmodels.api as sm\n",
    "\n",
    "pd.set_option('display.max_rows', 200)\n",
    "pd.set_option('display.max_columns', 200)\n",
    "\n",
    "plt.rcParams['figure.figsize'] = [6, 6]\n",
    "\n",
    "# Ensure that our plots are shown and embedded within the Jupyter notebook itself. Without this command, sometimes plots may show up in pop-up windows\n",
    "%matplotlib inline\n",
    "\n",
    "# run a python file\n",
    "%run function.py\n",
    "\n",
    "# overwrite the style of all the matplotlib graphs\n",
    "sns.set()\n",
    "\n",
    "# ignore DeprecationWarning Error Messages\n",
    "import warnings\n",
    "warnings.filterwarnings('ignore')"
   ]
  },
  {
   "cell_type": "code",
   "execution_count": 517,
   "outputs": [
    {
     "name": "stdout",
     "output_type": "stream",
     "text": [
      "1.19.5\n",
      "1.3.4\n"
     ]
    }
   ],
   "source": [
    "# check the version of the packages\n",
    "print(np.__version__)\n",
    "print(pd.__version__)"
   ],
   "metadata": {
    "collapsed": false,
    "pycharm": {
     "name": "#%%\n"
    }
   }
  },
  {
   "cell_type": "markdown",
   "id": "fd159fe9",
   "metadata": {},
   "source": [
    "<p> In order to have an accurate result, data prepration step must be done precisely. First of all, data from the csv file which is named \"VN_housing_dataset.csv\" is loaded by \"read_csv\" in pandas function. After that, all the data types must be checked to ensure no column has incorrect data types assigned. Having been checked the data types, the loaded data is cleaned by 6 steps which are typos, extra-whitespaces, upper/lower-case, sanity checks, missing values, and categorical data </p>"
   ]
  },
  {
   "cell_type": "markdown",
   "id": "aa5db9b0",
   "metadata": {},
   "source": [
    "# Data Retrieving\n",
    "***\n",
    "In order to load data properly, the data in csv file have to be examined carefully. First of all, all the categories are seperated by the \",\" and strip the extra-whitespaces at the begin by setting \"skipinitialspace = True\"."
   ]
  },
  {
   "cell_type": "code",
   "execution_count": 518,
   "id": "a6782ad0",
   "metadata": {},
   "outputs": [
    {
     "name": "stdout",
     "output_type": "stream",
     "text": [
      "Wall time: 0 ns\n"
     ]
    },
    {
     "data": {
      "text/plain": "         Ngày                                            Địa chỉ  \\\n0  2020-08-05  Đường Hoàng Quốc Việt, Phường Nghĩa Đô, Quận C...   \n1  2020-08-05  Đường Kim Giang, Phường Kim Giang, Quận Thanh ...   \n2  2020-08-05  phố minh khai, Phường Minh Khai, Quận Hai Bà T...   \n\n                Quận             Huyện        Loại hình nhà ở Giấy tờ pháp lý  \\\n0      Quận Cầu Giấy   Phường Nghĩa Đô           Nhà ngõ, hẻm        Đã có sổ   \n1    Quận Thanh Xuân  Phường Kim Giang  Nhà mặt phố, mặt tiền             NaN   \n2  Quận Hai Bà Trưng  Phường Minh Khai           Nhà ngõ, hẻm        Đã có sổ   \n\n  Số tầng Số phòng ngủ Diện tích   Dài Rộng           Giá/m2  \n0       4      5 phòng     46 m²   NaN  NaN   86,96 triệu/m²  \n1     NaN      3 phòng     37 m²   NaN  NaN  116,22 triệu/m²  \n2       4      4 phòng     40 m²  10 m  4 m      65 triệu/m²  ",
      "text/html": "<div>\n<style scoped>\n    .dataframe tbody tr th:only-of-type {\n        vertical-align: middle;\n    }\n\n    .dataframe tbody tr th {\n        vertical-align: top;\n    }\n\n    .dataframe thead th {\n        text-align: right;\n    }\n</style>\n<table border=\"1\" class=\"dataframe\">\n  <thead>\n    <tr style=\"text-align: right;\">\n      <th></th>\n      <th>Ngày</th>\n      <th>Địa chỉ</th>\n      <th>Quận</th>\n      <th>Huyện</th>\n      <th>Loại hình nhà ở</th>\n      <th>Giấy tờ pháp lý</th>\n      <th>Số tầng</th>\n      <th>Số phòng ngủ</th>\n      <th>Diện tích</th>\n      <th>Dài</th>\n      <th>Rộng</th>\n      <th>Giá/m2</th>\n    </tr>\n  </thead>\n  <tbody>\n    <tr>\n      <th>0</th>\n      <td>2020-08-05</td>\n      <td>Đường Hoàng Quốc Việt, Phường Nghĩa Đô, Quận C...</td>\n      <td>Quận Cầu Giấy</td>\n      <td>Phường Nghĩa Đô</td>\n      <td>Nhà ngõ, hẻm</td>\n      <td>Đã có sổ</td>\n      <td>4</td>\n      <td>5 phòng</td>\n      <td>46 m²</td>\n      <td>NaN</td>\n      <td>NaN</td>\n      <td>86,96 triệu/m²</td>\n    </tr>\n    <tr>\n      <th>1</th>\n      <td>2020-08-05</td>\n      <td>Đường Kim Giang, Phường Kim Giang, Quận Thanh ...</td>\n      <td>Quận Thanh Xuân</td>\n      <td>Phường Kim Giang</td>\n      <td>Nhà mặt phố, mặt tiền</td>\n      <td>NaN</td>\n      <td>NaN</td>\n      <td>3 phòng</td>\n      <td>37 m²</td>\n      <td>NaN</td>\n      <td>NaN</td>\n      <td>116,22 triệu/m²</td>\n    </tr>\n    <tr>\n      <th>2</th>\n      <td>2020-08-05</td>\n      <td>phố minh khai, Phường Minh Khai, Quận Hai Bà T...</td>\n      <td>Quận Hai Bà Trưng</td>\n      <td>Phường Minh Khai</td>\n      <td>Nhà ngõ, hẻm</td>\n      <td>Đã có sổ</td>\n      <td>4</td>\n      <td>4 phòng</td>\n      <td>40 m²</td>\n      <td>10 m</td>\n      <td>4 m</td>\n      <td>65 triệu/m²</td>\n    </tr>\n  </tbody>\n</table>\n</div>"
     },
     "execution_count": 518,
     "metadata": {},
     "output_type": "execute_result"
    }
   ],
   "source": [
    "%time\n",
    "# import test dataset\n",
    "df = pd.read_csv('./VN_housing_dataset.csv', delimiter=',', skipinitialspace = True)\n",
    "df.drop('Unnamed: 0', 1, inplace=True)\n",
    "df.head(3)"
   ]
  },
  {
   "cell_type": "markdown",
   "id": "0ba214bf",
   "metadata": {},
   "source": [
    "## Rename column\n",
    "***\n",
    "Since these columns are in Vietnamese so translate into English will be more straightforward in later process. We will also analyse the column meaning:\n",
    "- The 'Ngày' will be the date which will contain all the day, month, year value\n",
    "- The 'Địa chỉ' will be the address which contains the street, ward, district, city\n",
    "- The 'Quận' is district\n",
    "- The 'Huyện' is not suppose to be the ward. However, the content they have is actually the ward\n",
    "- The 'Loại hình nhà ở' is a type of house which depends on the location such as villa, house in the main street, house in the alley, or townhouse.\n",
    "- The 'Giấy tờ pháp lý' is the legal document either already have, or on waiting, or others documents.\n",
    "- The 'Số tầng' is the number of floor\n",
    "- The 'Số phòng ngủ' is the number of bedroom\n",
    "- The 'Diện tích' is the area unit in meter square\n",
    "- The 'Dài' is the length unit in meter\n",
    "- The 'Rộng' is the width unit in meter\n",
    "- The 'Giá/m2' is the price in million VND per meter square"
   ]
  },
  {
   "cell_type": "code",
   "execution_count": 519,
   "id": "5f50c7f8",
   "metadata": {},
   "outputs": [
    {
     "data": {
      "text/plain": "         Date                                            Address  \\\n0  2020-08-05  Đường Hoàng Quốc Việt, Phường Nghĩa Đô, Quận C...   \n1  2020-08-05  Đường Kim Giang, Phường Kim Giang, Quận Thanh ...   \n2  2020-08-05  phố minh khai, Phường Minh Khai, Quận Hai Bà T...   \n\n            District              Ward             House_type Legal_documents  \\\n0      Quận Cầu Giấy   Phường Nghĩa Đô           Nhà ngõ, hẻm        Đã có sổ   \n1    Quận Thanh Xuân  Phường Kim Giang  Nhà mặt phố, mặt tiền             NaN   \n2  Quận Hai Bà Trưng  Phường Minh Khai           Nhà ngõ, hẻm        Đã có sổ   \n\n  No_floor No_bedroom   Area Length Width            Price  \n0        4    5 phòng  46 m²    NaN   NaN   86,96 triệu/m²  \n1      NaN    3 phòng  37 m²    NaN   NaN  116,22 triệu/m²  \n2        4    4 phòng  40 m²   10 m   4 m      65 triệu/m²  ",
      "text/html": "<div>\n<style scoped>\n    .dataframe tbody tr th:only-of-type {\n        vertical-align: middle;\n    }\n\n    .dataframe tbody tr th {\n        vertical-align: top;\n    }\n\n    .dataframe thead th {\n        text-align: right;\n    }\n</style>\n<table border=\"1\" class=\"dataframe\">\n  <thead>\n    <tr style=\"text-align: right;\">\n      <th></th>\n      <th>Date</th>\n      <th>Address</th>\n      <th>District</th>\n      <th>Ward</th>\n      <th>House_type</th>\n      <th>Legal_documents</th>\n      <th>No_floor</th>\n      <th>No_bedroom</th>\n      <th>Area</th>\n      <th>Length</th>\n      <th>Width</th>\n      <th>Price</th>\n    </tr>\n  </thead>\n  <tbody>\n    <tr>\n      <th>0</th>\n      <td>2020-08-05</td>\n      <td>Đường Hoàng Quốc Việt, Phường Nghĩa Đô, Quận C...</td>\n      <td>Quận Cầu Giấy</td>\n      <td>Phường Nghĩa Đô</td>\n      <td>Nhà ngõ, hẻm</td>\n      <td>Đã có sổ</td>\n      <td>4</td>\n      <td>5 phòng</td>\n      <td>46 m²</td>\n      <td>NaN</td>\n      <td>NaN</td>\n      <td>86,96 triệu/m²</td>\n    </tr>\n    <tr>\n      <th>1</th>\n      <td>2020-08-05</td>\n      <td>Đường Kim Giang, Phường Kim Giang, Quận Thanh ...</td>\n      <td>Quận Thanh Xuân</td>\n      <td>Phường Kim Giang</td>\n      <td>Nhà mặt phố, mặt tiền</td>\n      <td>NaN</td>\n      <td>NaN</td>\n      <td>3 phòng</td>\n      <td>37 m²</td>\n      <td>NaN</td>\n      <td>NaN</td>\n      <td>116,22 triệu/m²</td>\n    </tr>\n    <tr>\n      <th>2</th>\n      <td>2020-08-05</td>\n      <td>phố minh khai, Phường Minh Khai, Quận Hai Bà T...</td>\n      <td>Quận Hai Bà Trưng</td>\n      <td>Phường Minh Khai</td>\n      <td>Nhà ngõ, hẻm</td>\n      <td>Đã có sổ</td>\n      <td>4</td>\n      <td>4 phòng</td>\n      <td>40 m²</td>\n      <td>10 m</td>\n      <td>4 m</td>\n      <td>65 triệu/m²</td>\n    </tr>\n  </tbody>\n</table>\n</div>"
     },
     "execution_count": 519,
     "metadata": {},
     "output_type": "execute_result"
    }
   ],
   "source": [
    "df.columns = [\n",
    "    'Date', 'Address', 'District',\n",
    "    'Ward', 'House_type', 'Legal_documents', \n",
    "    'No_floor', 'No_bedroom', 'Area', 'Length', 'Width', 'Price']\n",
    "df.head(3)"
   ]
  },
  {
   "cell_type": "markdown",
   "id": "d9a65393",
   "metadata": {},
   "source": [
    "<a id=\"2\"></a>\n",
    "<h1 style=\"color:#ffc0cb;font-size:40px;font-family:Georgia;text-align:center;\"><strong>2. Data Cleaning</strong></h1>"
   ]
  },
  {
   "cell_type": "markdown",
   "id": "1611d05b",
   "metadata": {},
   "source": [
    "## About This Dataset\n",
    "***\n",
    "\n",
    "Now let's go through the features and describe a little. There is a couple of different type of variables, They are...\n",
    "***\n",
    "**Categorical:**\n",
    "- **Nominal**\n",
    "    > - **Address**\n",
    "    > - **District**\n",
    "    > - **Ward**\n",
    "    > - **Housing_type**\n",
    "    > - **Legal_documents**\n",
    "- **Ordinal**\n",
    "    > - **No_room**\n",
    "    > - **No_floor**\n",
    "***\n",
    "**Numeric:**\n",
    "- **Continuous**\n",
    "  >  - **Area**\n",
    "  >  - **Length**\n",
    "  >  - **Width**  \n",
    "  >  - **Price**\n",
    "***\n",
    "**Date/time:**\n",
    "- **Date**(Nominal variable)"
   ]
  },
  {
   "cell_type": "markdown",
   "id": "852630f6",
   "metadata": {},
   "source": [
    "## Data types\n",
    "***"
   ]
  },
  {
   "cell_type": "markdown",
   "id": "f16e5cd1",
   "metadata": {},
   "source": [
    "### Change data types"
   ]
  },
  {
   "cell_type": "code",
   "execution_count": 520,
   "id": "71ed5abb",
   "metadata": {},
   "outputs": [
    {
     "data": {
      "text/plain": "                                             Address           District  \\\n0  Đường Hoàng Quốc Việt, Phường Nghĩa Đô, Quận C...      Quận Cầu Giấy   \n1  Đường Kim Giang, Phường Kim Giang, Quận Thanh ...    Quận Thanh Xuân   \n2  phố minh khai, Phường Minh Khai, Quận Hai Bà T...  Quận Hai Bà Trưng   \n\n               Ward             House_type Legal_documents No_floor  \\\n0   Phường Nghĩa Đô           Nhà ngõ, hẻm        Đã có sổ        4   \n1  Phường Kim Giang  Nhà mặt phố, mặt tiền             NaN      NaN   \n2  Phường Minh Khai           Nhà ngõ, hẻm        Đã có sổ        4   \n\n  No_bedroom   Area Length Width            Price Day_Of_Week Month  Year  \n0    5 phòng  46 m²    NaN   NaN   86,96 triệu/m²   Wednesday    08  2020  \n1    3 phòng  37 m²    NaN   NaN  116,22 triệu/m²   Wednesday    08  2020  \n2    4 phòng  40 m²   10 m   4 m      65 triệu/m²   Wednesday    08  2020  ",
      "text/html": "<div>\n<style scoped>\n    .dataframe tbody tr th:only-of-type {\n        vertical-align: middle;\n    }\n\n    .dataframe tbody tr th {\n        vertical-align: top;\n    }\n\n    .dataframe thead th {\n        text-align: right;\n    }\n</style>\n<table border=\"1\" class=\"dataframe\">\n  <thead>\n    <tr style=\"text-align: right;\">\n      <th></th>\n      <th>Address</th>\n      <th>District</th>\n      <th>Ward</th>\n      <th>House_type</th>\n      <th>Legal_documents</th>\n      <th>No_floor</th>\n      <th>No_bedroom</th>\n      <th>Area</th>\n      <th>Length</th>\n      <th>Width</th>\n      <th>Price</th>\n      <th>Day_Of_Week</th>\n      <th>Month</th>\n      <th>Year</th>\n    </tr>\n  </thead>\n  <tbody>\n    <tr>\n      <th>0</th>\n      <td>Đường Hoàng Quốc Việt, Phường Nghĩa Đô, Quận C...</td>\n      <td>Quận Cầu Giấy</td>\n      <td>Phường Nghĩa Đô</td>\n      <td>Nhà ngõ, hẻm</td>\n      <td>Đã có sổ</td>\n      <td>4</td>\n      <td>5 phòng</td>\n      <td>46 m²</td>\n      <td>NaN</td>\n      <td>NaN</td>\n      <td>86,96 triệu/m²</td>\n      <td>Wednesday</td>\n      <td>08</td>\n      <td>2020</td>\n    </tr>\n    <tr>\n      <th>1</th>\n      <td>Đường Kim Giang, Phường Kim Giang, Quận Thanh ...</td>\n      <td>Quận Thanh Xuân</td>\n      <td>Phường Kim Giang</td>\n      <td>Nhà mặt phố, mặt tiền</td>\n      <td>NaN</td>\n      <td>NaN</td>\n      <td>3 phòng</td>\n      <td>37 m²</td>\n      <td>NaN</td>\n      <td>NaN</td>\n      <td>116,22 triệu/m²</td>\n      <td>Wednesday</td>\n      <td>08</td>\n      <td>2020</td>\n    </tr>\n    <tr>\n      <th>2</th>\n      <td>phố minh khai, Phường Minh Khai, Quận Hai Bà T...</td>\n      <td>Quận Hai Bà Trưng</td>\n      <td>Phường Minh Khai</td>\n      <td>Nhà ngõ, hẻm</td>\n      <td>Đã có sổ</td>\n      <td>4</td>\n      <td>4 phòng</td>\n      <td>40 m²</td>\n      <td>10 m</td>\n      <td>4 m</td>\n      <td>65 triệu/m²</td>\n      <td>Wednesday</td>\n      <td>08</td>\n      <td>2020</td>\n    </tr>\n  </tbody>\n</table>\n</div>"
     },
     "execution_count": 520,
     "metadata": {},
     "output_type": "execute_result"
    }
   ],
   "source": [
    "# Cast date columns to the Date data type\n",
    "df['Date'] = pd.to_datetime(df['Date'])\n",
    "\n",
    "# Show days of the week into a separated column\n",
    "df['Day_Of_Week'] = df['Date'].dt.day_name()\n",
    "\n",
    "# Cast Date columns to the string data type in order to slice data later\n",
    "df['Date'] = df['Date'].astype(str)\n",
    "\n",
    "# slice the column to get the year and month in a new column\n",
    "def get_years(df, column):\n",
    "    return df[column].apply(lambda date: date[0:4])\n",
    "\n",
    "def get_months(df, column):\n",
    "    return df[column].apply(lambda date: date[5:7])\n",
    "\n",
    "df['Month'] = get_months(df, 'Date')\n",
    "df['Year'] = get_years(df, 'Date')\n",
    "\n",
    "# Drop original columns\n",
    "df = df.drop(['Date'], axis=1)\n",
    "\n",
    "df.head(3)"
   ]
  },
  {
   "cell_type": "code",
   "execution_count": 521,
   "id": "78a01b23",
   "metadata": {},
   "outputs": [
    {
     "data": {
      "text/plain": "Address             object\nDistrict            object\nWard                object\nHouse_type          object\nLegal_documents     object\nNo_floor            object\nNo_bedroom          object\nArea               float64\nLength             float64\nWidth              float64\nPrice              float64\nDay_Of_Week         object\nMonth               object\nYear                object\ndtype: object"
     },
     "execution_count": 521,
     "metadata": {},
     "output_type": "execute_result"
    }
   ],
   "source": [
    "df['Area'] = df['Area'].replace('\\sm²', '', regex=True)\n",
    "df['Length'] = df['Length'].replace('\\sm', '', regex=True)\n",
    "df['Width'] = df['Width'].replace('\\sm', '', regex=True)\n",
    "df['Price'] = df['Price'].replace('\\striệu/m²', '', regex=True).replace(',', '.', regex=True)\n",
    "\n",
    "# df is the DataFrame, and column_list is a list of columns as strings\n",
    "def coerce_df_columns_to_numeric(df, column_list):\n",
    "    df[column_list] = df[column_list].apply(pd.to_numeric, errors='coerce')\n",
    "    return df.dtypes\n",
    "\n",
    "coerce_df_columns_to_numeric(df, ['Area','Length', 'Width', 'Price'])"
   ]
  },
  {
   "cell_type": "markdown",
   "id": "537d5cdc",
   "metadata": {},
   "source": [
    "### Remove prefix & Typo check"
   ]
  },
  {
   "cell_type": "code",
   "execution_count": 522,
   "id": "ca39cf21",
   "metadata": {},
   "outputs": [
    {
     "name": "stdout",
     "output_type": "stream",
     "text": [
      "NUMBER OF CATEGORIES: 29; \n",
      "\n",
      "UNIQUE NAMES OF THE CATEGORIES ['Cầu Giấy' 'Thanh Xuân' 'Hai Bà Trưng' 'Tây Hồ' 'Đống Đa' 'Hà Đông'\n",
      " 'Huyện Thanh Trì' 'Hoàng Mai' 'Long Biên' 'Hoàn Kiếm' 'Nam Từ Liêm'\n",
      " 'Ba Đình' 'Huyện Hoài Đức' 'Bắc Từ Liêm' 'Huyện Đan Phượng'\n",
      " 'Huyện Thanh Oai' 'Huyện Sóc Sơn' 'Huyện Gia Lâm' 'Huyện Chương Mỹ'\n",
      " 'Huyện Đông Anh' 'Huyện Thường Tín' 'Thị xã Sơn Tây' 'Huyện Mê Linh'\n",
      " 'Huyện Thạch Thất' 'Huyện Quốc Oai' 'Huyện Phúc Thọ' 'Huyện Phú Xuyên'\n",
      " 'Huyện Ba Vì' nan 'Huyện Mỹ Đức']\n",
      "\n",
      "\n",
      "\n"
     ]
    }
   ],
   "source": [
    "df['District'] = df['District'].replace('Quận\\s', '', regex=True)\n",
    "# print out list of District types\n",
    "print(f'NUMBER OF CATEGORIES: {df.District.nunique()}; \\n\\nUNIQUE NAMES OF THE CATEGORIES {df.District.unique()}\\n\\n\\n')"
   ]
  },
  {
   "cell_type": "code",
   "execution_count": 523,
   "id": "e07306ee",
   "metadata": {
    "scrolled": false
   },
   "outputs": [
    {
     "name": "stdout",
     "output_type": "stream",
     "text": [
      "NUMBER OF CATEGORIES: 305; \n",
      "\n",
      "UNIQUE NAMES OF THE CATEGORIES ['Nghĩa Đô' 'Kim Giang' 'Minh Khai' 'Thụy Khuê' 'Yên Hoà' 'Trung Liệt'\n",
      " 'Đống Mác' 'Xuân La' 'Văn Quán' 'Thị trấn Văn Điển' 'Định Công' 'Bồ Đề'\n",
      " 'Quang Trung' 'Thanh Lương' 'Khương Trung' 'Phúc Tân' 'Gia Thụy'\n",
      " 'Khương Đình' 'Phương Canh' 'Tương Mai' 'La Khê' 'Mễ Trì' 'Khương Mai'\n",
      " 'Láng Hạ' 'Quan Hoa' 'Tây Mỗ' 'Ngọc Khánh' 'Đại Mỗ' 'Tả Thanh Oai'\n",
      " 'Mỹ Đình 1' 'Tam Hiệp' 'Cống Vị' 'Bách Khoa' 'Vĩnh Phúc' 'Kim Chung'\n",
      " 'Đại Kim' 'Mai Động' 'Trung Tự' 'Kiến Hưng' 'Trúc Bạch' 'Cổ Nhuế 1'\n",
      " 'Đức Giang' 'Mỹ Đình 2' 'Bưởi' 'Ô Chợ Dừa' 'Long Biên' 'Hoàng Văn Thụ'\n",
      " 'Mai Dịch' 'Nhân Chính' 'Vạn Phúc' 'Ngọc Hà' 'Lĩnh Nam' 'Xuân Đỉnh'\n",
      " 'Phú Đô' 'Liễu Giai' 'Thị trấn Phùng' 'Kim Liên' 'Phúc Diễn' 'Kim Mã'\n",
      " 'Trung Phụng' 'Tân Mai' 'Cầu Diễn' 'Ngã Tư Sở' 'Trung Văn' 'Thượng Đình'\n",
      " 'Hoàng Liệt' 'Thịnh Liệt' 'Quốc Tử Giám' 'Khâm Thiên' 'Trương Định'\n",
      " 'Phú Diễn' 'Thạch Bàn' 'Ngọc Thụy' 'Cầu Dền' 'Phú Lương' 'Bạch Đằng'\n",
      " 'Phú La' 'Hà Cầu' 'Láng Thượng' 'Phương Liệt' 'Vĩnh Hưng' 'Thanh Nhàn'\n",
      " 'Cự Khối' 'Đội Cấn' 'Thịnh Quang' 'Trung Hoà' 'Quỳnh Mai' nan 'Nam Đồng'\n",
      " 'Dịch Vọng Hậu' 'Nghĩa Tân' 'Cự Khê' 'Vĩnh Tuy' 'Quảng An' 'Yên Nghĩa'\n",
      " 'Thành Công' 'Giáp Bát' 'Dịch Vọng' 'Thanh Xuân Bắc' 'Phương Mai'\n",
      " 'Bạch Mai' 'Thanh Trì' 'Thượng Thanh' 'Trần Phú' 'Nguyễn Trãi'\n",
      " 'Dương Nội' 'Hạ Đình' 'Thanh Xuân Nam' 'Vân Canh' 'Phù Lỗ' 'Phố Huế'\n",
      " 'Đồng Tâm' 'Xuân Phương' 'Phạm Đình Hổ' 'La Phù' 'Ngọc Lâm' 'Mộ Lao'\n",
      " 'Phú Thượng' 'Việt Hưng' 'Đông Ngạc' 'Thổ Quan' 'Lê Đại Hành'\n",
      " 'Khương Thượng' 'Phú Lãm' 'Cổ Bi' 'Biên Giang' 'Hàng Bột' 'Cổ Nhuế 2'\n",
      " 'Giảng Võ' 'Thị trấn Chúc Sơn' 'Kiêu Kỵ' 'Cát Linh' 'Quỳnh Lôi' 'Yên Sở'\n",
      " 'Đặng Xá' 'Yết Kiêu' 'Cửa Đông' 'Giang Biên' 'Chương Dương' 'Phúc La'\n",
      " 'Phúc Đồng' 'Thượng Cát' 'Phúc Xá' 'Văn Chương' 'Tứ Hiệp' 'Đông Dư'\n",
      " 'Thanh Xuân Trung' 'Phương Liên' 'Nhật Tân' 'Thị trấn Trạm Trôi'\n",
      " 'Sài Đồng' 'Tân Triều' 'Văn Miếu' 'Đông Hội' 'Phụng Châu'\n",
      " 'Thị trấn Trâu Quỳ' 'Quán Thánh' 'Phúc Lợi' 'Hữu Hoà' 'Đồng Nhân'\n",
      " 'Ngô Thì Nhậm' 'Đồng Mai' 'Đông La' 'Liên Mạc' 'Ngọc Hồi' 'Bùi Thị Xuân'\n",
      " 'Xuân Tảo' 'Yên Phụ' 'Thanh Liệt' 'Thụy Phương' 'Hàng Bông'\n",
      " 'Nghiêm Xuyên' 'Nguyễn Du' 'Tứ Liên' 'Phan Chu Trinh' 'Vĩnh Quỳnh'\n",
      " 'Cửa Nam' 'Di Trạch' 'Hàng Bồ' 'Võng La' 'Điện Biên' 'Bắc Hồng' 'Hải Bối'\n",
      " 'Đại Yên' 'Ngô Quyền' 'Trần Hưng Đạo' 'Liên Ninh' 'Hàng Bài' 'Đông Mỹ'\n",
      " 'Đức Thắng' 'Tràng Tiền' 'Hàng Bạc' 'Ngũ Hiệp' 'An Thượng' 'Hàng Đào'\n",
      " 'Yên Thường' 'Duyên Hà' 'Đồng Xuân' 'Lý Thái Tổ' 'An Khánh'\n",
      " 'Thị trấn Yên Viên' 'Hàng Buồm' 'Lại Yên' 'Bích Hòa'\n",
      " 'Thị trấn Quang Minh' 'Thị trấn Kim Bài' 'Khánh Hà' 'Tây Tựu'\n",
      " 'Thủy Xuân Tiên' 'Kim Nỗ' 'Hàng Trống' 'Tân Lập' 'Đại Thịnh' 'Hàng Mã'\n",
      " 'Bình Yên' 'Phú Cường' 'Đa Tốn' 'Minh Phú' 'Nguyễn Trung Trực'\n",
      " 'Thị trấn Quốc Oai' 'Thị trấn Thường Tín' 'Phú Thịnh' 'Đại áng'\n",
      " 'Võng Xuyên' 'Phú Mãn' 'Thị trấn Phú Xuyên' 'Hà Hồi' 'Phú Châu' 'Cổ Đông'\n",
      " 'Vân Côn' 'Xuân Giang' 'Tam Đồng' 'Dương Quang' 'Thị trấn Đông Anh'\n",
      " 'Đông Yên' 'Vân Nội' 'Tiên Dược' 'Hương Ngải' 'Ngọc Liệp' 'Nhị Khê'\n",
      " 'Thị trấn Xuân Mai' 'Bát Tràng' 'Nam Hồng' 'Thạch Hoà' 'Tam Hưng'\n",
      " 'Nguyên Khê' 'Sài Sơn' 'Ninh Hiệp' 'Uy Nỗ' 'Viên Sơn' 'Ninh Sở'\n",
      " 'Phương Trung' 'Vĩnh Ngọc' 'Đại Mạch' 'Kim Sơn' 'Phú Cát' 'Duyên Thái'\n",
      " 'Vân Hòa' 'Trung Sơn Trầm' 'Dương Xá' 'Xuân Nộn' 'Việt Hùng' 'Sơn Đông'\n",
      " 'Văn Bình' 'Hàng Gai' 'Thanh Cao' 'Mai Đình' 'Đông Xuân' 'Mai Lâm'\n",
      " 'Sơn Đồng' 'Tân Xã' 'Xuân Khanh' 'Thượng Mỗ' 'Nghĩa Hương' 'Dương Liễu'\n",
      " 'Đức Thượng' 'Kim Hoa' 'Tiền Phong' 'Bình Phú' 'Dục Tú' 'Yên Viên'\n",
      " 'Đồng Quang' 'Quang Tiến' 'Đại Thành' 'Hòa Thạch' 'Tiến Xuân' 'Phù Linh'\n",
      " 'Đỗ Động' 'Phú Minh' 'Tiên Dương' 'Hợp Thanh' 'Minh Trí' 'Tân Hội'\n",
      " 'Thanh Xuân' 'Song Phương' 'Lê Lợi' 'Thị trấn Sóc Sơn'\n",
      " 'Thị trấn Liên Quan' 'Mê Linh' 'Đan Phượng' 'Vân Tảo' 'Đình Xuyên'\n",
      " 'Phù Đổng' 'Phú Sơn' 'Ngọc Tảo' 'Phương Đình']\n",
      "\n",
      "\n",
      "\n"
     ]
    }
   ],
   "source": [
    "df['Ward'] = df['Ward'].replace('Phường\\s', '', regex=True)\n",
    "df['Ward'] = df['Ward'].replace('Xã\\s', '', regex=True)\n",
    "\n",
    "# print out list of Ward types\n",
    "print(f'NUMBER OF CATEGORIES: {df.Ward.nunique()}; \\n\\nUNIQUE NAMES OF THE CATEGORIES {df.Ward.unique()}\\n\\n\\n')"
   ]
  },
  {
   "cell_type": "code",
   "execution_count": 524,
   "id": "31ac7bd4",
   "metadata": {},
   "outputs": [
    {
     "name": "stdout",
     "output_type": "stream",
     "text": [
      "NUMBER OF CATEGORIES: 4; \n",
      "\n",
      "UNIQUE NAMES OF THE CATEGORIES ['Nhà ngõ, hẻm' 'Nhà mặt phố, mặt tiền' 'Nhà biệt thự' 'Nhà phố liền kề'\n",
      " nan]\n",
      "\n",
      "\n",
      "\n"
     ]
    }
   ],
   "source": [
    "# print out list of House_type types\n",
    "print(f'NUMBER OF CATEGORIES: {df.House_type.nunique()}; \\n\\nUNIQUE NAMES OF THE CATEGORIES {df.House_type.unique()}\\n\\n\\n')"
   ]
  },
  {
   "cell_type": "code",
   "execution_count": 525,
   "id": "380a9293",
   "metadata": {},
   "outputs": [
    {
     "name": "stdout",
     "output_type": "stream",
     "text": [
      "NUMBER OF CATEGORIES: 3; \n",
      "\n",
      "UNIQUE NAMES OF THE CATEGORIES ['Đã có sổ' nan 'Đang chờ sổ' 'Giấy tờ khác']\n",
      "\n",
      "\n",
      "\n"
     ]
    }
   ],
   "source": [
    "# print out list of Legal_documents types\n",
    "print(f'NUMBER OF CATEGORIES: {df.Legal_documents.nunique()}; \\n\\nUNIQUE NAMES OF THE CATEGORIES {df.Legal_documents.unique()}\\n\\n\\n')"
   ]
  },
  {
   "cell_type": "code",
   "execution_count": 526,
   "id": "bf32da3a",
   "metadata": {},
   "outputs": [
    {
     "name": "stdout",
     "output_type": "stream",
     "text": [
      "NUMBER OF CATEGORIES: 29; \n",
      "\n",
      "UNIQUE NAMES OF THE CATEGORIES ['4' nan '6' '5' '7' '2' '3' '8' '1' '9' '50' '38' '35' '10'\n",
      " 'Nhiều hơn 10' '45' '33' '42' '25' '73' '12' '65' '55' '30' '14' '40'\n",
      " '52' '54' '32' '29']\n",
      "\n",
      "\n",
      "\n"
     ]
    }
   ],
   "source": [
    "# print out list of No_floor types\n",
    "print(f'NUMBER OF CATEGORIES: {df.No_floor.nunique()}; \\n\\nUNIQUE NAMES OF THE CATEGORIES {df.No_floor.unique()}\\n\\n\\n')"
   ]
  },
  {
   "cell_type": "code",
   "execution_count": 527,
   "id": "b1a2dedd",
   "metadata": {},
   "outputs": [
    {
     "name": "stdout",
     "output_type": "stream",
     "text": [
      "NUMBER OF CATEGORIES: 11; \n",
      "\n",
      "UNIQUE NAMES OF THE CATEGORIES ['5' '3' '4' '6' 'nhiều hơn 10' '8' '2' '7' '9' '1' '10' nan]\n",
      "\n",
      "\n",
      "\n"
     ]
    }
   ],
   "source": [
    "df['No_bedroom'] = df['No_bedroom'].replace('\\sphòng', '', regex=True)\n",
    "\n",
    "# print out list of No_bedroom types\n",
    "print(f'NUMBER OF CATEGORIES: {df.No_bedroom.nunique()}; \\n\\nUNIQUE NAMES OF THE CATEGORIES {df.No_bedroom.unique()}\\n\\n\\n')"
   ]
  },
  {
   "cell_type": "markdown",
   "id": "127dbf3c",
   "metadata": {},
   "source": [
    "### Translate the content"
   ]
  },
  {
   "cell_type": "code",
   "execution_count": 528,
   "id": "af118efa",
   "metadata": {},
   "outputs": [
    {
     "data": {
      "text/plain": "                                             Address      District       Ward  \\\n0  Đường Hoàng Quốc Việt, Phường Nghĩa Đô, Quận C...      Cầu Giấy   Nghĩa Đô   \n1  Đường Kim Giang, Phường Kim Giang, Quận Thanh ...    Thanh Xuân  Kim Giang   \n2  phố minh khai, Phường Minh Khai, Quận Hai Bà T...  Hai Bà Trưng  Minh Khai   \n\n     House_type Legal_documents No_floor No_bedroom  Area  Length  Width  \\\n0        byroad       available        4          5  46.0     NaN    NaN   \n1  street_house             NaN      NaN          3  37.0     NaN    NaN   \n2        byroad       available        4          4  40.0    10.0    4.0   \n\n    Price Day_Of_Week Month  Year  \n0   86.96   Wednesday    08  2020  \n1  116.22   Wednesday    08  2020  \n2   65.00   Wednesday    08  2020  ",
      "text/html": "<div>\n<style scoped>\n    .dataframe tbody tr th:only-of-type {\n        vertical-align: middle;\n    }\n\n    .dataframe tbody tr th {\n        vertical-align: top;\n    }\n\n    .dataframe thead th {\n        text-align: right;\n    }\n</style>\n<table border=\"1\" class=\"dataframe\">\n  <thead>\n    <tr style=\"text-align: right;\">\n      <th></th>\n      <th>Address</th>\n      <th>District</th>\n      <th>Ward</th>\n      <th>House_type</th>\n      <th>Legal_documents</th>\n      <th>No_floor</th>\n      <th>No_bedroom</th>\n      <th>Area</th>\n      <th>Length</th>\n      <th>Width</th>\n      <th>Price</th>\n      <th>Day_Of_Week</th>\n      <th>Month</th>\n      <th>Year</th>\n    </tr>\n  </thead>\n  <tbody>\n    <tr>\n      <th>0</th>\n      <td>Đường Hoàng Quốc Việt, Phường Nghĩa Đô, Quận C...</td>\n      <td>Cầu Giấy</td>\n      <td>Nghĩa Đô</td>\n      <td>byroad</td>\n      <td>available</td>\n      <td>4</td>\n      <td>5</td>\n      <td>46.0</td>\n      <td>NaN</td>\n      <td>NaN</td>\n      <td>86.96</td>\n      <td>Wednesday</td>\n      <td>08</td>\n      <td>2020</td>\n    </tr>\n    <tr>\n      <th>1</th>\n      <td>Đường Kim Giang, Phường Kim Giang, Quận Thanh ...</td>\n      <td>Thanh Xuân</td>\n      <td>Kim Giang</td>\n      <td>street_house</td>\n      <td>NaN</td>\n      <td>NaN</td>\n      <td>3</td>\n      <td>37.0</td>\n      <td>NaN</td>\n      <td>NaN</td>\n      <td>116.22</td>\n      <td>Wednesday</td>\n      <td>08</td>\n      <td>2020</td>\n    </tr>\n    <tr>\n      <th>2</th>\n      <td>phố minh khai, Phường Minh Khai, Quận Hai Bà T...</td>\n      <td>Hai Bà Trưng</td>\n      <td>Minh Khai</td>\n      <td>byroad</td>\n      <td>available</td>\n      <td>4</td>\n      <td>4</td>\n      <td>40.0</td>\n      <td>10.0</td>\n      <td>4.0</td>\n      <td>65.00</td>\n      <td>Wednesday</td>\n      <td>08</td>\n      <td>2020</td>\n    </tr>\n  </tbody>\n</table>\n</div>"
     },
     "execution_count": 528,
     "metadata": {},
     "output_type": "execute_result"
    }
   ],
   "source": [
    "# Translate the content from Vietnamese into English\n",
    "\n",
    "df['House_type'].replace('Nhà ngõ, hẻm', 'byroad', inplace=True)\n",
    "df['House_type'].replace('Nhà mặt phố, mặt tiền', 'street_house', inplace=True)\n",
    "df['House_type'].replace('Nhà biệt thự', 'villa', inplace=True)\n",
    "df['House_type'].replace('Nhà phố liền kề', 'townhouse', inplace=True)\n",
    "\n",
    "df['Legal_documents'].replace('Đã có sổ', 'available', inplace=True)\n",
    "df['Legal_documents'].replace('Đang chờ sổ', 'waiting', inplace=True)\n",
    "df['Legal_documents'].replace('Giấy tờ khác', 'others', inplace=True)\n",
    "\n",
    "df['No_floor'].replace('Nhiều hơn 10', 'greater_than_10', inplace=True)\n",
    "\n",
    "df['No_bedroom'].replace('nhiều hơn 10', 'greater_than_10', inplace=True)\n",
    "\n",
    "df.head(3)"
   ]
  },
  {
   "cell_type": "markdown",
   "id": "ca6ff1a6",
   "metadata": {},
   "source": [
    "### Lowercase"
   ]
  },
  {
   "cell_type": "code",
   "execution_count": 529,
   "id": "b53642c0",
   "metadata": {},
   "outputs": [
    {
     "data": {
      "text/plain": "                                             Address      District       Ward  \\\n0  ĐƯỜNG HOÀNG QUỐC VIỆT, PHƯỜNG NGHĨA ĐÔ, QUẬN C...      CẦU GIẤY   NGHĨA ĐÔ   \n1  ĐƯỜNG KIM GIANG, PHƯỜNG KIM GIANG, QUẬN THANH ...    THANH XUÂN  KIM GIANG   \n2  PHỐ MINH KHAI, PHƯỜNG MINH KHAI, QUẬN HAI BÀ T...  HAI BÀ TRƯNG  MINH KHAI   \n\n     House_type Legal_documents No_floor No_bedroom  Area  Length  Width  \\\n0        BYROAD       AVAILABLE        4          5  46.0     NaN    NaN   \n1  STREET_HOUSE             NaN      NaN          3  37.0     NaN    NaN   \n2        BYROAD       AVAILABLE        4          4  40.0    10.0    4.0   \n\n    Price Day_Of_Week Month  Year  \n0   86.96   WEDNESDAY    08  2020  \n1  116.22   WEDNESDAY    08  2020  \n2   65.00   WEDNESDAY    08  2020  ",
      "text/html": "<div>\n<style scoped>\n    .dataframe tbody tr th:only-of-type {\n        vertical-align: middle;\n    }\n\n    .dataframe tbody tr th {\n        vertical-align: top;\n    }\n\n    .dataframe thead th {\n        text-align: right;\n    }\n</style>\n<table border=\"1\" class=\"dataframe\">\n  <thead>\n    <tr style=\"text-align: right;\">\n      <th></th>\n      <th>Address</th>\n      <th>District</th>\n      <th>Ward</th>\n      <th>House_type</th>\n      <th>Legal_documents</th>\n      <th>No_floor</th>\n      <th>No_bedroom</th>\n      <th>Area</th>\n      <th>Length</th>\n      <th>Width</th>\n      <th>Price</th>\n      <th>Day_Of_Week</th>\n      <th>Month</th>\n      <th>Year</th>\n    </tr>\n  </thead>\n  <tbody>\n    <tr>\n      <th>0</th>\n      <td>ĐƯỜNG HOÀNG QUỐC VIỆT, PHƯỜNG NGHĨA ĐÔ, QUẬN C...</td>\n      <td>CẦU GIẤY</td>\n      <td>NGHĨA ĐÔ</td>\n      <td>BYROAD</td>\n      <td>AVAILABLE</td>\n      <td>4</td>\n      <td>5</td>\n      <td>46.0</td>\n      <td>NaN</td>\n      <td>NaN</td>\n      <td>86.96</td>\n      <td>WEDNESDAY</td>\n      <td>08</td>\n      <td>2020</td>\n    </tr>\n    <tr>\n      <th>1</th>\n      <td>ĐƯỜNG KIM GIANG, PHƯỜNG KIM GIANG, QUẬN THANH ...</td>\n      <td>THANH XUÂN</td>\n      <td>KIM GIANG</td>\n      <td>STREET_HOUSE</td>\n      <td>NaN</td>\n      <td>NaN</td>\n      <td>3</td>\n      <td>37.0</td>\n      <td>NaN</td>\n      <td>NaN</td>\n      <td>116.22</td>\n      <td>WEDNESDAY</td>\n      <td>08</td>\n      <td>2020</td>\n    </tr>\n    <tr>\n      <th>2</th>\n      <td>PHỐ MINH KHAI, PHƯỜNG MINH KHAI, QUẬN HAI BÀ T...</td>\n      <td>HAI BÀ TRƯNG</td>\n      <td>MINH KHAI</td>\n      <td>BYROAD</td>\n      <td>AVAILABLE</td>\n      <td>4</td>\n      <td>4</td>\n      <td>40.0</td>\n      <td>10.0</td>\n      <td>4.0</td>\n      <td>65.00</td>\n      <td>WEDNESDAY</td>\n      <td>08</td>\n      <td>2020</td>\n    </tr>\n  </tbody>\n</table>\n</div>"
     },
     "execution_count": 529,
     "metadata": {},
     "output_type": "execute_result"
    }
   ],
   "source": [
    "# Cast all values inside the dataframe (except the columns' name) into upper case.\n",
    "df = df.applymap(lambda s: s.upper() if type(s) == str else s)\n",
    "df.head(3)"
   ]
  },
  {
   "cell_type": "markdown",
   "id": "df1c7415",
   "metadata": {},
   "source": [
    "## Missing values\n",
    "Missing values can cause a lot of unexpected problems such as not reducing the power of a model, but also the negatively affect the performance of the studies and analysis of that data. Hence, it is important to deal with missing data. First step is to check the number of missing values of each column and fill in with the appropriate values. "
   ]
  },
  {
   "cell_type": "code",
   "execution_count": 530,
   "outputs": [
    {
     "name": "stdout",
     "output_type": "stream",
     "text": [
      "Missing values in the dataframe in descending: \n",
      "                  Total  Percent\n",
      "Length           62670    75.97\n",
      "Width            47052    57.03\n",
      "No_floor         46098    55.88\n",
      "Legal_documents  28887    35.02\n",
      "Price              871     1.06\n",
      "Address             48     0.06\n",
      "Ward                48     0.06\n",
      "No_bedroom          39     0.05\n",
      "House_type          32     0.04\n",
      "District             2      NaN\n",
      "Area                 2      NaN\n",
      "Day_Of_Week          1      NaN\n"
     ]
    },
    {
     "data": {
      "text/plain": "<Figure size 1800x720 with 2 Axes>",
      "image/png": "[encoded data removed]"
     },
     "metadata": {},
     "output_type": "display_data"
    }
   ],
   "source": [
    "def missing_percentage(df):\n",
    "    \"\"\"This function takes a DataFrame(df) as input and returns two columns, total missing values and total missing values percentage\"\"\"\n",
    "    total = df.isnull().sum().sort_values(ascending=False)[df.isnull().sum().sort_values(ascending=False) != 0]\n",
    "    percent = round(df.isnull().sum().sort_values(ascending=False) / len(df) * 100, 2)[\n",
    "        round(df.isnull().sum().sort_values(ascending=False) / len(df) * 100, 2) != 0]\n",
    "    return pd.concat([total, percent], axis=1, keys=['Total', 'Percent'])\n",
    "\n",
    "# display missing values in descending\n",
    "print(\"Missing values in the dataframe in descending: \\n\", missing_percentage(df).sort_values(by='Total', ascending=False))\n",
    "\n",
    "# visualize where the missing values are located\n",
    "msno.matrix(df, color=(255 / 255, 192 / 255, 203 / 255))\n",
    "pink_patch = mpatches.Patch(color='pink', label='present value')\n",
    "white_patch = mpatches.Patch(color='white', label='absent value')\n",
    "plt.legend(handles=[pink_patch, white_patch])\n",
    "plt.show()"
   ],
   "metadata": {
    "collapsed": false,
    "pycharm": {
     "name": "#%%\n"
    }
   }
  },
  {
   "cell_type": "markdown",
   "source": [
    "### ------> OBSERVATION\n",
    "\n",
    "<hr>\n",
    "\n",
    "+ Only a few missing values of the dataframes suggests that it MIGHT be missing completely at random due to a small number of missing values.\n",
    "\n",
    "District             2      NaN\n",
    "Area                 2      NaN\n",
    "Date                 1      NaN\n",
    "day_of_week          1      NaN\n",
    "\n",
    "\n",
    "#### I'm going to delete any missing column that IS COMPLETELY AT RANDOM (MCAR) AND has small number of missing values.\n",
    "#### From the graph, I can see a strong correlation the strong correlation between `No_floor`, `Length` and `Width`.\n",
    "\n",
    "\n",
    "<hr>"
   ],
   "metadata": {
    "collapsed": false
   }
  },
  {
   "cell_type": "code",
   "execution_count": 531,
   "outputs": [],
   "source": [
    "# Pairwise delete the rows\n",
    "df.dropna(subset=['District', 'Area', 'Day_Of_Week', 'Month', 'Year'], how='any', inplace=True)"
   ],
   "metadata": {
    "collapsed": false,
    "pycharm": {
     "name": "#%%\n"
    }
   }
  },
  {
   "cell_type": "markdown",
   "source": [
    "<br><br>\n",
    "<a id=\"2.2\"></a>\n",
    "# Task 2.2: Check data types & Make the data homogeneous\n",
    "The dtypes that pandas uses are: `float`, `int`, `bool`, `datetime`, `timedelta`, `category` and `object`. I modify data types in my DataFrames to help me transform them into more meaningful metrics\n",
    "\n",
    "+ Cast pandas objects to a specified dtype (string)¶\n",
    "+ Numeric data should have for example the same number of digits after the point."
   ],
   "metadata": {
    "collapsed": false
   }
  },
  {
   "cell_type": "code",
   "execution_count": 532,
   "outputs": [
    {
     "name": "stdout",
     "output_type": "stream",
     "text": [
      "The shape of the data BEFORE CONVERT is (row, column): (82494, 14)\n",
      "The data types BEFORE CONVERT are: Address             object\n",
      "District            object\n",
      "Ward                object\n",
      "House_type          object\n",
      "Legal_documents     object\n",
      "No_floor            object\n",
      "No_bedroom          object\n",
      "Area               float64\n",
      "Length             float64\n",
      "Width              float64\n",
      "Price              float64\n",
      "Day_Of_Week         object\n",
      "Month               object\n",
      "Year                object\n",
      "dtype: object \n",
      "\n",
      "\n",
      "The shape of the data AFTER CONVERT is (row, column): (82494, 14)\n",
      "The data types AFTER CONVERT are: Address             string\n",
      "District            string\n",
      "Ward                string\n",
      "House_type          string\n",
      "Legal_documents     string\n",
      "No_floor            string\n",
      "No_bedroom          string\n",
      "Area               Float64\n",
      "Length             Float64\n",
      "Width              Float64\n",
      "Price              Float64\n",
      "Day_Of_Week         string\n",
      "Month                int32\n",
      "Year                 int32\n",
      "dtype: object \n",
      "\n",
      "\n"
     ]
    }
   ],
   "source": [
    "print(\"The shape of the data BEFORE CONVERT is (row, column):\", str(df.shape))\n",
    "print(\"The data types BEFORE CONVERT are:\", df.dtypes, \"\\n\\n\")\n",
    "\n",
    "# convert columns to the best possible dtypes, object->string\n",
    "df = df.convert_dtypes()\n",
    "df[['Month', 'Year']] = df[['Month', 'Year']].astype('int32', errors='ignore')\n",
    "\n",
    "\n",
    "print(\"The shape of the data AFTER CONVERT is (row, column):\", str(df.shape))\n",
    "print(\"The data types AFTER CONVERT are:\", df.dtypes, \"\\n\\n\")"
   ],
   "metadata": {
    "collapsed": false,
    "pycharm": {
     "name": "#%%\n"
    }
   }
  },
  {
   "cell_type": "code",
   "execution_count": 533,
   "id": "a1977d50",
   "metadata": {},
   "outputs": [
    {
     "name": "stdout",
     "output_type": "stream",
     "text": [
      "The dataframe BEFORE dropped has 82494 rows and 14 columns\n",
      "The dataframe AFTER dropped has 82494 rows and 14 columns\n",
      "Missing values in the dataframe in descending: \n",
      "                  Total  Percent\n",
      "Length           62668    75.97\n",
      "Width            47051    57.04\n",
      "No_floor         46096    55.88\n",
      "Legal_documents  28886    35.02\n",
      "Price              869     1.05\n",
      "Address             47     0.06\n",
      "Ward                46     0.06\n",
      "No_bedroom          38     0.05\n",
      "House_type          31     0.04\n"
     ]
    }
   ],
   "source": [
    "print(\"The dataframe BEFORE dropped has {} rows and {} columns\".format(df.shape[0], df.shape[1]))\n",
    "# If all values are NA, drop that row or column.\n",
    "df.dropna(how='all', inplace=True)\n",
    "# display missing values in descending\n",
    "print(\"The dataframe AFTER dropped has {} rows and {} columns\".format(df.shape[0], df.shape[1]))\n",
    "print(\"Missing values in the dataframe in descending: \\n\", missing_percentage(df).sort_values(by='Total', ascending=False))"
   ]
  },
  {
   "cell_type": "code",
   "execution_count": 553,
   "outputs": [
    {
     "data": {
      "text/plain": "TUESDAY      14095\nMONDAY       13587\nTHURSDAY     12252\nWEDNESDAY    12187\nFRIDAY       12008\nSATURDAY     10466\nSUNDAY        6532\nName: Day_Of_Week, dtype: Int64"
     },
     "execution_count": 553,
     "metadata": {},
     "output_type": "execute_result"
    }
   ],
   "source": [
    "df['Day_Of_Week'].value_counts(dropna=False)"
   ],
   "metadata": {
    "collapsed": false,
    "pycharm": {
     "name": "#%%\n"
    }
   }
  },
  {
   "cell_type": "code",
   "execution_count": 534,
   "outputs": [
    {
     "data": {
      "text/plain": "7     44807\n6     29791\n8      7542\n5       196\n4        59\n3        51\n2        36\n10        6\n12        3\n11        2\n9         1\nName: Month, dtype: int64"
     },
     "execution_count": 534,
     "metadata": {},
     "output_type": "execute_result"
    }
   ],
   "source": [
    "df['Month'].value_counts(dropna=False)"
   ],
   "metadata": {
    "collapsed": false,
    "pycharm": {
     "name": "#%%\n"
    }
   }
  },
  {
   "cell_type": "code",
   "execution_count": 535,
   "outputs": [
    {
     "data": {
      "text/plain": "2020    82476\n2019       18\nName: Year, dtype: int64"
     },
     "execution_count": 535,
     "metadata": {},
     "output_type": "execute_result"
    }
   ],
   "source": [
    "df['Year'].value_counts(dropna=False)"
   ],
   "metadata": {
    "collapsed": false,
    "pycharm": {
     "name": "#%%\n"
    }
   }
  },
  {
   "cell_type": "code",
   "execution_count": 536,
   "id": "cf77dba9",
   "metadata": {},
   "outputs": [
    {
     "data": {
      "text/plain": "AVAILABLE    52912\nNaN          28886\nWAITING        356\nOTHERS         340\nName: Legal_documents, dtype: Int64"
     },
     "execution_count": 536,
     "metadata": {},
     "output_type": "execute_result"
    }
   ],
   "source": [
    "df['Legal_documents'].value_counts(dropna=False)"
   ]
  },
  {
   "cell_type": "code",
   "execution_count": 537,
   "id": "89496545",
   "metadata": {},
   "outputs": [],
   "source": [
    "df['Legal_documents'].fillna(\"OTHERS\", inplace=True)"
   ]
  },
  {
   "cell_type": "code",
   "execution_count": 538,
   "id": "e5f8de56",
   "metadata": {},
   "outputs": [],
   "source": [
    "df['House_type'].value_counts(dropna=False)\n",
    "df['House_type'].fillna(\"BYROAD\", inplace=True)"
   ]
  },
  {
   "cell_type": "code",
   "execution_count": 539,
   "id": "fe6b4b3f",
   "metadata": {},
   "outputs": [
    {
     "data": {
      "text/plain": "Empty DataFrame\nColumns: [Address, Ward, District]\nIndex: []",
      "text/html": "<div>\n<style scoped>\n    .dataframe tbody tr th:only-of-type {\n        vertical-align: middle;\n    }\n\n    .dataframe tbody tr th {\n        vertical-align: top;\n    }\n\n    .dataframe thead th {\n        text-align: right;\n    }\n</style>\n<table border=\"1\" class=\"dataframe\">\n  <thead>\n    <tr style=\"text-align: right;\">\n      <th></th>\n      <th>Address</th>\n      <th>Ward</th>\n      <th>District</th>\n    </tr>\n  </thead>\n  <tbody>\n  </tbody>\n</table>\n</div>"
     },
     "execution_count": 539,
     "metadata": {},
     "output_type": "execute_result"
    }
   ],
   "source": [
    "df[['Address', 'Ward', 'District']][df['District'].isna()]"
   ]
  },
  {
   "cell_type": "code",
   "execution_count": 540,
   "id": "c12d6a51",
   "metadata": {},
   "outputs": [
    {
     "data": {
      "text/plain": "                                               Address  Ward         District\n174                                               <NA>  <NA>      NAM TỪ LIÊM\n324          ĐƯỜNG AN DƯƠNG VƯƠNG, QUẬN TÂY HỒ, HÀ NỘI  <NA>           TÂY HỒ\n741                 CẦU KHÊ TANG, QUẬN HÀ ĐÔNG, HÀ NỘI  <NA>          HÀ ĐÔNG\n4558                                              <NA>  <NA>   HUYỆN HOÀI ĐỨC\n5282                                              <NA>  <NA>        LONG BIÊN\n5295                                              <NA>  <NA>        LONG BIÊN\n7169                                              <NA>  <NA>  HUYỆN THANH TRÌ\n8584                                              <NA>  <NA>       THANH XUÂN\n12595                                             <NA>  <NA>          HÀ ĐÔNG\n14548                                             <NA>  <NA>          HÀ ĐÔNG\n15055                                             <NA>  <NA>        HOÀNG MAI\n21214                                             <NA>  <NA>      BẮC TỪ LIÊM\n23168                                             <NA>  <NA>        HOÀNG MAI\n27282                                             <NA>  <NA>        HOÀNG MAI\n27349                                             <NA>  <NA>   HUYỆN ĐÔNG ANH\n29300            ĐƯỜNG CẦU GIẤY, QUẬN CẦU GIẤY, HÀ NỘI  <NA>         CẦU GIẤY\n32881                                             <NA>  <NA>          BA ĐÌNH\n35553          ĐƯỜNG THỊNH HÀO 3, QUẬN ĐỐNG ĐA, HÀ NỘI  <NA>          ĐỐNG ĐA\n40593                                             <NA>  <NA>      BẮC TỪ LIÊM\n40906         ĐƯỜNG KIM GIANG, QUẬN THANH XUÂN, HÀ NỘI  <NA>       THANH XUÂN\n41192                                             <NA>  <NA>         CẦU GIẤY\n44262                                             <NA>  <NA>        LONG BIÊN\n46176            ĐƯỜNG CẦU GIẤY, QUẬN CẦU GIẤY, HÀ NỘI  <NA>         CẦU GIẤY\n46765                                             <NA>  <NA>          HÀ ĐÔNG\n49338                                             <NA>  <NA>        HOÀNG MAI\n52185     TRUNG KÍNH - CẦU GIẤY, QUẬN CẦU GIẤY, HÀ NỘI  <NA>         CẦU GIẤY\n54426       ĐƯỜNG TRẦN DUY HƯNG, QUẬN CẦU GIẤY, HÀ NỘI  <NA>         CẦU GIẤY\n54859                                             <NA>  <NA>          HÀ ĐÔNG\n55087                                             <NA>  <NA>        LONG BIÊN\n58641   ĐƯỜNG BÙI XƯƠNG TRẠCH, QUẬN THANH XUÂN, HÀ NỘI  <NA>       THANH XUÂN\n61781        ĐƯỜNG TÔN THẤT TÙNG, QUẬN ĐỐNG ĐA, HÀ NỘI  <NA>          ĐỐNG ĐA\n62059    ĐƯỜNG HỒ TÙNG MẬU||821, QUẬN CẦU GIẤY, HÀ NỘI  <NA>         CẦU GIẤY\n65314                                             <NA>  <NA>          HÀ ĐÔNG\n69475              ĐƯỜNG HÀO NAM, QUẬN ĐỐNG ĐA, HÀ NỘI  <NA>          ĐỐNG ĐA\n70520             ĐƯỜNG NGỌC LÂM, QUẬN BA ĐÌNH, HÀ NỘI  <NA>          BA ĐÌNH\n72253                                             <NA>  <NA>      NAM TỪ LIÊM\n72730       665, ĐƯỜNG TÂN MAI, QUẬN HOÀNG MAI, HÀ NỘI  <NA>        HOÀNG MAI\n73921         ĐƯỜNG LẠC LONG QUÂN, QUẬN TÂY HỒ, HÀ NỘI  <NA>           TÂY HỒ\n75816           HÀ ĐÔNG , HÀ NỘI, QUẬN HÀ ĐÔNG, HÀ NỘI  <NA>          HÀ ĐÔNG\n75821                                             <NA>  <NA>          BA ĐÌNH\n76668                                             <NA>  <NA>          BA ĐÌNH\n78779          ĐƯỜNG HOÀNG MAI, QUẬN HOÀNG MAI, HÀ NỘI  <NA>        HOÀNG MAI\n79359  TRẦN DUY HƯNG - CẦU GIẤY, QUẬN CẦU GIẤY, HÀ NỘI  <NA>         CẦU GIẤY\n79996    ĐƯỜNG HOÀNG VĂN THÁI, QUẬN THANH XUÂN, HÀ NỘI  <NA>       THANH XUÂN\n80917                                             <NA>  <NA>        HOÀNG MAI\n81032       ĐƯỜNG CHỢ KHÂM THIÊN, QUẬN ĐỐNG ĐA, HÀ NỘI  <NA>          ĐỐNG ĐA",
      "text/html": "<div>\n<style scoped>\n    .dataframe tbody tr th:only-of-type {\n        vertical-align: middle;\n    }\n\n    .dataframe tbody tr th {\n        vertical-align: top;\n    }\n\n    .dataframe thead th {\n        text-align: right;\n    }\n</style>\n<table border=\"1\" class=\"dataframe\">\n  <thead>\n    <tr style=\"text-align: right;\">\n      <th></th>\n      <th>Address</th>\n      <th>Ward</th>\n      <th>District</th>\n    </tr>\n  </thead>\n  <tbody>\n    <tr>\n      <th>174</th>\n      <td>&lt;NA&gt;</td>\n      <td>&lt;NA&gt;</td>\n      <td>NAM TỪ LIÊM</td>\n    </tr>\n    <tr>\n      <th>324</th>\n      <td>ĐƯỜNG AN DƯƠNG VƯƠNG, QUẬN TÂY HỒ, HÀ NỘI</td>\n      <td>&lt;NA&gt;</td>\n      <td>TÂY HỒ</td>\n    </tr>\n    <tr>\n      <th>741</th>\n      <td>CẦU KHÊ TANG, QUẬN HÀ ĐÔNG, HÀ NỘI</td>\n      <td>&lt;NA&gt;</td>\n      <td>HÀ ĐÔNG</td>\n    </tr>\n    <tr>\n      <th>4558</th>\n      <td>&lt;NA&gt;</td>\n      <td>&lt;NA&gt;</td>\n      <td>HUYỆN HOÀI ĐỨC</td>\n    </tr>\n    <tr>\n      <th>5282</th>\n      <td>&lt;NA&gt;</td>\n      <td>&lt;NA&gt;</td>\n      <td>LONG BIÊN</td>\n    </tr>\n    <tr>\n      <th>5295</th>\n      <td>&lt;NA&gt;</td>\n      <td>&lt;NA&gt;</td>\n      <td>LONG BIÊN</td>\n    </tr>\n    <tr>\n      <th>7169</th>\n      <td>&lt;NA&gt;</td>\n      <td>&lt;NA&gt;</td>\n      <td>HUYỆN THANH TRÌ</td>\n    </tr>\n    <tr>\n      <th>8584</th>\n      <td>&lt;NA&gt;</td>\n      <td>&lt;NA&gt;</td>\n      <td>THANH XUÂN</td>\n    </tr>\n    <tr>\n      <th>12595</th>\n      <td>&lt;NA&gt;</td>\n      <td>&lt;NA&gt;</td>\n      <td>HÀ ĐÔNG</td>\n    </tr>\n    <tr>\n      <th>14548</th>\n      <td>&lt;NA&gt;</td>\n      <td>&lt;NA&gt;</td>\n      <td>HÀ ĐÔNG</td>\n    </tr>\n    <tr>\n      <th>15055</th>\n      <td>&lt;NA&gt;</td>\n      <td>&lt;NA&gt;</td>\n      <td>HOÀNG MAI</td>\n    </tr>\n    <tr>\n      <th>21214</th>\n      <td>&lt;NA&gt;</td>\n      <td>&lt;NA&gt;</td>\n      <td>BẮC TỪ LIÊM</td>\n    </tr>\n    <tr>\n      <th>23168</th>\n      <td>&lt;NA&gt;</td>\n      <td>&lt;NA&gt;</td>\n      <td>HOÀNG MAI</td>\n    </tr>\n    <tr>\n      <th>27282</th>\n      <td>&lt;NA&gt;</td>\n      <td>&lt;NA&gt;</td>\n      <td>HOÀNG MAI</td>\n    </tr>\n    <tr>\n      <th>27349</th>\n      <td>&lt;NA&gt;</td>\n      <td>&lt;NA&gt;</td>\n      <td>HUYỆN ĐÔNG ANH</td>\n    </tr>\n    <tr>\n      <th>29300</th>\n      <td>ĐƯỜNG CẦU GIẤY, QUẬN CẦU GIẤY, HÀ NỘI</td>\n      <td>&lt;NA&gt;</td>\n      <td>CẦU GIẤY</td>\n    </tr>\n    <tr>\n      <th>32881</th>\n      <td>&lt;NA&gt;</td>\n      <td>&lt;NA&gt;</td>\n      <td>BA ĐÌNH</td>\n    </tr>\n    <tr>\n      <th>35553</th>\n      <td>ĐƯỜNG THỊNH HÀO 3, QUẬN ĐỐNG ĐA, HÀ NỘI</td>\n      <td>&lt;NA&gt;</td>\n      <td>ĐỐNG ĐA</td>\n    </tr>\n    <tr>\n      <th>40593</th>\n      <td>&lt;NA&gt;</td>\n      <td>&lt;NA&gt;</td>\n      <td>BẮC TỪ LIÊM</td>\n    </tr>\n    <tr>\n      <th>40906</th>\n      <td>ĐƯỜNG KIM GIANG, QUẬN THANH XUÂN, HÀ NỘI</td>\n      <td>&lt;NA&gt;</td>\n      <td>THANH XUÂN</td>\n    </tr>\n    <tr>\n      <th>41192</th>\n      <td>&lt;NA&gt;</td>\n      <td>&lt;NA&gt;</td>\n      <td>CẦU GIẤY</td>\n    </tr>\n    <tr>\n      <th>44262</th>\n      <td>&lt;NA&gt;</td>\n      <td>&lt;NA&gt;</td>\n      <td>LONG BIÊN</td>\n    </tr>\n    <tr>\n      <th>46176</th>\n      <td>ĐƯỜNG CẦU GIẤY, QUẬN CẦU GIẤY, HÀ NỘI</td>\n      <td>&lt;NA&gt;</td>\n      <td>CẦU GIẤY</td>\n    </tr>\n    <tr>\n      <th>46765</th>\n      <td>&lt;NA&gt;</td>\n      <td>&lt;NA&gt;</td>\n      <td>HÀ ĐÔNG</td>\n    </tr>\n    <tr>\n      <th>49338</th>\n      <td>&lt;NA&gt;</td>\n      <td>&lt;NA&gt;</td>\n      <td>HOÀNG MAI</td>\n    </tr>\n    <tr>\n      <th>52185</th>\n      <td>TRUNG KÍNH - CẦU GIẤY, QUẬN CẦU GIẤY, HÀ NỘI</td>\n      <td>&lt;NA&gt;</td>\n      <td>CẦU GIẤY</td>\n    </tr>\n    <tr>\n      <th>54426</th>\n      <td>ĐƯỜNG TRẦN DUY HƯNG, QUẬN CẦU GIẤY, HÀ NỘI</td>\n      <td>&lt;NA&gt;</td>\n      <td>CẦU GIẤY</td>\n    </tr>\n    <tr>\n      <th>54859</th>\n      <td>&lt;NA&gt;</td>\n      <td>&lt;NA&gt;</td>\n      <td>HÀ ĐÔNG</td>\n    </tr>\n    <tr>\n      <th>55087</th>\n      <td>&lt;NA&gt;</td>\n      <td>&lt;NA&gt;</td>\n      <td>LONG BIÊN</td>\n    </tr>\n    <tr>\n      <th>58641</th>\n      <td>ĐƯỜNG BÙI XƯƠNG TRẠCH, QUẬN THANH XUÂN, HÀ NỘI</td>\n      <td>&lt;NA&gt;</td>\n      <td>THANH XUÂN</td>\n    </tr>\n    <tr>\n      <th>61781</th>\n      <td>ĐƯỜNG TÔN THẤT TÙNG, QUẬN ĐỐNG ĐA, HÀ NỘI</td>\n      <td>&lt;NA&gt;</td>\n      <td>ĐỐNG ĐA</td>\n    </tr>\n    <tr>\n      <th>62059</th>\n      <td>ĐƯỜNG HỒ TÙNG MẬU||821, QUẬN CẦU GIẤY, HÀ NỘI</td>\n      <td>&lt;NA&gt;</td>\n      <td>CẦU GIẤY</td>\n    </tr>\n    <tr>\n      <th>65314</th>\n      <td>&lt;NA&gt;</td>\n      <td>&lt;NA&gt;</td>\n      <td>HÀ ĐÔNG</td>\n    </tr>\n    <tr>\n      <th>69475</th>\n      <td>ĐƯỜNG HÀO NAM, QUẬN ĐỐNG ĐA, HÀ NỘI</td>\n      <td>&lt;NA&gt;</td>\n      <td>ĐỐNG ĐA</td>\n    </tr>\n    <tr>\n      <th>70520</th>\n      <td>ĐƯỜNG NGỌC LÂM, QUẬN BA ĐÌNH, HÀ NỘI</td>\n      <td>&lt;NA&gt;</td>\n      <td>BA ĐÌNH</td>\n    </tr>\n    <tr>\n      <th>72253</th>\n      <td>&lt;NA&gt;</td>\n      <td>&lt;NA&gt;</td>\n      <td>NAM TỪ LIÊM</td>\n    </tr>\n    <tr>\n      <th>72730</th>\n      <td>665, ĐƯỜNG TÂN MAI, QUẬN HOÀNG MAI, HÀ NỘI</td>\n      <td>&lt;NA&gt;</td>\n      <td>HOÀNG MAI</td>\n    </tr>\n    <tr>\n      <th>73921</th>\n      <td>ĐƯỜNG LẠC LONG QUÂN, QUẬN TÂY HỒ, HÀ NỘI</td>\n      <td>&lt;NA&gt;</td>\n      <td>TÂY HỒ</td>\n    </tr>\n    <tr>\n      <th>75816</th>\n      <td>HÀ ĐÔNG , HÀ NỘI, QUẬN HÀ ĐÔNG, HÀ NỘI</td>\n      <td>&lt;NA&gt;</td>\n      <td>HÀ ĐÔNG</td>\n    </tr>\n    <tr>\n      <th>75821</th>\n      <td>&lt;NA&gt;</td>\n      <td>&lt;NA&gt;</td>\n      <td>BA ĐÌNH</td>\n    </tr>\n    <tr>\n      <th>76668</th>\n      <td>&lt;NA&gt;</td>\n      <td>&lt;NA&gt;</td>\n      <td>BA ĐÌNH</td>\n    </tr>\n    <tr>\n      <th>78779</th>\n      <td>ĐƯỜNG HOÀNG MAI, QUẬN HOÀNG MAI, HÀ NỘI</td>\n      <td>&lt;NA&gt;</td>\n      <td>HOÀNG MAI</td>\n    </tr>\n    <tr>\n      <th>79359</th>\n      <td>TRẦN DUY HƯNG - CẦU GIẤY, QUẬN CẦU GIẤY, HÀ NỘI</td>\n      <td>&lt;NA&gt;</td>\n      <td>CẦU GIẤY</td>\n    </tr>\n    <tr>\n      <th>79996</th>\n      <td>ĐƯỜNG HOÀNG VĂN THÁI, QUẬN THANH XUÂN, HÀ NỘI</td>\n      <td>&lt;NA&gt;</td>\n      <td>THANH XUÂN</td>\n    </tr>\n    <tr>\n      <th>80917</th>\n      <td>&lt;NA&gt;</td>\n      <td>&lt;NA&gt;</td>\n      <td>HOÀNG MAI</td>\n    </tr>\n    <tr>\n      <th>81032</th>\n      <td>ĐƯỜNG CHỢ KHÂM THIÊN, QUẬN ĐỐNG ĐA, HÀ NỘI</td>\n      <td>&lt;NA&gt;</td>\n      <td>ĐỐNG ĐA</td>\n    </tr>\n  </tbody>\n</table>\n</div>"
     },
     "execution_count": 540,
     "metadata": {},
     "output_type": "execute_result"
    }
   ],
   "source": [
    "df[['Address', 'Ward', 'District']][df['Ward'].isna()]"
   ]
  },
  {
   "cell_type": "markdown",
   "id": "42e92561",
   "metadata": {},
   "source": [
    "As you can see the address is not specific location. Hence, there is no specific ward because a street can have multiple ward. Thus, we should only fill the missing value with None."
   ]
  },
  {
   "cell_type": "code",
   "execution_count": 541,
   "id": "8dad60c7",
   "metadata": {},
   "outputs": [
    {
     "data": {
      "text/plain": "NaN                46096\n5                  15769\n4                  12278\n3                   3619\n6                   2119\n2                   1028\n1                    636\n7                    597\n8                    188\n9                     88\n10                    36\n45                     8\nGREATER_THAN_10        7\n35                     6\n38                     2\n12                     2\n50                     2\n30                     1\n32                     1\n54                     1\n52                     1\n40                     1\n14                     1\n65                     1\n55                     1\n73                     1\n25                     1\n42                     1\n33                     1\n29                     1\nName: No_floor, dtype: Int64"
     },
     "execution_count": 541,
     "metadata": {},
     "output_type": "execute_result"
    }
   ],
   "source": [
    "df['Ward'].fillna(\"None\", inplace=True)\n",
    "df['Address'].fillna(\"None\", inplace=True)\n",
    "df['No_floor'].value_counts(dropna=False)"
   ]
  },
  {
   "cell_type": "code",
   "execution_count": 542,
   "id": "12cef255",
   "metadata": {},
   "outputs": [],
   "source": [
    "mode = df['No_floor'].mode()[0]\n",
    "df['No_floor'].fillna(mode, inplace=True)"
   ]
  },
  {
   "cell_type": "code",
   "execution_count": 543,
   "outputs": [
    {
     "data": {
      "text/plain": "5                  61865\n4                  12278\n3                   3619\n6                   2119\n2                   1028\n1                    636\n7                    597\n8                    188\n9                     88\nGREATER_THAN_10       40\n10                    36\nName: No_floor, dtype: int64"
     },
     "execution_count": 543,
     "metadata": {},
     "output_type": "execute_result"
    }
   ],
   "source": [
    "# define a function to feed into the lambda\n",
    "def No_floor_count(value):\n",
    "    if value == '1' or value == '2' or value == '3' \\\n",
    "            or value == '4' or value == '5' or value == '6' \\\n",
    "            or value == '7' or value == '8' or value == '9' or value == '10':\n",
    "        return value\n",
    "    else:\n",
    "        return 'GREATER_THAN_10'\n",
    "\n",
    "df['No_floor'] = df['No_floor'].map(lambda n: No_floor_count(n))\n",
    "df['No_floor'].value_counts(dropna=False)"
   ],
   "metadata": {
    "collapsed": false,
    "pycharm": {
     "name": "#%%\n"
    }
   }
  },
  {
   "cell_type": "code",
   "execution_count": 544,
   "id": "5df2b1c6",
   "metadata": {},
   "outputs": [
    {
     "data": {
      "text/plain": "4                  29069\n3                  27162\n5                   7924\n2                   7330\n6                   6461\n1                   1388\n8                    938\nGREATER_THAN_10      869\n7                    678\n10                   354\n9                    283\nNaN                   38\nName: No_bedroom, dtype: Int64"
     },
     "execution_count": 544,
     "metadata": {},
     "output_type": "execute_result"
    }
   ],
   "source": [
    "df['No_bedroom'].value_counts(dropna=False)"
   ]
  },
  {
   "cell_type": "code",
   "execution_count": 545,
   "id": "64fe0c9c",
   "metadata": {},
   "outputs": [],
   "source": [
    "mode = df['No_bedroom'].mode()[0]\n",
    "df['No_bedroom'].fillna(mode, inplace=True)"
   ]
  },
  {
   "cell_type": "code",
   "execution_count": 546,
   "id": "615b8f74",
   "metadata": {},
   "outputs": [],
   "source": [
    "#Different Location have different housing area\n",
    "df['Area'] = df.groupby('District')['Area'].apply(lambda x: x.fillna(x.median()))\n",
    "df['Price'] = df.groupby('District')['Price'].apply(lambda x: x.fillna(x.median()))\n",
    "\n",
    "# df['Number_of_room'] = df.groupby('Area')['Number_of_room'].apply(lambda x: x.fillna(x.median()))\n",
    "df['Length'] = df.groupby('Area')['Length'].apply(lambda x: x.fillna(x.median()))\n",
    "df['Length'].fillna(df['Length'].mean(), inplace=True)\n",
    "df['Width'] = df.groupby('Area')['Width'].apply(lambda x: x.fillna(x.median()))\n",
    "df['Width'].fillna(df['Width'].mean(), inplace=True)"
   ]
  },
  {
   "cell_type": "code",
   "execution_count": 547,
   "id": "b93857a7",
   "metadata": {},
   "outputs": [
    {
     "data": {
      "text/plain": "<StringArray>\n[                   'HOÀNG QUỐC VIỆT',                          'KIM GIANG',\n                          'MINH KHAI',                           'VÕNG THỊ',\n                            'YÊN HÒA',                            'TÂY SƠN',\n                             'LÒ ĐÚC',                            'XUÂN LA',\n                               '19/5',                           'TỰU LIỆT',\n ...\n                       'TRẦN CAO VÂN',                             '68/114',\n                              'TÚ MƠ',                            'NGÕ 127',\n                          '15/22/269',                   'SỐ 9 NGÕ 211/229',\n          'KHU B ĐẠI HỌC MỎ ĐỊA CHẤT',              'LÊ TRỌNG TẤN HOÀI ĐỨC',\n               'LẠC LONG QUÂN TÂY HỒ', 'SỐ 7 ĐẠI LỘ THĂNG LONG NAM TỪ LIÊM']\nLength: 4434, dtype: string"
     },
     "execution_count": 547,
     "metadata": {},
     "output_type": "execute_result"
    }
   ],
   "source": [
    "df['Street'] = df['Address'].str.split(',', expand=True)[0]\n",
    "df['Street'] = df['Street'].replace('ĐƯỜNG\\s', '', regex=True)\n",
    "df['Street'] = df['Street'].replace('PHỐ\\s', '', regex=True)\n",
    "df['Street'].unique()"
   ]
  },
  {
   "cell_type": "code",
   "execution_count": 548,
   "id": "324da7b6",
   "metadata": {},
   "outputs": [],
   "source": [
    "df.drop('Address', 1, inplace=True)"
   ]
  },
  {
   "cell_type": "code",
   "execution_count": 549,
   "outputs": [
    {
     "data": {
      "text/plain": "District           0\nWard               0\nHouse_type         0\nLegal_documents    0\nNo_floor           0\nNo_bedroom         0\nArea               0\nLength             0\nWidth              0\nPrice              0\nDay_Of_Week        0\nMonth              0\nYear               0\nStreet             0\ndtype: int64"
     },
     "execution_count": 549,
     "metadata": {},
     "output_type": "execute_result"
    }
   ],
   "source": [
    "df.isna().sum()"
   ],
   "metadata": {
    "collapsed": false,
    "pycharm": {
     "name": "#%%\n"
    }
   }
  },
  {
   "cell_type": "markdown",
   "source": [
    "## Extra-whitespaces"
   ],
   "metadata": {
    "collapsed": false
   }
  },
  {
   "cell_type": "code",
   "execution_count": 550,
   "outputs": [],
   "source": [
    "def whitespace_remover(df):\n",
    "    \"\"\"\n",
    "    The function will remove extra leading and trailing whitespace from the data.\n",
    "    \"\"\"\n",
    "    # iterating over the columns\n",
    "    for i in df.columns:\n",
    "        # checking datatype of each columns\n",
    "        if df[i].dtype == 'object' or df[i].dtype == 'str':\n",
    "            # applying strip function on column\n",
    "            df[i] = df[i].map(str.strip)\n",
    "        else:\n",
    "            # if condition is False then it will do nothing.\n",
    "            pass\n",
    "\n",
    "whitespace_remover(df)"
   ],
   "metadata": {
    "collapsed": false,
    "pycharm": {
     "name": "#%%\n"
    }
   }
  },
  {
   "cell_type": "markdown",
   "source": [
    "### ----------> OBSERVATION\n",
    "<hr>\n",
    "\n",
    "> There is no typo left\n",
    "\n",
    "<hr>"
   ],
   "metadata": {
    "collapsed": false
   }
  },
  {
   "cell_type": "markdown",
   "source": [
    "<br><br>\n",
    "<a id=\"2.6\"></a>\n",
    "# 2.6 Sanity checks\n",
    "Design and run a small test-suite, consisting of a series of sanity checks to test for the presence of **impossible values** and **outliers** for each attribute.\n",
    "<a id=\"2.6.1\"></a>\n",
    "### 2.6.1 Check duplication\n",
    "+ Use the pandas function `.drop_duplicates()` to remove copied rows from a DataFrame\n",
    "\n",
    "+ Could not drop duplicated in TEST since I'll use it to compete in Kaggle learboard"
   ],
   "metadata": {
    "collapsed": false
   }
  },
  {
   "cell_type": "code",
   "execution_count": 551,
   "outputs": [
    {
     "name": "stdout",
     "output_type": "stream",
     "text": [
      "Number of rows before drop of duplicates  in df: 82494\n",
      "Number of duplicated records in df:  1367\n",
      "Number of rows after drop of duplicates in df: 81127 \n",
      "\n",
      "\n",
      "<class 'pandas.core.frame.DataFrame'>\n",
      "Int64Index: 81127 entries, 0 to 82495\n",
      "Data columns (total 14 columns):\n",
      " #   Column           Non-Null Count  Dtype  \n",
      "---  ------           --------------  -----  \n",
      " 0   District         81127 non-null  string \n",
      " 1   Ward             81127 non-null  string \n",
      " 2   House_type       81127 non-null  string \n",
      " 3   Legal_documents  81127 non-null  string \n",
      " 4   No_floor         81127 non-null  string \n",
      " 5   No_bedroom       81127 non-null  string \n",
      " 6   Area             81127 non-null  Float64\n",
      " 7   Length           81127 non-null  Float64\n",
      " 8   Width            81127 non-null  Float64\n",
      " 9   Price            81127 non-null  Float64\n",
      " 10  Day_Of_Week      81127 non-null  string \n",
      " 11  Month            81127 non-null  Int32  \n",
      " 12  Year             81127 non-null  Int32  \n",
      " 13  Street           81127 non-null  string \n",
      "dtypes: Float64(4), Int32(2), string(8)\n",
      "memory usage: 9.1 MB\n"
     ]
    }
   ],
   "source": [
    "# df\n",
    "print(\"Number of rows before drop of duplicates  in df:\", len(df.index))\n",
    "print(\"Number of duplicated records in df: \", df.duplicated().sum())\n",
    "df.drop_duplicates(inplace=True)\n",
    "print(\"Number of rows after drop of duplicates in df:\", len(df.index), \"\\n\\n\")\n",
    "\n",
    "# convert columns to the best possible dtypes, object->string\n",
    "df = df.convert_dtypes()\n",
    "df.info()"
   ],
   "metadata": {
    "collapsed": false,
    "pycharm": {
     "name": "#%%\n"
    }
   }
  },
  {
   "cell_type": "code",
   "execution_count": 552,
   "outputs": [
    {
     "data": {
      "text/plain": "Index(['District', 'Ward', 'House_type', 'Legal_documents', 'No_floor',\n       'No_bedroom', 'Area', 'Length', 'Width', 'Price', 'Day_Of_Week',\n       'Month', 'Year', 'Street'],\n      dtype='object')"
     },
     "execution_count": 552,
     "metadata": {},
     "output_type": "execute_result"
    }
   ],
   "source": [
    "df.columns"
   ],
   "metadata": {
    "collapsed": false,
    "pycharm": {
     "name": "#%%\n"
    }
   }
  }
 ],
 "metadata": {
  "kernelspec": {
   "display_name": "Python 3",
   "language": "python",
   "name": "python3"
  },
  "language_info": {
   "codemirror_mode": {
    "name": "ipython",
    "version": 3
   },
   "file_extension": ".py",
   "mimetype": "text/x-python",
   "name": "python",
   "nbconvert_exporter": "python",
   "pygments_lexer": "ipython3",
   "version": "3.8.8"
  }
 },
 "nbformat": 4,
 "nbformat_minor": 5
}