{
 "cells": [
  {
   "cell_type": "markdown",
   "metadata": {
    "_cell_guid": "b3b559a5-dad0-419e-835a-e6babd1042ff",
    "_uuid": "1b1a0b28ad37a349e284d1e6ce6477d11b95e7c9"
   },
   "source": [
    "# Assignment 2: Data Modelling\n",
    "***\n",
    "<b> Group: 10</b>\n",
    "<br>\n",
    "<b> Student Name: Nguyen Dang Huynh Chau (S3777214)</b>\n",
    "<br>\n",
    "<b> Student Name: Tran Ngoc Anh Thu (S3879312)</b>\n",
    "<br>\n",
    "<b> Student Name: Ho Le Minh Thach (S3879312)</b>\n",
    "<br>\n",
    "<b> Lecturer: Vo Ngoc Yen Nhi </b>"
   ]
  },
  {
   "cell_type": "markdown",
   "metadata": {},
   "source": [
    "Having played a vital role in the human-being life, housing is one of the greatest considerations and its price has been researched carefully in millions of studies by using machine learning. Although, this is not the rare topic, it is still necessary to construct a machine learning model in order to not only predict an accurate housing price but also have the user-friendliness for the users to have the most optimised and effective way to investigate the housing price for improving the living standard. (Safe to buy, ideal to buy and dangerous to buy)"
   ]
  },
  {
   "cell_type": "markdown",
   "metadata": {},
   "source": [
    "# Task 1: Data Preparation\n",
    "***"
   ]
  },
  {
   "cell_type": "markdown",
   "metadata": {},
   "source": [
    "# Part 1: Importing Necessary Libraries and datasets\n",
    "***\n",
    "<a id=\"import_libraries**\"></a>\n",
    "## 1a. Loading libraries\n",
    "\n",
    "Python is a fantastic language with a vibrant community that produces many amazing libraries. I am not a big fan of importing everything at once for the newcomers. So, I am going to introduce a few necessary libraries for now, and as we go on, we will keep unboxing new libraries when it seems appropriate. "
   ]
  },
  {
   "cell_type": "code",
   "execution_count": 1,
   "metadata": {
    "_cell_guid": "80643cb5-64f3-4180-92a9-2f8e83263ac6",
    "_kg_hide-input": true,
    "_uuid": "33d54abf387474bce3017f1fc3832493355010c0",
    "execution": {
     "iopub.execute_input": "2021-12-19T10:46:44.658924Z",
     "iopub.status.busy": "2021-12-19T10:46:44.658334Z",
     "iopub.status.idle": "2021-12-19T10:46:45.531545Z",
     "shell.execute_reply": "2021-12-19T10:46:45.530582Z",
     "shell.execute_reply.started": "2021-12-19T10:46:44.658854Z"
    }
   },
   "outputs": [],
   "source": [
    "# import libraries which are pandas and numpy\n",
    "import pandas as pd\n",
    "import numpy as np\n",
    "#for date time data types\n",
    "import datetime\n",
    "#For Encoding\n",
    "!pip install category_encoders --quiet\n",
    "import category_encoders as ce\n",
    "#for plots\n",
    "import matplotlib.pyplot as plt\n",
    "plt.rcParams[\"figure.figsize\"]= 15,10\n",
    "import seaborn as sb\n",
    "\n",
    "#Libraries for plotting\n",
    "import seaborn as sns #seaborn for catgory columns\n",
    "sns.set_theme(style=\"ticks\", color_codes=True) #set theme in seaborn\n",
    "# scatter matrix library\n",
    "from pandas.plotting import scatter_matrix\n",
    "\n",
    "#disable this new warning which is The SettingWithCopyWarning was created to flag potentially confusing \"chained\"\n",
    "import pandas as pd\n",
    "pd.options.mode.chained_assignment = None  # default='warn'\n",
    "import matplotlib.style as style\n",
    "# import calendar for getting the month and week names\n",
    "import calendar"
   ]
  },
  {
   "cell_type": "markdown",
   "metadata": {
    "_cell_guid": "bd41125b-6dd4-41d9-8905-31edc812d18e",
    "_uuid": "82ccd43cc8449346749bf8a35e1acb9a40e3b141"
   },
   "source": [
    "## 1b. Data Retrieving\n",
    "***"
   ]
  },
  {
   "cell_type": "markdown",
   "metadata": {},
   "source": [
    "In order to load data properly, the data in csv file have to be examined carefully. First of all, all the categories are seperated by the \",\" and strip the extra-whitespaces at the begin by setting \"skipinitialspace = True\". In order to have a look on all columns carefully, using the set_option('display.max_columns', None) in the pandas, all the columns will be shown."
   ]
  },
  {
   "cell_type": "code",
   "execution_count": 2,
   "metadata": {
    "_cell_guid": "28722a45-5f11-4629-8814-9ab913e9349a",
    "_kg_hide-input": false,
    "_uuid": "185b34e70f2efded0c665c6713f79b840ddf0c89",
    "execution": {
     "iopub.execute_input": "2021-12-19T10:46:45.533974Z",
     "iopub.status.busy": "2021-12-19T10:46:45.533701Z",
     "iopub.status.idle": "2021-12-19T10:46:45.568075Z",
     "shell.execute_reply": "2021-12-19T10:46:45.567005Z",
     "shell.execute_reply.started": "2021-12-19T10:46:45.533924Z"
    }
   },
   "outputs": [],
   "source": [
    "# import data using functions of pandas\n",
    "#Inside pandas.read_csv() method skipinitialspace parameter is use to skip initial space present in the dataframe. \n",
    "#By default, it is False, so skipinitialspace must be True to skip the whitespace.\n",
    "#data is imported by \"read_csv() function of pandas\"\n",
    "df = pd.read_csv('Data/VN_housing_dataset.csv', delimiter=',', skipinitialspace = True, index_col=0)\n",
    "\n",
    "#set to show all columns\n",
    "pd.set_option('display.max_columns', None)\n",
    "\n",
    "\n",
    "#Replace extra-whitspaces with regex by using function replace in pandas\n",
    "df = df.replace({\"^\\s*|\\s*$\":\"\"}, regex=True) "
   ]
  },
  {
   "cell_type": "markdown",
   "metadata": {},
   "source": [
    "First of all, some of the columns may have typo or extra-whitespaces so that using the df.columns to print all the columns and strip the extra-whitespaces "
   ]
  },
  {
   "cell_type": "code",
   "execution_count": 3,
   "metadata": {},
   "outputs": [],
   "source": [
    "df.columns = df.columns.str.replace(' ', '') #strip the extra-whitespaces out"
   ]
  },
  {
   "cell_type": "markdown",
   "metadata": {
    "_cell_guid": "c87c72ba-c9b2-48e9-86d8-c711d0795ca0",
    "_uuid": "5759d720798ca115cc5d3d2f75be6961d1455832"
   },
   "source": [
    "## 1c. A Glimpse of the Datasets. \n",
    "<a id=\"glimpse\"></a>\n",
    "***"
   ]
  },
  {
   "cell_type": "code",
   "execution_count": 4,
   "metadata": {
    "execution": {
     "iopub.execute_input": "2021-12-19T10:46:45.570264Z",
     "iopub.status.busy": "2021-12-19T10:46:45.569593Z",
     "iopub.status.idle": "2021-12-19T10:46:45.605088Z",
     "shell.execute_reply": "2021-12-19T10:46:45.604341Z",
     "shell.execute_reply.started": "2021-12-19T10:46:45.570201Z"
    }
   },
   "outputs": [
    {
     "name": "stdout",
     "output_type": "stream",
     "text": [
      "CPU times: user 2.77 ms, sys: 1.79 ms, total: 4.56 ms\n",
      "Wall time: 3.59 ms\n"
     ]
    },
    {
     "data": {
      "text/html": [
       "<div>\n",
       "<style scoped>\n",
       "    .dataframe tbody tr th:only-of-type {\n",
       "        vertical-align: middle;\n",
       "    }\n",
       "\n",
       "    .dataframe tbody tr th {\n",
       "        vertical-align: top;\n",
       "    }\n",
       "\n",
       "    .dataframe thead th {\n",
       "        text-align: right;\n",
       "    }\n",
       "</style>\n",
       "<table border=\"1\" class=\"dataframe\">\n",
       "  <thead>\n",
       "    <tr style=\"text-align: right;\">\n",
       "      <th></th>\n",
       "      <th>Ngày</th>\n",
       "      <th>Địachỉ</th>\n",
       "      <th>Quận</th>\n",
       "      <th>Huyện</th>\n",
       "      <th>Loạihìnhnhàở</th>\n",
       "      <th>Giấytờpháplý</th>\n",
       "      <th>Sốtầng</th>\n",
       "      <th>Sốphòngngủ</th>\n",
       "      <th>Diệntích</th>\n",
       "      <th>Dài</th>\n",
       "      <th>Rộng</th>\n",
       "      <th>Giá/m2</th>\n",
       "    </tr>\n",
       "  </thead>\n",
       "  <tbody>\n",
       "    <tr>\n",
       "      <th>38035.0</th>\n",
       "      <td>2020-07-12</td>\n",
       "      <td>Đường Láng, Phường Láng Hạ, Quận Đống Đa, Hà Nội</td>\n",
       "      <td>Quận Đống Đa</td>\n",
       "      <td>Phường Láng Hạ</td>\n",
       "      <td>Nhà ngõ, hẻm</td>\n",
       "      <td>Đã có sổ</td>\n",
       "      <td>NaN</td>\n",
       "      <td>4 phòng</td>\n",
       "      <td>45 m²</td>\n",
       "      <td>NaN</td>\n",
       "      <td>NaN</td>\n",
       "      <td>82,22 triệu/m²</td>\n",
       "    </tr>\n",
       "    <tr>\n",
       "      <th>22069.0</th>\n",
       "      <td>2020-07-23</td>\n",
       "      <td>Đường Vũ Hữu, Phường Thanh Xuân Bắc, Quận Than...</td>\n",
       "      <td>Quận Thanh Xuân</td>\n",
       "      <td>Phường Thanh Xuân Bắc</td>\n",
       "      <td>Nhà mặt phố, mặt tiền</td>\n",
       "      <td>Đã có sổ</td>\n",
       "      <td>NaN</td>\n",
       "      <td>4 phòng</td>\n",
       "      <td>30 m²</td>\n",
       "      <td>NaN</td>\n",
       "      <td>NaN</td>\n",
       "      <td>133,33 triệu/m²</td>\n",
       "    </tr>\n",
       "    <tr>\n",
       "      <th>66738.0</th>\n",
       "      <td>2020-06-18</td>\n",
       "      <td>Đường Phùng Khoang, Phường Trung Văn, Quận Nam...</td>\n",
       "      <td>Quận Nam Từ Liêm</td>\n",
       "      <td>Phường Trung Văn</td>\n",
       "      <td>Nhà ngõ, hẻm</td>\n",
       "      <td>Đã có sổ</td>\n",
       "      <td>NaN</td>\n",
       "      <td>2 phòng</td>\n",
       "      <td>47 m²</td>\n",
       "      <td>10 m</td>\n",
       "      <td>5 m</td>\n",
       "      <td>68,09 triệu/m²</td>\n",
       "    </tr>\n",
       "    <tr>\n",
       "      <th>55853.0</th>\n",
       "      <td>2020-06-27</td>\n",
       "      <td>Đường Trương Định, Phường Hoàng Văn Thụ, Quận ...</td>\n",
       "      <td>Quận Hoàng Mai</td>\n",
       "      <td>Phường Hoàng Văn Thụ</td>\n",
       "      <td>Nhà ngõ, hẻm</td>\n",
       "      <td>NaN</td>\n",
       "      <td>NaN</td>\n",
       "      <td>2 phòng</td>\n",
       "      <td>65 m²</td>\n",
       "      <td>NaN</td>\n",
       "      <td>4 m</td>\n",
       "      <td>60 triệu/m²</td>\n",
       "    </tr>\n",
       "    <tr>\n",
       "      <th>33810.0</th>\n",
       "      <td>2020-07-15</td>\n",
       "      <td>Đường Hoàng Văn Thái, Phường Khương Trung, Quậ...</td>\n",
       "      <td>Quận Thanh Xuân</td>\n",
       "      <td>Phường Khương Trung</td>\n",
       "      <td>Nhà mặt phố, mặt tiền</td>\n",
       "      <td>Đã có sổ</td>\n",
       "      <td>NaN</td>\n",
       "      <td>4 phòng</td>\n",
       "      <td>57 m²</td>\n",
       "      <td>NaN</td>\n",
       "      <td>NaN</td>\n",
       "      <td>198,25 triệu/m²</td>\n",
       "    </tr>\n",
       "  </tbody>\n",
       "</table>\n",
       "</div>"
      ],
      "text/plain": [
       "               Ngày                                             Địachỉ  \\\n",
       "38035.0  2020-07-12   Đường Láng, Phường Láng Hạ, Quận Đống Đa, Hà Nội   \n",
       "22069.0  2020-07-23  Đường Vũ Hữu, Phường Thanh Xuân Bắc, Quận Than...   \n",
       "66738.0  2020-06-18  Đường Phùng Khoang, Phường Trung Văn, Quận Nam...   \n",
       "55853.0  2020-06-27  Đường Trương Định, Phường Hoàng Văn Thụ, Quận ...   \n",
       "33810.0  2020-07-15  Đường Hoàng Văn Thái, Phường Khương Trung, Quậ...   \n",
       "\n",
       "                     Quận                  Huyện           Loạihìnhnhàở  \\\n",
       "38035.0      Quận Đống Đa         Phường Láng Hạ           Nhà ngõ, hẻm   \n",
       "22069.0   Quận Thanh Xuân  Phường Thanh Xuân Bắc  Nhà mặt phố, mặt tiền   \n",
       "66738.0  Quận Nam Từ Liêm       Phường Trung Văn           Nhà ngõ, hẻm   \n",
       "55853.0    Quận Hoàng Mai   Phường Hoàng Văn Thụ           Nhà ngõ, hẻm   \n",
       "33810.0   Quận Thanh Xuân    Phường Khương Trung  Nhà mặt phố, mặt tiền   \n",
       "\n",
       "        Giấytờpháplý Sốtầng Sốphòngngủ Diệntích   Dài Rộng           Giá/m2  \n",
       "38035.0     Đã có sổ    NaN    4 phòng    45 m²   NaN  NaN   82,22 triệu/m²  \n",
       "22069.0     Đã có sổ    NaN    4 phòng    30 m²   NaN  NaN  133,33 triệu/m²  \n",
       "66738.0     Đã có sổ    NaN    2 phòng    47 m²  10 m  5 m   68,09 triệu/m²  \n",
       "55853.0          NaN    NaN    2 phòng    65 m²   NaN  4 m      60 triệu/m²  \n",
       "33810.0     Đã có sổ    NaN    4 phòng    57 m²   NaN  NaN  198,25 triệu/m²  "
      ]
     },
     "execution_count": 4,
     "metadata": {},
     "output_type": "execute_result"
    }
   ],
   "source": [
    "%%time\n",
    "df.sample(5)"
   ]
  },
  {
   "cell_type": "markdown",
   "metadata": {
    "_uuid": "5f7426639cf97db92e4ca85a13e89c8394f6aa7c"
   },
   "source": [
    "This is a sample of dataset. Lets find out a bit more about the dataset. "
   ]
  },
  {
   "cell_type": "code",
   "execution_count": 5,
   "metadata": {
    "_kg_hide-input": true,
    "_uuid": "1258a94388599a131fe08cd6e05205b15d53df66",
    "execution": {
     "iopub.execute_input": "2021-12-19T10:46:49.715831Z",
     "iopub.status.busy": "2021-12-19T10:46:49.715573Z",
     "iopub.status.idle": "2021-12-19T10:46:49.729954Z",
     "shell.execute_reply": "2021-12-19T10:46:49.728818Z",
     "shell.execute_reply.started": "2021-12-19T10:46:49.715789Z"
    }
   },
   "outputs": [
    {
     "name": "stdout",
     "output_type": "stream",
     "text": [
      "The shape of the train data is (row, column):(82497, 12)\n",
      "<class 'pandas.core.frame.DataFrame'>\n",
      "Float64Index: 82497 entries, 0.0 to nan\n",
      "Data columns (total 12 columns):\n",
      " #   Column        Non-Null Count  Dtype \n",
      "---  ------        --------------  ----- \n",
      " 0   Ngày          82496 non-null  object\n",
      " 1   Địachỉ        82449 non-null  object\n",
      " 2   Quận          82495 non-null  object\n",
      " 3   Huyện         82449 non-null  object\n",
      " 4   Loạihìnhnhàở  82465 non-null  object\n",
      " 5   Giấytờpháplý  53610 non-null  object\n",
      " 6   Sốtầng        36399 non-null  object\n",
      " 7   Sốphòngngủ    82458 non-null  object\n",
      " 8   Diệntích      82495 non-null  object\n",
      " 9   Dài           19827 non-null  object\n",
      " 10  Rộng          35445 non-null  object\n",
      " 11  Giá/m2        82484 non-null  object\n",
      "dtypes: object(12)\n",
      "memory usage: 8.2+ MB\n",
      "None\n"
     ]
    }
   ],
   "source": [
    "print (\"The shape of the train data is (row, column):\"+ str(df.shape))\n",
    "print (df.info())"
   ]
  },
  {
   "cell_type": "markdown",
   "metadata": {
    "_cell_guid": "15c64d36-94b3-4798-af86-775f70feb2dd",
    "_uuid": "c72d21139ee6220aee5d8f654561864a5f6499b7"
   },
   "source": [
    " ## 1d. About This Dataset\n",
    "***\n",
    "\n",
    "Now let's go through the features and describe a little. There is a couple of different type of variables, They are...\n",
    "***\n",
    "**Categorical:**\n",
    "- **Nominal**(variables that have two or more categories, but which do not have an intrinsic order.)\n",
    "   > - **Address**\n",
    "   > - **Housing_type**\n",
    "   > - **Legal_documents**\n",
    "   > - **Number_of_room**\n",
    "***\n",
    "**Numeric:**\n",
    "- **Discrete**\n",
    "  >  - **Number_of_floor**\n",
    "  >  - **Area**\n",
    "  >  - **Length**\n",
    "  >  - **Width**  \n",
    "  >  - **Price_per_metersquare**\n",
    "\n",
    "***\n",
    "**Date/time:**\n",
    "- **Date**(Nominal variable)"
   ]
  },
  {
   "cell_type": "markdown",
   "metadata": {},
   "source": [
    "# Part 2: Overview and Cleaning the Data\n",
    "<a id=\"cleaningthedata\"></a>\n",
    "***\n",
    "## 2a. Rename columns\n",
    "Since these columns are in Vietnamese so change their names into English in order to deal with them more straightforward in later"
   ]
  },
  {
   "cell_type": "code",
   "execution_count": 6,
   "metadata": {},
   "outputs": [],
   "source": [
    "df = df.rename(columns={'Ngày': 'Date', 'Địachỉ': 'Address', 'Quận': 'District', 'Huyện': 'Ward',\n",
    "                        'Loạihìnhnhàở': 'Housing_type',  'Giấytờpháplý': 'Legal_documents', \n",
    "                        'Sốtầng': 'Number_of_floor', 'Sốphòngngủ': 'Number_of_room', 'Diệntích': 'Area', \n",
    "                        'Dài': 'Length', 'Rộng': 'Width', 'Giá/m2': 'Price_per_metersquare'})"
   ]
  },
  {
   "cell_type": "markdown",
   "metadata": {
    "_cell_guid": "24dfbb58-4708-42a1-9122-c7e0b96ad0e9",
    "_uuid": "e789474652ddf03c65e7bb8f17f69544b907cecb"
   },
   "source": [
    "## 2b. Overview"
   ]
  },
  {
   "cell_type": "markdown",
   "metadata": {
    "_cell_guid": "359e6e3e-3a27-45aa-b6cf-ec18b8220eae",
    "_uuid": "f0ec8e9300f40427a2a53f9c3e3f92e120ce786b"
   },
   "source": [
    "Datasets in the real world are often messy, However, this dataset is almost clean. Lets analyze and see what we have here."
   ]
  },
  {
   "cell_type": "code",
   "execution_count": 7,
   "metadata": {
    "_cell_guid": "bf19c831-fbe0-49b6-8bf8-d7db118f40b1",
    "_kg_hide-input": true,
    "_uuid": "5a0593fb4564f0284ca7fdf5c006020cb288db95",
    "execution": {
     "iopub.execute_input": "2021-12-19T10:46:49.744102Z",
     "iopub.status.busy": "2021-12-19T10:46:49.743694Z",
     "iopub.status.idle": "2021-12-19T10:46:49.767793Z",
     "shell.execute_reply": "2021-12-19T10:46:49.766832Z",
     "shell.execute_reply.started": "2021-12-19T10:46:49.744054Z"
    }
   },
   "outputs": [
    {
     "name": "stdout",
     "output_type": "stream",
     "text": [
      "<class 'pandas.core.frame.DataFrame'>\n",
      "Float64Index: 82497 entries, 0.0 to nan\n",
      "Data columns (total 12 columns):\n",
      " #   Column                 Non-Null Count  Dtype \n",
      "---  ------                 --------------  ----- \n",
      " 0   Date                   82496 non-null  object\n",
      " 1   Address                82449 non-null  object\n",
      " 2   District               82495 non-null  object\n",
      " 3   Ward                   82449 non-null  object\n",
      " 4   Housing_type           82465 non-null  object\n",
      " 5   Legal_documents        53610 non-null  object\n",
      " 6   Number_of_floor        36399 non-null  object\n",
      " 7   Number_of_room         82458 non-null  object\n",
      " 8   Area                   82495 non-null  object\n",
      " 9   Length                 19827 non-null  object\n",
      " 10  Width                  35445 non-null  object\n",
      " 11  Price_per_metersquare  82484 non-null  object\n",
      "dtypes: object(12)\n",
      "memory usage: 8.2+ MB\n",
      "None\n"
     ]
    }
   ],
   "source": [
    "## saving passenger id in advance in order to submit later. \n",
    "Price_per_metersquare = df.Price_per_metersquare\n",
    "\n",
    "print (df.info())"
   ]
  },
  {
   "cell_type": "markdown",
   "metadata": {
    "_cell_guid": "f9b2f56f-e95c-478d-aa49-3f6cb277830f",
    "_uuid": "b5accab7fc7471fea224dcae81683b9f3c0f617b"
   },
   "source": [
    "It looks like, the features have unequal amount of data entries for every column and they have many different types of variables. This can happen for the following reasons...\n",
    "* We may have missing values in our features.\n",
    "* We may have categorical features. \n",
    "* We may have alphanumerical or/and text features. \n"
   ]
  },
  {
   "cell_type": "markdown",
   "metadata": {},
   "source": [
    "## 2c. Dealing with data types\n",
    "***"
   ]
  },
  {
   "cell_type": "code",
   "execution_count": 8,
   "metadata": {},
   "outputs": [],
   "source": [
    "df[\"Area\"] = df[\"Area\"].str.replace(\"\\sm²\", \"\", regex=True)\n",
    "df[\"Length\"] = df[\"Length\"].str.replace(\"\\sm\", \"\", regex=True)\n",
    "df[\"Width\"] = df[\"Length\"].str.replace(\"\\sm\", \"\", regex=True)\n",
    "df[\"Price_per_metersquare\"] = df[\"Price_per_metersquare\"].str.replace(\".\", \"\", regex=True)\n",
    "df[\"Price_per_metersquare\"] = df[\"Price_per_metersquare\"].str.replace(\"\\striệu/m²\", \"\", regex=True)\n",
    "df[\"Price_per_metersquare\"] = df[\"Price_per_metersquare\"].str.replace(\",\", \".\", regex=True)\n",
    "df[\"Price_per_metersquare\"] = df[\"Price_per_metersquare\"].str.replace(\"\\sđ/m²\", \"\", regex=True)\n",
    "df[\"Price_per_metersquare\"] = df[\"Price_per_metersquare\"].str.replace(\"\\stỷ/m²\", \"000\", regex=True)\n",
    "df[\"Number_of_floor\"] = df[\"Number_of_floor\"].str.replace(\"Nhiều hơn 10\", \"11\", regex=True)"
   ]
  },
  {
   "cell_type": "code",
   "execution_count": 9,
   "metadata": {},
   "outputs": [],
   "source": [
    "df['Date'] = df['Date'].astype('string')\n",
    "df['Address'] = df['Address'].astype('string')\n",
    "df['Housing_type'] = df['Housing_type'].astype('string')\n",
    "df['District'] = df['District'].astype('string')\n",
    "df['Ward'] = df['Ward'].astype('string')\n",
    "df['Legal_documents'] = df['Legal_documents'].astype('string')\n",
    "#They are expected to be number values, let's check\n",
    "df[\"Number_of_floor\"]= df[\"Number_of_floor\"].fillna(0).astype(int)\n",
    "df['Number_of_room'] = df['Number_of_room'].astype('string')\n",
    "df['Area'] = df['Area'].astype('float')\n",
    "df['Length'] = df['Length'].astype('float')\n",
    "df['Width'] = df['Width'].astype('float')\n",
    "df['Price_per_metersquare'] = df['Price_per_metersquare'].astype('float')"
   ]
  },
  {
   "cell_type": "markdown",
   "metadata": {},
   "source": [
    "## Recheck data type"
   ]
  },
  {
   "cell_type": "code",
   "execution_count": 10,
   "metadata": {},
   "outputs": [
    {
     "data": {
      "text/plain": [
       "Date                      string\n",
       "Address                   string\n",
       "District                  string\n",
       "Ward                      string\n",
       "Housing_type              string\n",
       "Legal_documents           string\n",
       "Number_of_floor            int64\n",
       "Number_of_room            string\n",
       "Area                     float64\n",
       "Length                   float64\n",
       "Width                    float64\n",
       "Price_per_metersquare    float64\n",
       "dtype: object"
      ]
     },
     "execution_count": 10,
     "metadata": {},
     "output_type": "execute_result"
    }
   ],
   "source": [
    "df.dtypes"
   ]
  },
  {
   "cell_type": "markdown",
   "metadata": {
    "_cell_guid": "9912539a-12b5-4739-bc2c-e1cecf758dca",
    "_uuid": "6105e90cd8f0e8d49ae188edad65414678a7be23"
   },
   "source": [
    "## 2d. Dealing with Missing values\n",
    "***\n",
    "**Missing values in dataset.**"
   ]
  },
  {
   "cell_type": "code",
   "execution_count": 11,
   "metadata": {
    "execution": {
     "iopub.execute_input": "2021-12-19T10:46:50.095103Z",
     "iopub.status.busy": "2021-12-19T10:46:50.094745Z",
     "iopub.status.idle": "2021-12-19T10:46:50.111018Z",
     "shell.execute_reply": "2021-12-19T10:46:50.110144Z",
     "shell.execute_reply.started": "2021-12-19T10:46:50.095032Z"
    }
   },
   "outputs": [
    {
     "data": {
      "text/plain": [
       "Date                         1\n",
       "Address                     48\n",
       "District                     2\n",
       "Ward                        48\n",
       "Housing_type                32\n",
       "Legal_documents          28887\n",
       "Number_of_floor              0\n",
       "Number_of_room              39\n",
       "Area                         2\n",
       "Length                   62670\n",
       "Width                    62670\n",
       "Price_per_metersquare       13\n",
       "dtype: int64"
      ]
     },
     "execution_count": 11,
     "metadata": {},
     "output_type": "execute_result"
    }
   ],
   "source": [
    "df.isnull().sum()"
   ]
  },
  {
   "cell_type": "markdown",
   "metadata": {},
   "source": [
    "### Date,  District, Area Feature"
   ]
  },
  {
   "cell_type": "code",
   "execution_count": 12,
   "metadata": {},
   "outputs": [],
   "source": [
    "def percent_value_counts(df, feature):\n",
    "    \"\"\"This function takes in a dataframe and a column and finds the percentage of the value_counts\"\"\"\n",
    "    percent = pd.DataFrame(round(df.loc[:,feature].value_counts(dropna=False, normalize=True)*100,2))\n",
    "    ## creating a df with th\n",
    "    total = pd.DataFrame(df.loc[:,feature].value_counts(dropna=False))\n",
    "    ## concating percent and total dataframe\n",
    "\n",
    "    total.columns = [\"Total\"]\n",
    "    percent.columns = ['Percent']\n",
    "    return pd.concat([total, percent], axis = 1)"
   ]
  },
  {
   "cell_type": "code",
   "execution_count": 13,
   "metadata": {},
   "outputs": [],
   "source": [
    "df = df[df['Date'].notna()]\n",
    "df = df[df['District'].notna()]\n",
    "df = df[df['Area'].notna()]"
   ]
  },
  {
   "cell_type": "markdown",
   "metadata": {},
   "source": [
    "### Other features"
   ]
  },
  {
   "cell_type": "code",
   "execution_count": 14,
   "metadata": {
    "scrolled": false
   },
   "outputs": [],
   "source": [
    "df['Price_per_metersquare'] = df.groupby('District')['Price_per_metersquare'].apply(lambda x: x.fillna(x.median()))\n",
    "# df['Address'] = df.groupby('District')['Address'].apply(lambda x: x.fillna(x.median()))\n",
    "df['Address'] = df.groupby('District').Address.bfill()\n",
    "df['Ward'] = df.groupby('District').Ward.bfill()\n",
    "df['Housing_type'] = df.groupby('District').Housing_type.bfill()\n",
    "df['Legal_documents'].fillna(\"Giấy tờ khác\", inplace=True)\n",
    "df['Number_of_room'].fillna(\"4 phòng\", inplace=True)\n",
    "df['Length'] = df.groupby('Area').Length.bfill()\n",
    "df['Length'].fillna((df['Length'].mean()), inplace=True)\n",
    "df['Width'] = df.groupby('Area').Width.bfill()\n",
    "df['Width'].fillna((df['Width'].mean()), inplace=True)"
   ]
  },
  {
   "cell_type": "markdown",
   "metadata": {},
   "source": [
    "## 2e. Translate all values to English\n",
    "***\n",
    "Since all the values are Vietnamese so it is important to translate all of them in English"
   ]
  },
  {
   "cell_type": "markdown",
   "metadata": {},
   "source": [
    "<b> District"
   ]
  },
  {
   "cell_type": "code",
   "execution_count": 15,
   "metadata": {},
   "outputs": [
    {
     "data": {
      "text/plain": [
       "Quận Đống Đa         13991\n",
       "Quận Thanh Xuân      12959\n",
       "Quận Hoàng Mai       11164\n",
       "Quận Hai Bà Trưng    10578\n",
       "Quận Hà Đông          7833\n",
       "Quận Cầu Giấy         6607\n",
       "Quận Ba Đình          4692\n",
       "Quận Long Biên        4217\n",
       "Quận Nam Từ Liêm      3188\n",
       "Quận Tây Hồ           2950\n",
       "Quận Bắc Từ Liêm      1536\n",
       "Huyện Thanh Trì       1201\n",
       "Quận Hoàn Kiếm         528\n",
       "Huyện Hoài Đức         454\n",
       "Huyện Gia Lâm          271\n",
       "Huyện Đông Anh          97\n",
       "Huyện Thanh Oai         51\n",
       "Huyện Sóc Sơn           40\n",
       "Huyện Quốc Oai          24\n",
       "Huyện Đan Phượng        23\n",
       "Huyện Chương Mỹ         20\n",
       "Thị xã Sơn Tây          19\n",
       "Huyện Thường Tín        16\n",
       "Huyện Thạch Thất        14\n",
       "Huyện Mê Linh           11\n",
       "Huyện Ba Vì              6\n",
       "Huyện Phúc Thọ           2\n",
       "Huyện Mỹ Đức             1\n",
       "Huyện Phú Xuyên          1\n",
       "Name: District, dtype: Int64"
      ]
     },
     "execution_count": 15,
     "metadata": {},
     "output_type": "execute_result"
    }
   ],
   "source": [
    "df['District'].value_counts()"
   ]
  },
  {
   "cell_type": "code",
   "execution_count": 16,
   "metadata": {},
   "outputs": [],
   "source": [
    "df['District'].replace(to_replace =[\"Quận Đống Đa\"], value =\"Dong Da District\", inplace = True)\n",
    "df['District'].replace(to_replace =[\"Quận Thanh Xuân\"], value =\"Thanh Xuan District\", inplace = True)\n",
    "df['District'].replace(to_replace =[\"Quận Hoàng Mai\"], value =\"Hoang Mai District\", inplace = True)\n",
    "df['District'].replace(to_replace =[\"Quận Hai Bà Trưng\"], value =\"Hai Ba Trung District\", inplace = True)\n",
    "df['District'].replace(to_replace =[\"Quận Hà Đông\"], value =\"Ha Dong District\", inplace = True)\n",
    "df['District'].replace(to_replace =[\"Quận Cầu Giấy\"], value =\"Cau Giay District\", inplace = True)\n",
    "df['District'].replace(to_replace =[\"Quận Ba Đình\"], value =\"Ba Dinh District\", inplace = True)\n",
    "df['District'].replace(to_replace =[\"Quận Long Biên\"], value =\"Long Bien District\", inplace = True)\n",
    "df['District'].replace(to_replace =[\"Quận Nam Từ Liêm\"], value =\"Nam Tu Liem District\", inplace = True)\n",
    "df['District'].replace(to_replace =[\"Quận Tây Hồ\"], value =\"Tay Ho District\", inplace = True)\n",
    "df['District'].replace(to_replace =[\"Quận Bắc Từ Liêm\"], value =\"Bac Tu Liem District\", inplace = True)\n",
    "df['District'].replace(to_replace =[\"Huyện Thanh Trì\"], value =\"Thanh Tri District\", inplace = True)\n",
    "df['District'].replace(to_replace =[\"Quận Hoàn Kiếm\"], value =\"Hoan Kiem District\", inplace = True)\n",
    "df['District'].replace(to_replace =[\"Huyện Hoài Đức\"], value =\"Hoai Duc District\", inplace = True)\n",
    "df['District'].replace(to_replace =[\"Huyện Gia Lâm\"], value =\"Gia Lam District\", inplace = True)\n",
    "df['District'].replace(to_replace =[\"Huyện Đông Anh\"], value =\"Dong Anh District\", inplace = True)\n",
    "df['District'].replace(to_replace =[\"Huyện Thanh Oai\"], value =\"Thanh Oai District\", inplace = True)\n",
    "df['District'].replace(to_replace =[\"Huyện Sóc Sơn\"], value =\"Soc Son District\", inplace = True)\n",
    "df['District'].replace(to_replace =[\"Huyện Quốc Oai\"], value =\"Quoc Oai District\", inplace = True)\n",
    "df['District'].replace(to_replace =[\"Huyện Đan Phượng\"], value =\"Dan Phuong District\", inplace = True)\n",
    "df['District'].replace(to_replace =[\"Huyện Chương Mỹ\"], value =\"Chuong My District\", inplace = True)\n",
    "df['District'].replace(to_replace =[\"Thị xã Sơn Tây\"], value =\"Son Tay Town\", inplace = True)\n",
    "df['District'].replace(to_replace =[\"Huyện Thường Tín\"], value =\"Thuong Tin District\", inplace = True)\n",
    "df['District'].replace(to_replace =[\"Huyện Thạch Thất\"], value =\"Thach That District\", inplace = True)\n",
    "df['District'].replace(to_replace =[\"Huyện Mê Linh\"], value =\"Me Linh District\", inplace = True)\n",
    "df['District'].replace(to_replace =[\"Huyện Ba Vì\"], value =\"Ba Vi District\", inplace = True)\n",
    "df['District'].replace(to_replace =[\"Huyện Phúc Thọ\"], value =\"Phuc Tho District\", inplace = True)\n",
    "df['District'].replace(to_replace =[\"Huyện Phú Xuyên\"], value =\"Phu Xuyen District\", inplace = True)\n",
    "df['District'].replace(to_replace =[\"Huyện Mỹ Đức\"], value =\"My Duc District\", inplace = True)"
   ]
  },
  {
   "cell_type": "markdown",
   "metadata": {},
   "source": [
    "<b> Housing_type"
   ]
  },
  {
   "cell_type": "code",
   "execution_count": 17,
   "metadata": {
    "scrolled": false
   },
   "outputs": [
    {
     "name": "stdout",
     "output_type": "stream",
     "text": [
      "Nhà ngõ, hẻm\n",
      "Nhà mặt phố, mặt tiền\n",
      "Nhà phố liền kề\n",
      "Nhà biệt thự\n"
     ]
    }
   ],
   "source": [
    "categories = list(df['Housing_type'].value_counts().index)\n",
    "\n",
    "for x in range(len(categories)):\n",
    "    print (categories[x])"
   ]
  },
  {
   "cell_type": "code",
   "execution_count": 18,
   "metadata": {},
   "outputs": [],
   "source": [
    "df['Housing_type'].replace(to_replace =[\"Nhà ngõ, hẻm\"], value =\"Lane house\", inplace = True)\n",
    "df['Housing_type'].replace(to_replace =[\"Nhà mặt phố, mặt tiền\"], value =\"Frontage\", inplace = True)\n",
    "df['Housing_type'].replace(to_replace =[\"Nhà phố liền kề\"], value =\"Adjacent townhouses\", inplace = True)\n",
    "df['Housing_type'].replace(to_replace =[\"Nhà biệt thự\"], value =\"Villa house\", inplace = True)   "
   ]
  },
  {
   "cell_type": "markdown",
   "metadata": {},
   "source": [
    "<b> Legal_documents"
   ]
  },
  {
   "cell_type": "code",
   "execution_count": 19,
   "metadata": {},
   "outputs": [
    {
     "name": "stdout",
     "output_type": "stream",
     "text": [
      "Đã có sổ\n",
      "Giấy tờ khác\n",
      "Đang chờ sổ\n"
     ]
    }
   ],
   "source": [
    "categories = list(df['Legal_documents'].value_counts().index)\n",
    "\n",
    "for x in range(len(categories)):\n",
    "    print (categories[x])"
   ]
  },
  {
   "cell_type": "code",
   "execution_count": 20,
   "metadata": {},
   "outputs": [],
   "source": [
    "df['Legal_documents'].replace(to_replace =[\"Đã có sổ\"], value =\"Already had registration book\", inplace = True)\n",
    "df['Legal_documents'].replace(to_replace =[\"Giấy tờ khác\"], value =\"Other\", inplace = True)\n",
    "df['Legal_documents'].replace(to_replace =[\"Đang chờ sổ\"], value =\"Waiting for registration book\", inplace = True)"
   ]
  },
  {
   "cell_type": "markdown",
   "metadata": {},
   "source": [
    "<b> Number_of_room"
   ]
  },
  {
   "cell_type": "code",
   "execution_count": 21,
   "metadata": {},
   "outputs": [
    {
     "name": "stdout",
     "output_type": "stream",
     "text": [
      "4 phòng\n",
      "3 phòng\n",
      "5 phòng\n",
      "2 phòng\n",
      "6 phòng\n",
      "1 phòng\n",
      "8 phòng\n",
      "nhiều hơn 10 phòng\n",
      "7 phòng\n",
      "10 phòng\n",
      "9 phòng\n"
     ]
    }
   ],
   "source": [
    "categories = list(df['Number_of_room'].value_counts().index)\n",
    "\n",
    "for x in range(len(categories)):\n",
    "    print (categories[x])"
   ]
  },
  {
   "cell_type": "code",
   "execution_count": 22,
   "metadata": {},
   "outputs": [],
   "source": [
    "df['Number_of_room'].replace(to_replace =[\"1 phòng\"], value =\"1 room\", inplace = True)\n",
    "df['Number_of_room'].replace(to_replace =[\"2 phòng\"], value =\"2 rooms\", inplace = True)\n",
    "df['Number_of_room'].replace(to_replace =[\"3 phòng\"], value =\"3 rooms\", inplace = True)\n",
    "df['Number_of_room'].replace(to_replace =[\"4 phòng\"], value =\"4 rooms\", inplace = True)\n",
    "df['Number_of_room'].replace(to_replace =[\"5 phòng\"], value =\"5 rooms\", inplace = True)\n",
    "df['Number_of_room'].replace(to_replace =[\"6 phòng\"], value =\"6 rooms\", inplace = True)\n",
    "df['Number_of_room'].replace(to_replace =[\"7 phòng\"], value =\"7 rooms\", inplace = True)\n",
    "df['Number_of_room'].replace(to_replace =[\"8 phòng\"], value =\"8 rooms\", inplace = True)\n",
    "df['Number_of_room'].replace(to_replace =[\"9 phòng\"], value =\"9 rooms\", inplace = True)\n",
    "df['Number_of_room'].replace(to_replace =[\"10 phòng\"], value =\"10 rooms\", inplace = True)\n",
    "df['Number_of_room'].replace(to_replace =[\"nhiều hơn 10 phòng\"], value =\"1 rooms\", inplace = True)"
   ]
  },
  {
   "cell_type": "markdown",
   "metadata": {},
   "source": [
    "## 2g. Dealing with outliers\n",
    "***\n",
    "Although, there are maybe some outliers in some columns which are \"Area\", \"Length\", \"Width\" and \"Price_per_metersquare\" column, in this scenario, they should not be deleted since the target of this report is to find which housing area are safe, ideal or dangerous to buy"
   ]
  },
  {
   "cell_type": "markdown",
   "metadata": {},
   "source": [
    "# Part 3. Visualization and Feature Relations\n",
    "***\n",
    "Before we dive into finding relations between independent variables and our dependent variable(Price_per_metersquare), let us create some assumptions about how the relations may turn-out among features.\n",
    "\n",
    "**Assumptions:** \n",
    "\n",
    "- Same housing type, the plot in urban districts in Hanoi should not be lower than the suburban districts.\n",
    "- In the same street, the lane house should be cheeper than the Frontage or Villa house.    \n",
    "\n",
    "\n",
    "Now, let's see how the features are related to each other by creating some visualizations. "
   ]
  },
  {
   "cell_type": "markdown",
   "metadata": {},
   "source": [
    "## Some domain knowledge:\n",
    "***\n",
    "1. **Housing_type**: \n",
    "> In the same street, the lane house should be cheeper than the Frontage or Villa house, but in some cases they have more advantages since the rules for building them is not as restricted as the Frontage or Villa house.\n",
    "\n",
    "2. **Number of Floor**: \n",
    "- **The Land lot with an area of 30m2 to less than 40m2** : With a facade width greater than 3m, a depth of more than 5m compared to the construction boundary, it is allowed to build no more than 4 floors + 1 tum (total height < 16m).\n",
    "- **The Land lot with an area of 40m2 - 50m2** : If the width of the facade is over 3m and less than 8m, the depth compared to the construction limit is greater than 5m, it is allowed to build no more than 5 floors + 1 tum, or have a heat resistant roof (total height of the house < 20m).\n",
    "- **The Land Lot with an area of over 50m2**: The width of the facade is greater than 8m, the depth is greater than 5m compared to the construction boundary or the construction works on both sides of the road in the restricted development planning area, the 6-storey house may be built.\n",
    "\n",
    "3. **Legal_documents**:\n",
    "In Vietnam, the House ownership certificate is used for transfer of land use right, however, it is still possible in transfering in some cases\n",
    "- Having a Certificate, except for the case specified in Clause 3, Article 186 and the case of inheritance specified in Clause 1, Article 168 of this Law.\n",
    "\n",
    "- Undisputed land.\n",
    "\n",
    "- The land use right is not distrained to secure judgment enforcement.\n",
    "\n",
    "- During the land use term.\n",
    "\n",
    "However, it is **NOT SAFE** to use these plots since the land users can just only use temporarily the land in its current state until the State recovers the land, and the condition is extremely overwhelmed and restricted.\n",
    "\n",
    "4. **Area, Length and Width** :\n",
    "According to The latest report on the conditions for the separation of plots in Hanoi in 2021, the plot having area less than 30m^2 can still be sold but it has to follow the condition:\n",
    "\n",
    "According to Clause 1, Article 188 of the 2013 Land Law, when transferring land use rights (which people often call land purchase and sale), the land user must meet the following conditions:\n",
    "\n",
    "- Having Certificate, except 02 cases;\n",
    "\n",
    "- Undisputed land;\n",
    "\n",
    "- The land use right is not distrained to secure judgment enforcement;\n",
    "\n",
    "- During the land use period.\n",
    "\n",
    "Moreover in order to build a house, the plot must be calculated the density for the plot with the formula\n",
    "\n",
    "Density (%) = 90 + (85-90) / (100-75) * ( <b> Area </b> - 75)\n",
    "***\n",
    "For example, your lot area is 83m2. Your house is in the inner city. The construction density is calculated as follows:\n",
    "\n",
    "Density (%) = 90 + (85-90) / (100-75) * (83-75) = 88.4%\n",
    "\n",
    "Thus, the land area is 83m2, the area allowed to build: 83 x 88.4% = 73.37m2. The rest is not built as a setback and atrium (leave space) to ensure density.\n",
    "***\n",
    "\n",
    "5. **Price_per_metersquare** : \n",
    "- Arcoding to Tuoitre, the Price_per_metersquare is in the range from 495000 VND/m2 to 87.920.000 VND/m2 is safe and ideal for consume\n",
    "- Having same housing type, the plot in urban districts in Hanoi should not be lower than the suburban districts\n",
    "***So that the safety condition for the customers is:** \n",
    "- Plot has number of floor is less than 8\n",
    "- Already had registration book.\n",
    "- The construction density is higher than 30m^2, \n",
    "- Price is in the range from 495000 VND/m2 to 87.920.000 VND/m2.\n",
    "- Same housing type, the plot in urban districts in Hanoi should not be lower than the suburban districts.\n",
    "- In the same street, the lane house should be cheaper than the Frontage or Villa house.\n",
    "\n",
    "***Reference:*** \n",
    "- https://danviet.vn/dieu-kien-tach-thua-tai-ha-noi-nam-2021-moi-nhat-2021032906255103.htm \n",
    "- https://noithatmyhouse.com/quy-dinh-chieu-cao-xay-dung-nha-o/\n",
    "- https://luatvietnam.vn/dat-dai-nha-o/su-dung-dat-khong-co-so-do-567-27503-article.html\n",
    "- https://luatvietnam.vn/dat-dai-nha-o/dat-nho-hon-dien-tich-toi-thieu-co-duoc-phep-mua-ban-567-22530-article.html\n",
    "- https://tuoitre.vn/gia-dat-o-tai-ha-noi-cao-nhat-187-92-trieu-met-vuong-20191226102403571.htm"
   ]
  },
  {
   "cell_type": "markdown",
   "metadata": {},
   "source": [
    "## Calculate construction density\n",
    "***"
   ]
  },
  {
   "cell_type": "code",
   "execution_count": 23,
   "metadata": {},
   "outputs": [],
   "source": [
    "df['Construction_density'] = df['Area'].apply(lambda num : num*(90 + (85-90) / (100-75) * (num-75)) / 100 ) "
   ]
  },
  {
   "cell_type": "markdown",
   "metadata": {},
   "source": [
    "## New \"isUrban\" Column"
   ]
  },
  {
   "cell_type": "code",
   "execution_count": 24,
   "metadata": {},
   "outputs": [],
   "source": [
    "def isUrban(district):\n",
    "    urban = ['Dong Da District', 'Thanh Xuan District', 'Hoang Mai District',  'Hai Ba Trung District', 'Ha Dong District',\n",
    "         'Cau Giay District', 'Ba Dinh District', 'Long Bien District', 'Nam Tu Liem District', 'Tay Ho District',\n",
    "         'Bac Tu Liem District', 'Hoan Kiem District']\n",
    "    inUrban = False\n",
    "    for i in range (0, 11):\n",
    "        if(district == urban[i]): inUrban = True\n",
    "    return inUrban\n",
    "    \n",
    "df['isUrban'] = df['District'].apply(isUrban)"
   ]
  },
  {
   "cell_type": "markdown",
   "metadata": {},
   "source": [
    "## New \"isSafe\" Column"
   ]
  },
  {
   "cell_type": "code",
   "execution_count": 64,
   "metadata": {},
   "outputs": [],
   "source": [
    "def isSafe(Legal_documents, Number_of_floor, Construction_density, Price_per_metersquare):\n",
    "    if(Legal_documents == 'Already had registration book' or (Number_of_floor < 8) and \n",
    "       (Construction_density > 30) and (Price_per_metersquare > 495000 \n",
    "                                            and Price_per_metersquare < 87920000)):\n",
    "        return True\n",
    "    else: \n",
    "        return False\n",
    "    \n",
    "df['isSafe'] = df.apply(lambda x: isSafe(x['Legal_documents'], x['Number_of_floor'], x['Construction_density'], x['Price_per_metersquare']), axis=1)"
   ]
  },
  {
   "cell_type": "markdown",
   "metadata": {},
   "source": [
    "## 3a. Date\n",
    "***"
   ]
  },
  {
   "cell_type": "markdown",
   "metadata": {},
   "source": [
    "### House Price Count by Month"
   ]
  },
  {
   "cell_type": "code",
   "execution_count": 27,
   "metadata": {},
   "outputs": [],
   "source": [
    "# slice the column to get the year, month, date\n",
    "def get_years(df, column):\n",
    "    return df[column].apply(lambda date: date[0:4])\n",
    "\n",
    "def get_months(df, column):\n",
    "    return df[column].apply(lambda date: date[5:7])\n",
    "\n",
    "# df\n",
    "df['Month'] = get_months(df, 'Date')\n",
    "df['Year'] = get_years(df, 'Date')"
   ]
  },
  {
   "cell_type": "code",
   "execution_count": 57,
   "metadata": {},
   "outputs": [
    {
     "data": {
      "text/plain": [
       "<seaborn.axisgrid.FacetGrid at 0x7fa4609e77c0>"
      ]
     },
     "execution_count": 57,
     "metadata": {},
     "output_type": "execute_result"
    },
    {
     "data": {
      "image/png": "[encoded data removed]",
      "text/plain": [
       "<Figure size 720x720 with 1 Axes>"
      ]
     },
     "metadata": {},
     "output_type": "display_data"
    }
   ],
   "source": [
    "plot = sns.catplot(data=df, kind=\"bar\", x=\"Month\", y=\"Price_per_metersquare\", height = 10)\n",
    "plot.fig.suptitle(\"House Price Count by Month\", fontsize=20, \n",
    "                  fontdict={\"weight\": \"bold\"}, y=1.08)\n",
    "plot.set_xlabels(\"Month\", fontsize = 20)\n",
    "plot.set_ylabels(\"Price_per_metersquare\", fontsize = 20)"
   ]
  },
  {
   "cell_type": "markdown",
   "metadata": {},
   "source": [
    "### The Price_per_metersquare of each Housing Type in 2019 and 2020"
   ]
  },
  {
   "cell_type": "code",
   "execution_count": 56,
   "metadata": {},
   "outputs": [
    {
     "data": {
      "text/plain": [
       "<seaborn.axisgrid.FacetGrid at 0x7fa460e1a3d0>"
      ]
     },
     "execution_count": 56,
     "metadata": {},
     "output_type": "execute_result"
    },
    {
     "data": {
      "image/png": "[encoded data removed]",
      "text/plain": [
       "<Figure size 864.225x720 with 1 Axes>"
      ]
     },
     "metadata": {},
     "output_type": "display_data"
    }
   ],
   "source": [
    "plot = sns.catplot(data=df, kind=\"bar\", x=\"Year\", y=\"Price_per_metersquare\", hue=\"Housing_type\", height = 10)\n",
    "plot.fig.suptitle(\"The Price_per_metersquare of each Housing Type in 2019 and 2020\", fontsize=20, \n",
    "                  fontdict={\"weight\": \"bold\"}, y=1.08)\n",
    "plot.set_xlabels(\"Year\", fontsize = 20)\n",
    "plot.set_ylabels(\"Price_per_metersquare\", fontsize = 20)"
   ]
  },
  {
   "cell_type": "markdown",
   "metadata": {},
   "source": [
    "### The Price_per_metersquare of houses in Urban and Suburban in 2019 and 2020"
   ]
  },
  {
   "cell_type": "code",
   "execution_count": 69,
   "metadata": {},
   "outputs": [
    {
     "data": {
      "text/plain": [
       "<seaborn.axisgrid.FacetGrid at 0x7fa46294cf70>"
      ]
     },
     "execution_count": 69,
     "metadata": {},
     "output_type": "execute_result"
    },
    {
     "data": {
      "image/png": "[encoded data removed]",
      "text/plain": [
       "<Figure size 786.35x720 with 1 Axes>"
      ]
     },
     "metadata": {},
     "output_type": "display_data"
    }
   ],
   "source": [
    "plot = sns.catplot(data=df, kind=\"bar\", x=\"Year\", y=\"Price_per_metersquare\", hue=\"isUrban\", height = 10)\n",
    "plot.fig.suptitle(\"The Price_per_metersquare of houses in Urban and Suburban in 2019 and 2020\", fontsize=20, \n",
    "                  fontdict={\"weight\": \"bold\"}, y=1.08)\n",
    "plot.set_xlabels(\"Year\", fontsize = 20)\n",
    "plot.set_ylabels(\"Price_per_metersquare\", fontsize = 20)"
   ]
  },
  {
   "cell_type": "code",
   "execution_count": null,
   "metadata": {},
   "outputs": [],
   "source": [
    "# Kernel Density Plot\n",
    "fig = plt.figure(figsize=(15,8),)\n",
    "## I have included to different ways to code a plot below, choose the one that suites you. \n",
    "ax=sns.kdeplot(df.Year[df.Survived == 0] , \n",
    "               color='gray',\n",
    "               shade=True,\n",
    "               label='not survived')\n",
    "ax=sns.kdeplot(train.loc[(train['Survived'] == 1),'Pclass'] , \n",
    "               color='g',\n",
    "               shade=True, \n",
    "               label='survived', \n",
    "              )\n",
    "plt.title('Passenger Class Distribution - Survived vs Non-Survived', fontsize = 25, pad = 40)\n",
    "plt.ylabel(\"Frequency of Passenger Survived\", fontsize = 15, labelpad = 20)\n",
    "plt.xlabel(\"Passenger Class\", fontsize = 15,labelpad =20)\n",
    "## Converting xticks into words for better understanding\n",
    "labels = ['Upper', 'Middle', 'Lower']\n",
    "plt.xticks(sorted(train.Pclass.unique()), labels);"
   ]
  },
  {
   "cell_type": "markdown",
   "metadata": {},
   "source": [
    "Price in Suburban is remarkably higher -> ????"
   ]
  },
  {
   "cell_type": "markdown",
   "metadata": {},
   "source": [
    "### The Price_per_metersquare of each housing types in urban and suburban"
   ]
  },
  {
   "cell_type": "code",
   "execution_count": 78,
   "metadata": {},
   "outputs": [
    {
     "data": {
      "text/plain": [
       "<seaborn.axisgrid.FacetGrid at 0x7fa4723c44c0>"
      ]
     },
     "execution_count": 78,
     "metadata": {},
     "output_type": "execute_result"
    },
    {
     "data": {
      "image/png": "[encoded data removed]",
      "text/plain": [
       "<Figure size 786.35x720 with 1 Axes>"
      ]
     },
     "metadata": {},
     "output_type": "display_data"
    }
   ],
   "source": [
    "plot = sns.catplot(data=df, kind=\"bar\", x=\"Housing_type\", y=\"Price_per_metersquare\", hue=\"isUrban\", height = 10)\n",
    "plot.fig.suptitle(\"The Price_per_metersquare of each housing types in urban and suburban\", fontsize=20, \n",
    "                  fontdict={\"weight\": \"bold\"}, y=1.08)\n",
    "plot.set_xlabels(\"Housing_type\", fontsize = 20)\n",
    "plot.set_ylabels(\"Price_per_metersquare\", fontsize = 20)"
   ]
  },
  {
   "cell_type": "markdown",
   "metadata": {},
   "source": [
    "### The Price_per_metersquare of housing urban and suburban and the Safety"
   ]
  },
  {
   "cell_type": "code",
   "execution_count": 84,
   "metadata": {},
   "outputs": [
    {
     "data": {
      "text/plain": [
       "<seaborn.axisgrid.FacetGrid at 0x7fa45f54e880>"
      ]
     },
     "execution_count": 84,
     "metadata": {},
     "output_type": "execute_result"
    },
    {
     "data": {
      "image/png": "[encoded data removed]",
      "text/plain": [
       "<Figure size 786.35x720 with 1 Axes>"
      ]
     },
     "metadata": {},
     "output_type": "display_data"
    }
   ],
   "source": [
    "plot = sns.catplot(data=df, kind=\"bar\", x=\"isSafe\", y=\"Price_per_metersquare\", hue=\"isUrban\", height = 10)\n",
    "plot.fig.suptitle(\"The Price_per_metersquare of housing urban and suburban and the Safety\", fontsize=20, \n",
    "                  fontdict={\"weight\": \"bold\"}, y=1.08)\n",
    "plot.set_xlabels(\"isSafe\", fontsize = 20)\n",
    "plot.set_ylabels(\"Price_per_metersquare\", fontsize = 20)"
   ]
  },
  {
   "cell_type": "markdown",
   "metadata": {},
   "source": [
    "Price in Suburban is higher than the Urban, and it is not safe to buy -> Not good idea to buy"
   ]
  },
  {
   "cell_type": "markdown",
   "metadata": {},
   "source": [
    "## 3b. District\n",
    "***"
   ]
  },
  {
   "cell_type": "markdown",
   "metadata": {},
   "source": [
    "### The Price_per_metersquare of houses in some district in urban from 2019 to 2020"
   ]
  },
  {
   "cell_type": "code",
   "execution_count": 74,
   "metadata": {},
   "outputs": [],
   "source": [
    "urban = ['Dong Da District', 'Thanh Xuan District', 'Hoang Mai District',  'Hai Ba Trung District', 'Ha Dong District',\n",
    "         'Cau Giay District', 'Ba Dinh District', 'Long Bien District', 'Nam Tu Liem District', 'Tay Ho District',\n",
    "         'Bac Tu Liem District', 'Hoan Kiem District']\n",
    "\n",
    "#reconfirm the condition again\n",
    "urban_price = df[(df['District'].isin(urban))]"
   ]
  },
  {
   "cell_type": "code",
   "execution_count": 75,
   "metadata": {},
   "outputs": [
    {
     "data": {
      "text/plain": [
       "<seaborn.axisgrid.FacetGrid at 0x7fa45aef1f70>"
      ]
     },
     "execution_count": 75,
     "metadata": {},
     "output_type": "execute_result"
    },
    {
     "data": {
      "image/png": "[encoded data removed]",
      "text/plain": [
       "<Figure size 861.975x720 with 1 Axes>"
      ]
     },
     "metadata": {},
     "output_type": "display_data"
    }
   ],
   "source": [
    "plot = sns.catplot(data=urban_price, kind=\"bar\", x=\"Year\", y=\"Price_per_metersquare\", hue=\"District\", height = 10)\n",
    "plot.fig.suptitle(\"The Price_per_metersquare of houses in some district in urban from 2019 to 2020\", fontsize=20, \n",
    "                  fontdict={\"weight\": \"bold\"}, y=1.08)\n",
    "plot.set_xlabels(\"Year\", fontsize = 20)\n",
    "plot.set_ylabels(\"Price_per_metersquare\", fontsize = 20)"
   ]
  },
  {
   "cell_type": "markdown",
   "metadata": {
    "_cell_guid": "63420775-00e1-4650-a2f3-2ae6eebab23c",
    "_uuid": "ca8bfb1bfe4d1079635a54c8daec3399b8355749"
   },
   "source": [
    "## 3c. Legal_documents\n",
    "***"
   ]
  },
  {
   "cell_type": "code",
   "execution_count": 86,
   "metadata": {
    "_cell_guid": "78322e76-ccaa-4bb9-9cc2-7a3394ddfe8c",
    "_kg_hide-input": true,
    "_uuid": "6008755b1522e2a849b6e1ccbb7da57270293ca4",
    "execution": {
     "iopub.execute_input": "2021-12-19T10:46:51.146806Z",
     "iopub.status.busy": "2021-12-19T10:46:51.146535Z",
     "iopub.status.idle": "2021-12-19T10:46:51.407127Z",
     "shell.execute_reply": "2021-12-19T10:46:51.406137Z",
     "shell.execute_reply.started": "2021-12-19T10:46:51.146755Z"
    }
   },
   "outputs": [
    {
     "data": {
      "image/png": "[encoded data removed]",
      "text/plain": [
       "<Figure size 1080x576 with 1 Axes>"
      ]
     },
     "metadata": {},
     "output_type": "display_data"
    }
   ],
   "source": [
    "import seaborn as sns\n",
    "pal = {'Already had registration book':\"green\", 'Waiting for registration book':\"Pink\", 'Other' : \"gray\"}\n",
    "sns.set(style=\"darkgrid\")\n",
    "plt.subplots(figsize = (15,8))\n",
    "ax = sns.barplot(x = \"Legal_documents\", \n",
    "                 y = \"Price_per_metersquare\", \n",
    "                 data=df, \n",
    "                 palette = pal,\n",
    "                 linewidth=5,\n",
    "                 order = ['Already had registration book','Waiting for registration book', 'Other'],\n",
    "                 capsize = .1,\n",
    "\n",
    "                )\n",
    "\n",
    "plt.title(\"Price and Legal Documents Relationship\", fontsize = 25,loc = 'center', pad = 40)\n",
    "plt.xlabel(\"Legal documents\", fontsize = 20)\n",
    "plt.ylabel(\"Price_per_metersquare\",fontsize = 20);"
   ]
  },
  {
   "cell_type": "markdown",
   "metadata": {
    "_cell_guid": "2daa3614-866c-48d7-a8cb-26ee8126a806",
    "_uuid": "e746a4be3c0ed3d94a7a4366a5bff565c7bc9834"
   },
   "source": [
    "## 3b. Pclass and Survived\n",
    "<a id=\"pcalss_and_survived\"></a>\n",
    "***"
   ]
  },
  {
   "cell_type": "code",
   "execution_count": null,
   "metadata": {
    "_kg_hide-input": true,
    "execution": {
     "iopub.execute_input": "2021-12-19T10:46:51.613015Z",
     "iopub.status.busy": "2021-12-19T10:46:51.612705Z",
     "iopub.status.idle": "2021-12-19T10:46:51.828422Z",
     "shell.execute_reply": "2021-12-19T10:46:51.827484Z",
     "shell.execute_reply.started": "2021-12-19T10:46:51.612961Z"
    }
   },
   "outputs": [],
   "source": [
    "temp = train[['Pclass', 'Survived', 'PassengerId']].groupby(['Pclass', 'Survived']).count().reset_index()\n",
    "temp_df = pd.pivot_table(temp, values = 'PassengerId', index = 'Pclass',columns = 'Survived')\n",
    "names = ['No', 'Yes']\n",
    "temp_df.columns = names\n",
    "r = [0,1,2]\n",
    "totals = [i+j for i, j in zip(temp_df['No'], temp_df['Yes'])]\n",
    "No_s = [i / j * 100 for i,j in zip(temp_df['No'], totals)]\n",
    "Yes_s = [i / j * 100 for i,j in zip(temp_df['Yes'], totals)]\n",
    "## Plotting\n",
    "plt.subplots(figsize = (15,10))\n",
    "barWidth = 0.60\n",
    "names = ('Upper', 'Middle', 'Lower')\n",
    "# Create green Bars\n",
    "plt.bar(r, No_s, color='Red', edgecolor='white', width=barWidth)\n",
    "# Create orange Bars\n",
    "plt.bar(r, Yes_s, bottom=No_s, color='Green', edgecolor='white', width=barWidth)\n",
    "\n",
    " \n",
    "# Custom x axis\n",
    "plt.xticks(r, names)\n",
    "plt.xlabel(\"Pclass\")\n",
    "plt.ylabel('Percentage')\n",
    " \n",
    "# Show graphic\n",
    "plt.show()\n"
   ]
  },
  {
   "cell_type": "code",
   "execution_count": null,
   "metadata": {
    "_cell_guid": "93a3a621-7be8-4f28-960d-939068944d3f",
    "_kg_hide-input": true,
    "_uuid": "61543e636b742647f90ea778f30a178a84e50533",
    "execution": {
     "iopub.execute_input": "2021-12-19T10:46:51.831335Z",
     "iopub.status.busy": "2021-12-19T10:46:51.831082Z",
     "iopub.status.idle": "2021-12-19T10:46:52.120808Z",
     "shell.execute_reply": "2021-12-19T10:46:52.119745Z",
     "shell.execute_reply.started": "2021-12-19T10:46:51.831292Z"
    }
   },
   "outputs": [],
   "source": [
    "plt.subplots(figsize = (15,10))\n",
    "sns.barplot(x = \"Pclass\", \n",
    "            y = \"Survived\", \n",
    "            data=train, \n",
    "            linewidth=6,\n",
    "            capsize = .05,\n",
    "            errcolor='blue',\n",
    "            errwidth = 3\n",
    "            \n",
    "\n",
    "           )\n",
    "plt.title(\"Passenger Class Distribution - Survived vs Non-Survived\", fontsize = 25, pad=40)\n",
    "plt.xlabel(\"Socio-Economic class\", fontsize = 15);\n",
    "plt.ylabel(\"% of Passenger Survived\", fontsize = 15);\n",
    "names = ['Upper', 'Middle', 'Lower']\n",
    "#val = sorted(train.Pclass.unique())\n",
    "val = [0,1,2] ## this is just a temporary trick to get the label right. \n",
    "plt.xticks(val, names);"
   ]
  },
  {
   "cell_type": "markdown",
   "metadata": {
    "_cell_guid": "e2c5ce9f-9759-43b6-b286-ec771a5a64c1",
    "_uuid": "6faf3d5f770c23febb20cdc81cc079ed37d59959"
   },
   "source": [
    "- It looks like ...\n",
    "    - ~ 63% first class passenger survived titanic tragedy, while \n",
    "    - ~ 48% second class and \n",
    "    - ~ only  24% third class passenger survived. \n",
    "\n"
   ]
  },
  {
   "cell_type": "code",
   "execution_count": null,
   "metadata": {
    "_cell_guid": "f6eba487-9c63-4cd8-908a-393e2c277e45",
    "_kg_hide-input": true,
    "_uuid": "10867e6cb57231ae599406d827ba5e3f13ccb088",
    "execution": {
     "iopub.execute_input": "2021-12-19T10:46:52.123259Z",
     "iopub.status.busy": "2021-12-19T10:46:52.122842Z",
     "iopub.status.idle": "2021-12-19T10:46:52.500975Z",
     "shell.execute_reply": "2021-12-19T10:46:52.500022Z",
     "shell.execute_reply.started": "2021-12-19T10:46:52.123147Z"
    }
   },
   "outputs": [],
   "source": [
    "# Kernel Density Plot\n",
    "fig = plt.figure(figsize=(15,8),)\n",
    "## I have included to different ways to code a plot below, choose the one that suites you. \n",
    "ax=sns.kdeplot(train.Pclass[train.Survived == 0] , \n",
    "               color='gray',\n",
    "               shade=True,\n",
    "               label='not survived')\n",
    "ax=sns.kdeplot(train.loc[(train['Survived'] == 1),'Pclass'] , \n",
    "               color='g',\n",
    "               shade=True, \n",
    "               label='survived', \n",
    "              )\n",
    "plt.title('Passenger Class Distribution - Survived vs Non-Survived', fontsize = 25, pad = 40)\n",
    "plt.ylabel(\"Frequency of Passenger Survived\", fontsize = 15, labelpad = 20)\n",
    "plt.xlabel(\"Passenger Class\", fontsize = 15,labelpad =20)\n",
    "## Converting xticks into words for better understanding\n",
    "labels = ['Upper', 'Middle', 'Lower']\n",
    "plt.xticks(sorted(train.Pclass.unique()), labels);"
   ]
  },
  {
   "cell_type": "markdown",
   "metadata": {
    "_cell_guid": "43ffcf43-2d0c-4033-8112-9edcca3576f1",
    "_uuid": "f397633bae24a35d3fbe87d1ca54023356e065f9"
   },
   "source": [
    "This KDE plot is pretty self-explanatory with all the labels and colors. Something I have noticed that some readers might find questionable is that the lower class passengers have survived more than second-class passengers. It is true since there were a lot more third-class passengers than first and second. \n",
    "\n",
    "**Summary**\n",
    "***\n",
    "The first class passengers had the upper hand during the tragedy. You can probably agree with me more on this, in the next section of visualizations where we look at the distribution of ticket fare and survived column. "
   ]
  },
  {
   "cell_type": "markdown",
   "metadata": {
    "_cell_guid": "1cb9d740-749b-4700-b9e9-973dbcad6aab",
    "_uuid": "8eeb41d08ce680d51452deeb0ad054b184d67e16"
   },
   "source": [
    "## 3c. Fare and Survived\n",
    "<a id=\"fare_and_survived\"></a>\n",
    "***"
   ]
  },
  {
   "cell_type": "code",
   "execution_count": null,
   "metadata": {
    "_cell_guid": "cd6eb8a9-10a6-4ab8-aaec-4820df35f4c1",
    "_kg_hide-input": true,
    "_uuid": "85737078f0e84fe972a5ddb81b29e114fcfb54be",
    "execution": {
     "iopub.execute_input": "2021-12-19T10:46:52.502732Z",
     "iopub.status.busy": "2021-12-19T10:46:52.502427Z",
     "iopub.status.idle": "2021-12-19T10:46:52.765697Z",
     "shell.execute_reply": "2021-12-19T10:46:52.764885Z",
     "shell.execute_reply.started": "2021-12-19T10:46:52.502645Z"
    }
   },
   "outputs": [],
   "source": [
    "# Kernel Density Plot\n",
    "fig = plt.figure(figsize=(15,8),)\n",
    "ax=sns.kdeplot(train.loc[(train['Survived'] == 0),'Fare'] , color='gray',shade=True,label='not survived')\n",
    "ax=sns.kdeplot(train.loc[(train['Survived'] == 1),'Fare'] , color='g',shade=True, label='survived')\n",
    "plt.title('Fare Distribution Survived vs Non Survived', fontsize = 25, pad = 40)\n",
    "plt.ylabel(\"Frequency of Passenger Survived\", fontsize = 15, labelpad = 20)\n",
    "plt.xlabel(\"Fare\", fontsize = 15, labelpad = 20);\n",
    "\n"
   ]
  },
  {
   "cell_type": "markdown",
   "metadata": {
    "_cell_guid": "6073f329-df80-4ab9-b99b-72e6fcdfe0c6",
    "_uuid": "b5eba2b28ea428114d8ffab52feef95484bd76c0"
   },
   "source": [
    "This plot shows something impressive..\n",
    "- The spike in the plot under 100 dollar represents that a lot of passengers who bought the ticket within that range did not survive. \n",
    "- When fare is approximately more than 280 dollars, there is no gray shade which means, either everyone passed that fare point survived or maybe there is an outlier that clouds our judgment. Let's check..."
   ]
  },
  {
   "cell_type": "code",
   "execution_count": null,
   "metadata": {
    "_cell_guid": "bee8b01b-a56a-4762-bde0-4404a1c5ac1a",
    "_kg_hide-input": true,
    "_uuid": "916ab9dc56a05105afa80127d69deb9fc0095ba2",
    "execution": {
     "iopub.execute_input": "2021-12-19T10:46:52.76721Z",
     "iopub.status.busy": "2021-12-19T10:46:52.76698Z",
     "iopub.status.idle": "2021-12-19T10:46:52.783258Z",
     "shell.execute_reply": "2021-12-19T10:46:52.78231Z",
     "shell.execute_reply.started": "2021-12-19T10:46:52.76717Z"
    }
   },
   "outputs": [],
   "source": [
    "train[train.Fare > 280]"
   ]
  },
  {
   "cell_type": "markdown",
   "metadata": {
    "_cell_guid": "3467e2d8-315c-4223-9166-0aca54543cdd",
    "_uuid": "443d93fcfbad82fc611ce88e12556a6325ccd15c"
   },
   "source": [
    "As we assumed, it looks like an outlier with a fare of $512. We sure can delete this point. However, we will keep it for now. "
   ]
  },
  {
   "cell_type": "markdown",
   "metadata": {
    "_cell_guid": "95c27d94-fa65-4bf9-a855-8e5dab17704e",
    "_uuid": "64ff8df884805f04692dc601da1ef99527309d54"
   },
   "source": [
    "## 3d. Age and Survived\n",
    "<a id=\"age_and_survived\"></a>\n",
    "***"
   ]
  },
  {
   "cell_type": "code",
   "execution_count": null,
   "metadata": {
    "_cell_guid": "9eb6733b-7577-4360-8252-e6d97c78b7db",
    "_kg_hide-input": true,
    "_uuid": "c6a4f46a7ce0e197f72abe293b69100c29a044ca",
    "execution": {
     "iopub.execute_input": "2021-12-19T10:46:52.785341Z",
     "iopub.status.busy": "2021-12-19T10:46:52.784995Z",
     "iopub.status.idle": "2021-12-19T10:46:53.056577Z",
     "shell.execute_reply": "2021-12-19T10:46:53.055933Z",
     "shell.execute_reply.started": "2021-12-19T10:46:52.785265Z"
    }
   },
   "outputs": [],
   "source": [
    "# Kernel Density Plot\n",
    "fig = plt.figure(figsize=(15,8),)\n",
    "ax=sns.kdeplot(train.loc[(train['Survived'] == 0),'Age'] , color='gray',shade=True,label='not survived')\n",
    "ax=sns.kdeplot(train.loc[(train['Survived'] == 1),'Age'] , color='g',shade=True, label='survived')\n",
    "plt.title('Age Distribution - Surviver V.S. Non Survivors', fontsize = 25, pad = 40)\n",
    "plt.xlabel(\"Age\", fontsize = 15, labelpad = 20)\n",
    "plt.ylabel('Frequency', fontsize = 15, labelpad= 20);"
   ]
  },
  {
   "cell_type": "markdown",
   "metadata": {
    "_cell_guid": "a9aab64c-6170-4c8d-8446-cecdc9804b55",
    "_uuid": "5238df80f5454d29e3793596a21fd0c00cb64a6c"
   },
   "source": [
    "There is nothing out of the ordinary about this plot, except the very left part of the distribution. This may hint on the posibility that children and infants were the priority. "
   ]
  },
  {
   "cell_type": "markdown",
   "metadata": {
    "_cell_guid": "077605b2-e9b4-4c45-8c5a-188508165f10",
    "_uuid": "f8245da79c5394f7665d0b5429cb2fe4c4d0b057"
   },
   "source": [
    "## 3e. Combined Feature Relations\n",
    "<a id='combined_feature_relations'></a>\n",
    "***\n",
    "In this section, we are going to discover more than two feature relations in a single graph. I will try my best to illustrate most of the feature relations. Let's get to it. "
   ]
  },
  {
   "cell_type": "code",
   "execution_count": null,
   "metadata": {
    "_cell_guid": "924e19c4-8d58-404c-9a84-02f096269351",
    "_kg_hide-input": true,
    "_uuid": "71fc1c9843f789e19a5e8b2929579914d8ecdb3f",
    "execution": {
     "iopub.execute_input": "2021-12-19T10:46:53.057864Z",
     "iopub.status.busy": "2021-12-19T10:46:53.057504Z",
     "iopub.status.idle": "2021-12-19T10:46:53.794718Z",
     "shell.execute_reply": "2021-12-19T10:46:53.793676Z",
     "shell.execute_reply.started": "2021-12-19T10:46:53.057805Z"
    }
   },
   "outputs": [],
   "source": [
    "pal = {1:\"seagreen\", 0:\"gray\"}\n",
    "g = sns.FacetGrid(train,size=5, col=\"Sex\", row=\"Survived\", margin_titles=True, hue = \"Survived\",\n",
    "                  palette=pal)\n",
    "g = g.map(plt.hist, \"Age\", edgecolor = 'white');\n",
    "g.fig.suptitle(\"Survived by Sex and Age\", size = 25)\n",
    "plt.subplots_adjust(top=0.90)"
   ]
  },
  {
   "cell_type": "markdown",
   "metadata": {
    "_cell_guid": "089999b4-bc44-49c6-9f86-aaaccabaa224",
    "_uuid": "6aac036e1b235e5b10bc6a153ed226acfce2cfcb"
   },
   "source": [
    "Facetgrid is a great way to visualize multiple variables and their relationships at once. From the chart in section 3a we have a intuation that female passengers had better prority than males during the tragedy. However, from this facet grid, we can also understand which age range groups survived more than others or were not so lucky"
   ]
  },
  {
   "cell_type": "code",
   "execution_count": null,
   "metadata": {
    "_cell_guid": "dcc34a91-261d-4929-a4eb-5072fcaf86ce",
    "_kg_hide-input": true,
    "_uuid": "b2ad776bf0254be1ccf76f46a40db7960aa3db24",
    "execution": {
     "iopub.execute_input": "2021-12-19T10:46:53.796232Z",
     "iopub.status.busy": "2021-12-19T10:46:53.795993Z",
     "iopub.status.idle": "2021-12-19T10:46:55.423475Z",
     "shell.execute_reply": "2021-12-19T10:46:55.42257Z",
     "shell.execute_reply.started": "2021-12-19T10:46:53.796192Z"
    }
   },
   "outputs": [],
   "source": [
    "g = sns.FacetGrid(train,size=5, col=\"Sex\", row=\"Embarked\", margin_titles=True, hue = \"Survived\",\n",
    "                  palette = pal\n",
    "                  )\n",
    "g = g.map(plt.hist, \"Age\", edgecolor = 'white').add_legend();\n",
    "g.fig.suptitle(\"Survived by Sex and Age\", size = 25)\n",
    "plt.subplots_adjust(top=0.90)"
   ]
  },
  {
   "cell_type": "markdown",
   "metadata": {
    "_cell_guid": "b9b9906c-805d-438b-b72e-a57cc60d5ae8",
    "_uuid": "4070616f2637a720a3cb580264cfaed9235b9020"
   },
   "source": [
    "This is another compelling facet grid illustrating four features relationship at once. They are **Embarked, Age, Survived & Sex**. \n",
    "* The color illustrates passengers survival status(green represents survived, gray represents not survived)\n",
    "* The column represents Sex(left being male, right stands for female)\n",
    "* The row represents Embarked(from top to bottom: S, C, Q)\n",
    "***\n",
    "Now that I have steered out the apparent let's see if we can get some insights that are not so obvious as we look at the data. \n",
    "* Most passengers seem to be boarded on Southampton(S).\n",
    "* More than 60% of the passengers died boarded on Southampton. \n",
    "* More than 60% of the passengers lived boarded on Cherbourg(C).\n",
    "* Pretty much every male that boarded on Queenstown(Q) did not survive. \n",
    "* There were very few females boarded on Queenstown, however, most of them survived. "
   ]
  },
  {
   "cell_type": "code",
   "execution_count": null,
   "metadata": {
    "_cell_guid": "fd9fe9e2-f7d4-4f83-9ce4-0a22160ef4fe",
    "_kg_hide-input": true,
    "_uuid": "f4d77506cabc7150466fa5bda64585d15814d48c",
    "execution": {
     "iopub.execute_input": "2021-12-19T10:46:55.425585Z",
     "iopub.status.busy": "2021-12-19T10:46:55.425097Z",
     "iopub.status.idle": "2021-12-19T10:46:55.957471Z",
     "shell.execute_reply": "2021-12-19T10:46:55.956337Z",
     "shell.execute_reply.started": "2021-12-19T10:46:55.425386Z"
    }
   },
   "outputs": [],
   "source": [
    "g = sns.FacetGrid(train, size=5,hue=\"Survived\", col =\"Sex\", margin_titles=True,\n",
    "                palette=pal,)\n",
    "g.map(plt.scatter, \"Fare\", \"Age\",edgecolor=\"w\").add_legend()\n",
    "g.fig.suptitle(\"Survived by Sex, Fare and Age\", size = 25)\n",
    "plt.subplots_adjust(top=0.85)"
   ]
  },
  {
   "cell_type": "markdown",
   "metadata": {
    "_cell_guid": "1c309d4b-3e24-406b-bd28-d5055a660f16",
    "_uuid": "90bbc6e6edbf6188170a4de1b38732d009f7afae"
   },
   "source": [
    "This facet grid unveils a couple of interesting insights. Let's find out.\n",
    "* The grid above clearly demonstrates the three outliers with Fare of over \\$500. At this point, I think we are quite confident that these outliers should be deleted.\n",
    "* Most of the passengers were with in the Fare range of \\$100. "
   ]
  },
  {
   "cell_type": "code",
   "execution_count": null,
   "metadata": {
    "_cell_guid": "783403f6-9d3c-4a12-8505-cf321bd1a1ef",
    "_kg_hide-input": true,
    "_uuid": "75c41c85dc76c9749e5c417e1ed0425eed9c55e0",
    "execution": {
     "iopub.execute_input": "2021-12-19T10:46:55.959338Z",
     "iopub.status.busy": "2021-12-19T10:46:55.958987Z",
     "iopub.status.idle": "2021-12-19T10:46:56.434016Z",
     "shell.execute_reply": "2021-12-19T10:46:56.432896Z",
     "shell.execute_reply.started": "2021-12-19T10:46:55.959273Z"
    }
   },
   "outputs": [],
   "source": [
    "## dropping the three outliers where Fare is over $500 \n",
    "train = train[train.Fare < 500]\n",
    "## factor plot\n",
    "sns.factorplot(x = \"Parch\", y = \"Survived\", data = train,kind = \"point\",size = 8)\n",
    "plt.title(\"Factorplot of Parents/Children survived\", fontsize = 25)\n",
    "plt.subplots_adjust(top=0.85)"
   ]
  },
  {
   "cell_type": "markdown",
   "metadata": {
    "_cell_guid": "33916321-237d-4381-990f-0faa11723c20",
    "_uuid": "263113f38121c9e5f14247f05c262ee218be87f2"
   },
   "source": [
    "**Passenger who traveled in big groups with parents/children had less survival rate than other passengers.**"
   ]
  },
  {
   "cell_type": "code",
   "execution_count": null,
   "metadata": {
    "_cell_guid": "f6ed143e-3e02-4e97-a255-73807018f0d1",
    "_kg_hide-input": true,
    "_uuid": "4ce5a4a6cff3966ac1811ee95f81c81fe4861a51",
    "execution": {
     "iopub.execute_input": "2021-12-19T10:46:56.436866Z",
     "iopub.status.busy": "2021-12-19T10:46:56.436199Z",
     "iopub.status.idle": "2021-12-19T10:46:56.852008Z",
     "shell.execute_reply": "2021-12-19T10:46:56.849995Z",
     "shell.execute_reply.started": "2021-12-19T10:46:56.436593Z"
    }
   },
   "outputs": [],
   "source": [
    "sns.factorplot(x =  \"SibSp\", y = \"Survived\", data = train,kind = \"point\",size = 8)\n",
    "plt.title('Factorplot of Sibilings/Spouses survived', fontsize = 25)\n",
    "plt.subplots_adjust(top=0.85)"
   ]
  },
  {
   "cell_type": "markdown",
   "metadata": {
    "_cell_guid": "ee5b61b4-67d3-46b4-847d-4b5b85a8c791",
    "_uuid": "c7a045b78e6b5f45ad891cf0515a6a4b2534d2ff"
   },
   "source": [
    "**While, passenger who traveled in small groups with sibilings/spouses had better changes of survivint than other passengers.**"
   ]
  },
  {
   "cell_type": "code",
   "execution_count": null,
   "metadata": {
    "_cell_guid": "50a0920d-556b-4439-a67f-384ce793d094",
    "_kg_hide-input": true,
    "_uuid": "dfe723c71d4d29f599701d806ca97cd01a60142f",
    "execution": {
     "iopub.execute_input": "2021-12-19T10:46:56.853888Z",
     "iopub.status.busy": "2021-12-19T10:46:56.853465Z",
     "iopub.status.idle": "2021-12-19T10:46:56.863276Z",
     "shell.execute_reply": "2021-12-19T10:46:56.861761Z",
     "shell.execute_reply.started": "2021-12-19T10:46:56.853715Z"
    }
   },
   "outputs": [],
   "source": [
    "# Placing 0 for female and \n",
    "# 1 for male in the \"Sex\" column. \n",
    "train['Sex'] = train.Sex.apply(lambda x: 0 if x == \"female\" else 1)\n",
    "test['Sex'] = test.Sex.apply(lambda x: 0 if x == \"female\" else 1)"
   ]
  },
  {
   "cell_type": "markdown",
   "metadata": {
    "_cell_guid": "003a7779-5966-45f8-a711-67e67234a654",
    "_uuid": "402cd49464156ead61d5dd5698ffeb00eb71d0d3"
   },
   "source": [
    "# Part 4: Statistical Overview\n",
    "<a id=\"statisticaloverview\"></a>\n",
    "***"
   ]
  },
  {
   "cell_type": "markdown",
   "metadata": {
    "_cell_guid": "91eba73b-f744-478b-bd6b-13da6cff000b",
    "_uuid": "3e8b752c8963a76a86c8b1db80783c644090bdfa"
   },
   "source": [
    "![title](https://cdn-images-1.medium.com/max/400/1*hFJ-LI7IXcWpxSLtaC0dfg.png)"
   ]
  },
  {
   "cell_type": "markdown",
   "metadata": {
    "_cell_guid": "7b7e6e77-50bf-469f-b92b-73056224bc61",
    "_uuid": "797aa171f2e13ea965cb9a352fcfd2001e119747"
   },
   "source": [
    "**Train info**"
   ]
  },
  {
   "cell_type": "code",
   "execution_count": null,
   "metadata": {
    "_cell_guid": "ad856ee6-b1ec-445d-92b0-cd6a83d58301",
    "_kg_hide-input": true,
    "_uuid": "35fc657641cc24aff89ade7d83d8b92e472dc3e6",
    "execution": {
     "iopub.execute_input": "2021-12-19T10:46:56.866176Z",
     "iopub.status.busy": "2021-12-19T10:46:56.86558Z",
     "iopub.status.idle": "2021-12-19T10:46:56.912668Z",
     "shell.execute_reply": "2021-12-19T10:46:56.911686Z",
     "shell.execute_reply.started": "2021-12-19T10:46:56.866118Z"
    }
   },
   "outputs": [],
   "source": [
    "train.describe()"
   ]
  },
  {
   "cell_type": "code",
   "execution_count": null,
   "metadata": {
    "_cell_guid": "327c6775-9ba4-4d65-8c97-304cc9512e6a",
    "_kg_hide-input": true,
    "_uuid": "2f9f5fb7bade4d82d7b5a564a8ac91123b4921d2",
    "execution": {
     "iopub.execute_input": "2021-12-19T10:46:56.914888Z",
     "iopub.status.busy": "2021-12-19T10:46:56.914396Z",
     "iopub.status.idle": "2021-12-19T10:46:56.945512Z",
     "shell.execute_reply": "2021-12-19T10:46:56.944311Z",
     "shell.execute_reply.started": "2021-12-19T10:46:56.914846Z"
    }
   },
   "outputs": [],
   "source": [
    "train.describe(include =['O'])"
   ]
  },
  {
   "cell_type": "code",
   "execution_count": null,
   "metadata": {
    "_cell_guid": "5b817552-ecb8-4f6e-9950-6697d4c44d1f",
    "_kg_hide-input": true,
    "_uuid": "c88dcae6209f02226f2e772b42616b5650d108f4",
    "execution": {
     "iopub.execute_input": "2021-12-19T10:46:56.947105Z",
     "iopub.status.busy": "2021-12-19T10:46:56.946817Z",
     "iopub.status.idle": "2021-12-19T10:46:56.966735Z",
     "shell.execute_reply": "2021-12-19T10:46:56.965624Z",
     "shell.execute_reply.started": "2021-12-19T10:46:56.947054Z"
    }
   },
   "outputs": [],
   "source": [
    "# Overview(Survived vs non survied)\n",
    "survived_summary = train.groupby(\"Survived\")\n",
    "survived_summary.mean().reset_index()"
   ]
  },
  {
   "cell_type": "code",
   "execution_count": null,
   "metadata": {
    "_cell_guid": "502dd0d2-a51a-47da-904c-66c9840a1b74",
    "_kg_hide-input": true,
    "_uuid": "65f9a660b942a8f92db94fe8fc41ccfa76a354cd",
    "execution": {
     "iopub.execute_input": "2021-12-19T10:46:56.968386Z",
     "iopub.status.busy": "2021-12-19T10:46:56.967875Z",
     "iopub.status.idle": "2021-12-19T10:46:56.991669Z",
     "shell.execute_reply": "2021-12-19T10:46:56.990718Z",
     "shell.execute_reply.started": "2021-12-19T10:46:56.968339Z"
    }
   },
   "outputs": [],
   "source": [
    "survived_summary = train.groupby(\"Sex\")\n",
    "survived_summary.mean().reset_index()"
   ]
  },
  {
   "cell_type": "code",
   "execution_count": null,
   "metadata": {
    "_cell_guid": "68cb2dac-6295-44d6-8aa0-5cddb53dd72c",
    "_kg_hide-input": true,
    "_uuid": "e49170e6e56329f68aba07a36389883ee1bee5ca",
    "execution": {
     "iopub.execute_input": "2021-12-19T10:46:56.993836Z",
     "iopub.status.busy": "2021-12-19T10:46:56.993305Z",
     "iopub.status.idle": "2021-12-19T10:46:57.022461Z",
     "shell.execute_reply": "2021-12-19T10:46:57.021348Z",
     "shell.execute_reply.started": "2021-12-19T10:46:56.993619Z"
    }
   },
   "outputs": [],
   "source": [
    "survived_summary = train.groupby(\"Pclass\")\n",
    "survived_summary.mean().reset_index()"
   ]
  },
  {
   "cell_type": "markdown",
   "metadata": {
    "_cell_guid": "89ba2894-b129-4709-913d-f8cb35815925",
    "_uuid": "e310c182f3541069329efcdd37373235fb144567"
   },
   "source": [
    "I have gathered a small summary from the statistical overview above. Let's see what they are...\n",
    "- This train data set has 891 raw and 9 columns. \n",
    "- only 38% passenger survived during that tragedy.\n",
    "- ~74% female passenger survived, while only ~19% male passenger survived. \n",
    "- ~63% first class passengers survived, while only 24% lower class passenger survived.\n",
    "\n"
   ]
  },
  {
   "cell_type": "markdown",
   "metadata": {
    "_cell_guid": "5454218c-0a45-4a89-96fe-83d89b588183",
    "_uuid": "d00b4e471e863f766c4aad7b88e1e6d9e57d6423"
   },
   "source": [
    "## 4a. Correlation Matrix and Heatmap\n",
    "<a id=\"heatmap\"></a>\n",
    "***\n",
    "### Correlations"
   ]
  },
  {
   "cell_type": "code",
   "execution_count": null,
   "metadata": {
    "_cell_guid": "d0acfa7a-6f3e-4783-925d-6e443a9a5baa",
    "_kg_hide-input": true,
    "_uuid": "c4057023aa30d3ce1befae168c00f3cb8491804b",
    "execution": {
     "iopub.execute_input": "2021-12-19T10:46:57.025097Z",
     "iopub.status.busy": "2021-12-19T10:46:57.024419Z",
     "iopub.status.idle": "2021-12-19T10:46:57.041006Z",
     "shell.execute_reply": "2021-12-19T10:46:57.039804Z",
     "shell.execute_reply.started": "2021-12-19T10:46:57.024901Z"
    }
   },
   "outputs": [],
   "source": [
    "pd.DataFrame(abs(train.corr()['Survived']).sort_values(ascending = False))"
   ]
  },
  {
   "cell_type": "markdown",
   "metadata": {
    "_cell_guid": "92a69940-78f8-4139-a9a7-24ccf5f6afe7",
    "_uuid": "211c5e2e817f4b10e64a28f5f8ce1d7eec9761fc"
   },
   "source": [
    "** Sex is the most important correlated feature with *Survived(dependent variable)* feature followed by Pclass.** "
   ]
  },
  {
   "cell_type": "code",
   "execution_count": null,
   "metadata": {
    "_cell_guid": "3e9fdd2e-f081-48ad-9c0f-afa475b15dfe",
    "_kg_hide-input": true,
    "_uuid": "c3212c222341c250aacee47c43b1a023b9b65857",
    "execution": {
     "iopub.execute_input": "2021-12-19T10:46:57.042496Z",
     "iopub.status.busy": "2021-12-19T10:46:57.042101Z",
     "iopub.status.idle": "2021-12-19T10:46:57.061143Z",
     "shell.execute_reply": "2021-12-19T10:46:57.060414Z",
     "shell.execute_reply.started": "2021-12-19T10:46:57.042453Z"
    }
   },
   "outputs": [],
   "source": [
    "## get the most important variables. \n",
    "corr = train.corr()**2\n",
    "corr.Survived.sort_values(ascending=False)"
   ]
  },
  {
   "cell_type": "markdown",
   "metadata": {
    "_cell_guid": "f5f257ef-88b1-4302-ad41-d90892fbe4e9",
    "_uuid": "1837acd3898d4787c9011e353dfc4dc15fd1abb2"
   },
   "source": [
    "\n",
    "**Squaring the correlation feature not only gives on positive correlations but also amplifies the relationships.** "
   ]
  },
  {
   "cell_type": "code",
   "execution_count": null,
   "metadata": {
    "_cell_guid": "eee23849-a390-4d16-a8df-d29c6f575413",
    "_kg_hide-input": true,
    "_uuid": "285660c315b854497fe00847d051ceac5c9ec298",
    "execution": {
     "iopub.execute_input": "2021-12-19T10:46:57.062387Z",
     "iopub.status.busy": "2021-12-19T10:46:57.062129Z",
     "iopub.status.idle": "2021-12-19T10:46:57.489513Z",
     "shell.execute_reply": "2021-12-19T10:46:57.488476Z",
     "shell.execute_reply.started": "2021-12-19T10:46:57.062343Z"
    }
   },
   "outputs": [],
   "source": [
    "## heatmeap to see the correlation between features. \n",
    "# Generate a mask for the upper triangle (taken from seaborn example gallery)\n",
    "import numpy as np\n",
    "mask = np.zeros_like(train.corr(), dtype=np.bool)\n",
    "mask[np.triu_indices_from(mask)] = True\n",
    "sns.set_style('whitegrid')\n",
    "plt.subplots(figsize = (15,12))\n",
    "sns.heatmap(train.corr(), \n",
    "            annot=True,\n",
    "            mask = mask,\n",
    "            cmap = 'RdBu', ## in order to reverse the bar replace \"RdBu\" with \"RdBu_r\"\n",
    "            linewidths=.9, \n",
    "            linecolor='white',\n",
    "            fmt='.2g',\n",
    "            center = 0,\n",
    "            square=True)\n",
    "plt.title(\"Correlations Among Features\", y = 1.03,fontsize = 20, pad = 40);"
   ]
  },
  {
   "cell_type": "markdown",
   "metadata": {
    "_cell_guid": "0e0b5ceb-fde5-40a7-b33b-b44e8f04189a",
    "_uuid": "41e2bc2eff5699b14a0f47d5bd2e428ee5bec3b8"
   },
   "source": [
    "#### Positive Correlation Features:\n",
    "- Fare and Survived: 0.26\n",
    "\n",
    "#### Negative Correlation Features:\n",
    "- Fare and Pclass: -0.6\n",
    "- Sex and Survived: -0.55\n",
    "- Pclass and Survived: -0.33\n",
    "\n",
    "\n",
    "**So, Let's analyze these correlations a bit.** We have found some moderately strong relationships between different features. There is a definite positive correlation between Fare and Survived rated. This relationship reveals that the passenger who paid more money for their ticket were more likely to survive. This theory aligns with one other correlation which is the correlation between Fare and Pclass(-0.6). This relationship can be explained by saying that first class passenger(1) paid more for fare then second class passenger(2), similarly second class passenger paid more than the third class passenger(3). This theory can also be supported by mentioning another Pclass correlation with our dependent variable, Survived. The correlation between Pclass and Survived is -0.33. This can also be explained by saying that first class passenger had a better chance of surviving than the second or the third and so on.\n",
    "\n",
    "However, the most significant correlation with our dependent variable is the Sex variable, which is the info on whether the passenger was male or female. This negative correlation with a magnitude of -0.54 which points towards some undeniable insights. Let's do some statistics to see how statistically significant this correlation is. "
   ]
  },
  {
   "cell_type": "markdown",
   "metadata": {
    "_cell_guid": "85faf680-5f78-414f-87b9-b72ef6d6ffc2",
    "_uuid": "18c908fdbe16ae939827ec12a4ce028094a8a587"
   },
   "source": [
    "## 4b. Statistical Test for Correlation\n",
    "<a id=\"statistical_test\"></a>\n",
    "***\n",
    "\n",
    "Statistical tests are the scientific way to prove the validation of theories. In any case, when we look at the data, we seem to have an intuitive understanding of where data is leading us. However, when we do statistical tests, we get a scientific or mathematical perspective of how significant these results are. Let's apply some of these methods and see how we are doing with our predictions.\n",
    "\n",
    "###  Hypothesis Testing Outline\n",
    "\n",
    "A hypothesis test compares the mean of a control group and experimental group and tries to find out whether the two sample means are different from each other and if they are different, how significant that difference is.\n",
    " \n",
    "A **hypothesis test** usually consists of multiple parts: \n",
    "\n",
    "1. Formulate a well-developed research problem or question: The hypothesis test usually starts with a concrete and well-developed researched problem. We need to ask the right question that can be answered using statistical analysis. \n",
    "2. **The null hypothesis($H_0$) and Alternating hypothesis($H_1$)**:\n",
    "> * The **null hypothesis($H_0$)** is something that is assumed to be true. It is the status quo. In a null hypothesis, the observations are the result of pure chance. When we set out to experiment, we form the null hypothesis by saying that there is no difference between the means of the control group and the experimental group.\n",
    "> *  An **Alternative hypothesis($H_A$)** is a claim and the opposite of the null hypothesis.  It is going against the status quo. In an alternative theory, the observations show a real effect combined with a component of chance variation.\n",
    "    \n",
    "3. Determine the **test statistic**: test statistic can be used to assess the truth of the null hypothesis. Depending on the standard deviation we either use t-statistics or z-statistics. In addition to that, we want to identify whether the test is a one-tailed test or two-tailed test. [This](https://support.minitab.com/en-us/minitab/18/help-and-how-to/statistics/basic-statistics/supporting-topics/basics/null-and-alternative-hypotheses/) article explains it pretty well. [This](https://stattrek.com/hypothesis-test/hypothesis-testing.aspx) article is pretty good as well. \n",
    "\n",
    "4. Specify a **Significance level** and **Confidence Interval**: The significance level($\\alpha$) is the probability of rejecting a null hypothesis when it is true. In other words, we are ***comfortable/confident*** with rejecting the null hypothesis a significant amount of times even though it is true. This considerable amount is our Significant level. In addition to that, Significance level is one minus our Confidence interval. For example, if we say, our significance level is 5%, then our confidence interval would be (1 - 0.05) = 0.95 or 95%. \n",
    "\n",
    "5. Compute the **T-Statistics/Z-Statistics**: Computing the t-statistics follows a simple equation. This equation slightly differs depending on one sample test or two sample test  \n",
    "\n",
    "6. Compute the **P-value**: P-value is the probability that a test statistic at least as significant as the one observed would be obtained assuming that the null hypothesis is correct. The p-value is known to be unintuitive, and even many professors are known to explain it wrong. I think this [video](https://www.youtube.com/watch?v=E4KCfcVwzyw) explains the p-value well. **The smaller the P-value, the stronger the evidence against the null hypothesis.**\n",
    "\n",
    "7. **Describe the result and compare the p-value with the significance value($\\alpha$)**: If p<=$\\alpha$, then the observed effect is statistically significant, the null hypothesis is ruled out, and the alternative hypothesis is valid. However if the p> $\\alpha$, we say that, we fail to reject the null hypothesis. Even though this sentence is grammatically wrong, it is logically right. We never accept the null hypothesis just because we are doing the statistical test with sample data points.\n",
    "\n",
    "We will follow each of these steps above to do your hypothesis testing below.\n",
    "\n",
    "P.S. Khan Academy has a set of videos that I think are intuative and helped me understand conceptually. \n",
    "\n",
    "***"
   ]
  },
  {
   "cell_type": "markdown",
   "metadata": {
    "_uuid": "f3b49278bd1b8eff8fe1b14c1506d73cf53bd859"
   },
   "source": [
    "### Hypothesis testing for Titanic\n",
    "#### Formulating a well developed researched question: \n",
    "Regarding this dataset, we can formulate the null hypothesis and alternative hypothesis by asking the following questions. \n",
    "> * **Is there a significant difference in the mean sex between the passenger who survived and passenger who did not survive?**. \n",
    "> * **Is there a substantial difference in the survival rate between the male and female passengers?**\n",
    "\n",
    "\n",
    "#### The Null Hypothesis and The Alternative Hypothesis:\n",
    "We can formulate our hypothesis by asking questions differently. However, it is essential to understand what our end goal is. Here our dependent variable or target variable is **Survived**. Therefore, we say\n",
    "\n",
    "> ** Null Hypothesis($H_0$):** There is no difference in the survival rate between the male and female passengers. or the mean difference between male and female passenger in the survival rate is zero.  \n",
    ">  ** Alternative Hypothesis($H_A$):** There is a difference in the survival rate between the male and female passengers. or the mean difference in the survival rate between male and female is not zero.\n",
    "\n",
    "\n",
    "Onc thing we can do is try to set up the Null and Alternative Hypothesis in such way that, when we do our t-test, we can choose to do one tailed test. According to [this](https://support.minitab.com/en-us/minitab/18/help-and-how-to/statistics/basic-statistics/supporting-topics/basics/null-and-alternative-hypotheses/) article, one-tailed tests are more powerful than two-tailed test. In addition to that, [this](https://www.youtube.com/watch?v=5NcMFlrnYp8&list=PLIeGtxpvyG-LrjxQ60pxZaimkaKKs0zGF) video is also quite helpful understanding these topics. with this in mind we can update/modify our null and alternative hypothesis. Let's see how we can rewrite this..\n",
    "\n",
    "> **Null Hypothesis(H0):** male mean is greater or equal to female mean.\n",
    "\n",
    "> **Alternative Hypothesis(H1):** male mean is less than female mean. \n",
    "\n",
    "#### Determine the test statistics:\n",
    "> This will be a two-tailed test since the difference between male and female passenger in the survival rate could be higher or lower than 0. \n",
    "> Since we do not know the standard deviation($\\sigma$) and n is small, we will use the t-distribution. \n",
    "\n",
    "#### Specify the significance level:\n",
    "> Specifying a significance level is an important step of the hypothesis test. It is an ultimate balance between type 1 error and type 2 error. We will discuss more in-depth about those in another lesson. For now, we have decided to make our significance level($\\alpha$) = 0.05. So, our confidence interval or non-rejection region would be (1 - $\\alpha$)=(1-0.05) = 95%. \n",
    "\n",
    "#### Computing T-statistics and P-value:\n",
    "Let's take a random sample and see the difference."
   ]
  },
  {
   "cell_type": "code",
   "execution_count": null,
   "metadata": {
    "_kg_hide-input": true,
    "_uuid": "abd034cffc591bf1ef2b4a8ed3e5a65eb133d61e",
    "execution": {
     "iopub.execute_input": "2021-12-19T10:46:57.491185Z",
     "iopub.status.busy": "2021-12-19T10:46:57.49083Z",
     "iopub.status.idle": "2021-12-19T10:46:57.502004Z",
     "shell.execute_reply": "2021-12-19T10:46:57.500561Z",
     "shell.execute_reply.started": "2021-12-19T10:46:57.491121Z"
    }
   },
   "outputs": [],
   "source": [
    "male_mean = train[train['Sex'] == 1].Survived.mean()\n",
    "\n",
    "female_mean = train[train['Sex'] == 0].Survived.mean()\n",
    "print (\"Male survival mean: \" + str(male_mean))\n",
    "print (\"female survival mean: \" + str(female_mean))\n",
    "\n",
    "print (\"The mean difference between male and female survival rate: \" + str(female_mean - male_mean))"
   ]
  },
  {
   "cell_type": "markdown",
   "metadata": {
    "_uuid": "0c1c27af262ba094ff1fd02867b1a41d5369720f"
   },
   "source": [
    "Now, we have to understand that those two means are not  **the population mean ($\\bar{\\mu}$)**.  *The population mean is a statistical term statistician uses to indicate the actual average of the entire group. The group can be any gathering of multiple numbers such as animal, human, plants, money, stocks.* For example, To find the age population mean of Bulgaria; we will have to account for every single person's age and take their age. Which is almost impossible and if we were to go that route; there is no point of doing statistics in the first place. Therefore we approach this problem using sample sets. The idea of using sample set is that; if we take multiple samples of the same population and take the mean of them and put them in a distribution; eventually the distribution start to look more like a **normal distribution**. The more samples we take and the more sample means will be added and, the closer the normal distribution will reach towards population mean. This is where **Central limit theory** comes from. We will go more in depth of this topic later on. \n",
    "\n",
    "Going back to our dataset, like we are saying these means above are part of the whole story. We were given part of the data to train our machine learning models, and the other part of the data was held back for testing. Therefore, It is impossible for us at this point to know the population means of survival for male and females. Situation like this calls for a statistical approach. We will use the sampling distribution approach to do the test. let's take 50 random sample of male and female from our train data."
   ]
  },
  {
   "cell_type": "code",
   "execution_count": null,
   "metadata": {
    "execution": {
     "iopub.execute_input": "2021-12-19T10:46:57.503852Z",
     "iopub.status.busy": "2021-12-19T10:46:57.503487Z",
     "iopub.status.idle": "2021-12-19T10:46:57.53739Z",
     "shell.execute_reply": "2021-12-19T10:46:57.536355Z",
     "shell.execute_reply.started": "2021-12-19T10:46:57.503766Z"
    }
   },
   "outputs": [],
   "source": [
    "# separating male and female dataframe. \n",
    "import random\n",
    "male = train[train['Sex'] == 1]\n",
    "female = train[train['Sex'] == 0]\n",
    "\n",
    "## empty list for storing mean sample\n",
    "m_mean_samples = []\n",
    "f_mean_samples = []\n",
    "\n",
    "for i in range(50):\n",
    "    m_mean_samples.append(np.mean(random.sample(list(male['Survived']),50,)))\n",
    "    f_mean_samples.append(np.mean(random.sample(list(female['Survived']),50,)))\n",
    "    \n",
    "\n",
    "# Print them out\n",
    "print (f\"Male mean sample mean: {round(np.mean(m_mean_samples),2)}\")\n",
    "print (f\"Male mean sample mean: {round(np.mean(f_mean_samples),2)}\")\n",
    "print (f\"Difference between male and female mean sample mean: {round(np.mean(f_mean_samples) - np.mean(m_mean_samples),2)}\")"
   ]
  },
  {
   "cell_type": "markdown",
   "metadata": {},
   "source": [
    "H0: male mean is greater or equal to female mean<br>\n",
    "H1: male mean is less than female mean. "
   ]
  },
  {
   "cell_type": "markdown",
   "metadata": {
    "_uuid": "706d89356793f306d807c3fb277963e07181915c"
   },
   "source": [
    "According to the samples our male samples ($\\bar{x}_m$) and female samples($\\bar{x}_f$) mean measured difference is ~ 0.55(statistically this is called the point estimate of the male population mean and female population mean). keeping in mind that...\n",
    "* We randomly select 50 people to be in the male group and 50 people to be in the female group. \n",
    "* We know our sample is selected from a broader population(trainning set). \n",
    "* We know we could have totally ended up with a different random sample of males and females.\n",
    "***\n",
    "With all three points above in mind, how confident are we that, the measured difference is real or statistically significant? we can perform a **t-test** to evaluate that. When we perform a **t-test** we are usually trying to find out **an evidence of significant difference between population mean with hypothesized mean(1 sample t-test) or in our case difference between two population means(2 sample t-test).** \n",
    "\n",
    "\n",
    "\n",
    "The **t-statistics** is the measure of a degree to which our groups differ standardized by the variance of our measurements. In order words, it is basically the measure of signal over noise. Let us describe the previous sentence a bit more for clarification. I am going to use [this post](http://blog.minitab.com/blog/statistics-and-quality-data-analysis/what-is-a-t-test-and-why-is-it-like-telling-a-kid-to-clean-up-that-mess-in-the-kitchen) as reference to describe the t-statistics here. \n",
    "\n",
    "\n",
    "#### Calculating the t-statistics\n",
    "# $$t = \\frac{\\bar{x}-\\mu}{\\frac{S} {\\sqrt{n}} }$$\n",
    "\n",
    "Here..\n",
    "* $\\bar{x}$ is the sample mean. \n",
    "* $\\mu$ is the hypothesized mean. \n",
    "* S is the standard deviation. \n",
    "* n is the sample size. \n",
    "\n",
    "\n",
    "1. Now, the denominator of this fraction $(\\bar{x}-\\mu)$ is basically the strength of the signal. where we calculate the difference between hypothesized mean and sample mean. If the mean difference is higher, then the signal is stronger. \n",
    "\n",
    "the numerator of this fraction ** ${S}/ {\\sqrt{n}}$ ** calculates the amount of variation or noise of the data set. Here S is standard deviation, which tells us how much variation is there in the data. n is the sample size. \n",
    "\n",
    "So, according to the explanation above, the t-value or t-statistics is basically measures the strength of the signal(the difference) to the amount of noise(the variation) in the data and that is how we calculate the t-value in one sample t-test. However, in order to calculate between two sample population mean or in our case we will use the follow equation. \n",
    "\n",
    "# $$t = \\frac{\\bar{x}_M - \\bar{x}_F}{\\sqrt {s^2 (\\frac{1}{n_M} + \\frac{1}{n_F})}}$$\n",
    "\n",
    "This equation may seem too complex, however, the idea behind these two are similar. Both of them have the concept of signal/noise. The only difference is that we replace our hypothesis mean with another sample mean and the two sample sizes repalce one sample size. \n",
    "\n",
    "Here..\n",
    "* $\\bar{x}_M$ is the mean of our male group sample measurements. \n",
    "* $ \\bar{x}_F$ is the mean of female group samples. \n",
    "* $ n_M$ and $n_F$ are the sample number of observations in each group. \n",
    "* $ S^2$ is the sample variance.\n",
    "\n",
    "It is good to have an understanding of what going on in the background. However, we will use **scipy.stats** to find the t-statistics. \n"
   ]
  },
  {
   "cell_type": "markdown",
   "metadata": {
    "_uuid": "44e9000aefed8ea0125463486cc4a00c17e580e5"
   },
   "source": [
    "#### Compare P-value with $\\alpha$\n",
    "> It looks like the p-value is very small compared to our significance level($\\alpha$)of 0.05. Our observation sample is statistically significant. Therefore, our null hypothesis is ruled out, and our alternative hypothesis is valid, which is \"**There is a significant difference in the survival rate between the male and female passengers.\"**"
   ]
  },
  {
   "cell_type": "markdown",
   "metadata": {
    "_cell_guid": "df06b6c8-daf6-4f5b-af51-9c1dfbac7a68",
    "_uuid": "34869ce4ce852633b1f4a5cd111b98841982cc19"
   },
   "source": [
    "# Part 5: Feature Engineering\n",
    "<a id=\"feature_engineering\"></a>\n",
    "***\n",
    "Feature Engineering is exactly what its sounds like. Sometimes we want to create extra features from with in the features that we have, sometimes we want to remove features that are alike. Features engineering is the simple word for doing all those. It is important to remember that we will create new features in such ways that will not cause **multicollinearity(when there is a relationship among independent variables)** to occur. "
   ]
  },
  {
   "cell_type": "markdown",
   "metadata": {
    "_cell_guid": "8c439069-6168-4cda-846f-db4c21265089",
    "_uuid": "3ca0785fe824c6ea471b2bcf9600007ed238d450"
   },
   "source": [
    "## name_length\n",
    "***Creating a new feature \"name_length\" that will take the count of letters of each name***"
   ]
  },
  {
   "cell_type": "code",
   "execution_count": null,
   "metadata": {
    "_cell_guid": "d30d71c1-55bc-41c8-8536-9909d9f02538",
    "_kg_hide-input": true,
    "_uuid": "cb17c6f59bb2123cbf2cbc9c282b4d70ee283a86",
    "execution": {
     "iopub.execute_input": "2021-12-19T10:46:57.540024Z",
     "iopub.status.busy": "2021-12-19T10:46:57.53976Z",
     "iopub.status.idle": "2021-12-19T10:46:57.554261Z",
     "shell.execute_reply": "2021-12-19T10:46:57.553523Z",
     "shell.execute_reply.started": "2021-12-19T10:46:57.539984Z"
    }
   },
   "outputs": [],
   "source": [
    "# Creating a new colomn with a \n",
    "train['name_length'] = [len(i) for i in train.Name]\n",
    "test['name_length'] = [len(i) for i in test.Name]\n",
    "\n",
    "def name_length_group(size):\n",
    "    a = ''\n",
    "    if (size <=20):\n",
    "        a = 'short'\n",
    "    elif (size <=35):\n",
    "        a = 'medium'\n",
    "    elif (size <=45):\n",
    "        a = 'good'\n",
    "    else:\n",
    "        a = 'long'\n",
    "    return a\n",
    "\n",
    "\n",
    "train['nLength_group'] = train['name_length'].map(name_length_group)\n",
    "test['nLength_group'] = test['name_length'].map(name_length_group)\n",
    "\n",
    "## Here \"map\" is python's built-in function. \n",
    "## \"map\" function basically takes a function and \n",
    "## returns an iterable list/tuple or in this case series. \n",
    "## However,\"map\" can also be used like map(function) e.g. map(name_length_group) \n",
    "## or map(function, iterable{list, tuple}) e.g. map(name_length_group, train[feature]]). \n",
    "## However, here we don't need to use parameter(\"size\") for name_length_group because when we \n",
    "## used the map function like \".map\" with a series before dot, we are basically hinting that series \n",
    "## and the iterable. This is similar to .append approach in python. list.append(a) meaning applying append on list. \n",
    "\n",
    "\n",
    "## cuts the column by given bins based on the range of name_length\n",
    "#group_names = ['short', 'medium', 'good', 'long']\n",
    "#train['name_len_group'] = pd.cut(train['name_length'], bins = 4, labels=group_names)"
   ]
  },
  {
   "cell_type": "markdown",
   "metadata": {
    "_uuid": "012489c507bf8bfb1ca3db9b0506493cf5595e61"
   },
   "source": [
    "## title\n",
    "**Getting the title of each name as a new feature. **"
   ]
  },
  {
   "cell_type": "code",
   "execution_count": null,
   "metadata": {
    "_cell_guid": "ded64d5f-43de-4a9e-b9c5-ec4d2869387a",
    "_kg_hide-input": true,
    "_uuid": "9c23229f7d06a1303a04b4a81c927453686ffec9",
    "execution": {
     "iopub.execute_input": "2021-12-19T10:46:57.555776Z",
     "iopub.status.busy": "2021-12-19T10:46:57.555384Z",
     "iopub.status.idle": "2021-12-19T10:46:57.569754Z",
     "shell.execute_reply": "2021-12-19T10:46:57.568841Z",
     "shell.execute_reply.started": "2021-12-19T10:46:57.555722Z"
    }
   },
   "outputs": [],
   "source": [
    "## get the title from the name\n",
    "train[\"title\"] = [i.split('.')[0] for i in train.Name]\n",
    "train[\"title\"] = [i.split(',')[1] for i in train.title]\n",
    "## Whenever we split like that, there is a good change that we will end up with while space around our string values. Let's check that. "
   ]
  },
  {
   "cell_type": "code",
   "execution_count": null,
   "metadata": {
    "execution": {
     "iopub.execute_input": "2021-12-19T10:46:57.571737Z",
     "iopub.status.busy": "2021-12-19T10:46:57.571199Z",
     "iopub.status.idle": "2021-12-19T10:46:57.589279Z",
     "shell.execute_reply": "2021-12-19T10:46:57.588322Z",
     "shell.execute_reply.started": "2021-12-19T10:46:57.571638Z"
    }
   },
   "outputs": [],
   "source": [
    "print(train.title.unique())"
   ]
  },
  {
   "cell_type": "code",
   "execution_count": null,
   "metadata": {
    "execution": {
     "iopub.execute_input": "2021-12-19T10:46:57.591275Z",
     "iopub.status.busy": "2021-12-19T10:46:57.590749Z",
     "iopub.status.idle": "2021-12-19T10:46:57.602074Z",
     "shell.execute_reply": "2021-12-19T10:46:57.601296Z",
     "shell.execute_reply.started": "2021-12-19T10:46:57.591217Z"
    }
   },
   "outputs": [],
   "source": [
    "## Let's fix that\n",
    "train.title = train.title.apply(lambda x: x.strip())"
   ]
  },
  {
   "cell_type": "code",
   "execution_count": null,
   "metadata": {
    "execution": {
     "iopub.execute_input": "2021-12-19T10:46:57.603482Z",
     "iopub.status.busy": "2021-12-19T10:46:57.603132Z",
     "iopub.status.idle": "2021-12-19T10:46:57.618546Z",
     "shell.execute_reply": "2021-12-19T10:46:57.617456Z",
     "shell.execute_reply.started": "2021-12-19T10:46:57.603446Z"
    }
   },
   "outputs": [],
   "source": [
    "## We can also combile all three lines above for test set here\n",
    "test['title'] = [i.split('.')[0].split(',')[1].strip() for i in test.Name]\n",
    "\n",
    "## However it is important to be able to write readable code, and the line above is not so readable. "
   ]
  },
  {
   "cell_type": "code",
   "execution_count": null,
   "metadata": {
    "execution": {
     "iopub.execute_input": "2021-12-19T10:46:57.621052Z",
     "iopub.status.busy": "2021-12-19T10:46:57.620409Z",
     "iopub.status.idle": "2021-12-19T10:46:57.643355Z",
     "shell.execute_reply": "2021-12-19T10:46:57.642253Z",
     "shell.execute_reply.started": "2021-12-19T10:46:57.620993Z"
    }
   },
   "outputs": [],
   "source": [
    "## Let's replace some of the rare values with the keyword 'rare' and other word choice of our own. \n",
    "## train Data\n",
    "train[\"title\"] = [i.replace('Ms', 'Miss') for i in train.title]\n",
    "train[\"title\"] = [i.replace('Mlle', 'Miss') for i in train.title]\n",
    "train[\"title\"] = [i.replace('Mme', 'Mrs') for i in train.title]\n",
    "train[\"title\"] = [i.replace('Dr', 'rare') for i in train.title]\n",
    "train[\"title\"] = [i.replace('Col', 'rare') for i in train.title]\n",
    "train[\"title\"] = [i.replace('Major', 'rare') for i in train.title]\n",
    "train[\"title\"] = [i.replace('Don', 'rare') for i in train.title]\n",
    "train[\"title\"] = [i.replace('Jonkheer', 'rare') for i in train.title]\n",
    "train[\"title\"] = [i.replace('Sir', 'rare') for i in train.title]\n",
    "train[\"title\"] = [i.replace('Lady', 'rare') for i in train.title]\n",
    "train[\"title\"] = [i.replace('Capt', 'rare') for i in train.title]\n",
    "train[\"title\"] = [i.replace('the Countess', 'rare') for i in train.title]\n",
    "train[\"title\"] = [i.replace('Rev', 'rare') for i in train.title]\n",
    "\n",
    "\n",
    "## Now in programming there is a term called DRY(Don't repeat yourself), whenever we are repeating  \n",
    "## same code over and over again, there should be a light-bulb turning on in our head and make us think\n",
    "## to code in a way that is not repeating or dull. Let's write a function to do exactly what we \n",
    "## did in the code above, only not repeating and more interesting. "
   ]
  },
  {
   "cell_type": "code",
   "execution_count": null,
   "metadata": {
    "execution": {
     "iopub.execute_input": "2021-12-19T10:46:57.645246Z",
     "iopub.status.busy": "2021-12-19T10:46:57.644749Z",
     "iopub.status.idle": "2021-12-19T10:46:57.659601Z",
     "shell.execute_reply": "2021-12-19T10:46:57.658837Z",
     "shell.execute_reply.started": "2021-12-19T10:46:57.645191Z"
    }
   },
   "outputs": [],
   "source": [
    "## we are writing a function that can help us modify title column\n",
    "def name_converted(feature):\n",
    "    \"\"\"\n",
    "    This function helps modifying the title column\n",
    "    \"\"\"\n",
    "    \n",
    "    result = ''\n",
    "    if feature in ['the Countess','Capt','Lady','Sir','Jonkheer','Don','Major','Col', 'Rev', 'Dona', 'Dr']:\n",
    "        result = 'rare'\n",
    "    elif feature in ['Ms', 'Mlle']:\n",
    "        result = 'Miss'\n",
    "    elif feature == 'Mme':\n",
    "        result = 'Mrs'\n",
    "    else:\n",
    "        result = feature\n",
    "    return result\n",
    "\n",
    "test.title = test.title.map(name_converted)\n",
    "train.title = train.title.map(name_converted)"
   ]
  },
  {
   "cell_type": "code",
   "execution_count": null,
   "metadata": {
    "execution": {
     "iopub.execute_input": "2021-12-19T10:46:57.661015Z",
     "iopub.status.busy": "2021-12-19T10:46:57.660599Z",
     "iopub.status.idle": "2021-12-19T10:46:57.676273Z",
     "shell.execute_reply": "2021-12-19T10:46:57.675476Z",
     "shell.execute_reply.started": "2021-12-19T10:46:57.660974Z"
    }
   },
   "outputs": [],
   "source": [
    "print(train.title.unique())\n",
    "print(test.title.unique())"
   ]
  },
  {
   "cell_type": "markdown",
   "metadata": {
    "_cell_guid": "42ccf293-04c7-4bea-9570-4cce9227b8af",
    "_uuid": "e870c4fc44de4b2395963e583c84d2cae83c004b"
   },
   "source": [
    "## family_size\n",
    "***Creating a new feature called \"family_size\".*** "
   ]
  },
  {
   "cell_type": "code",
   "execution_count": null,
   "metadata": {
    "_cell_guid": "7083a7e7-d1d5-4cc1-ad67-c454b139f5f1",
    "_kg_hide-input": true,
    "_uuid": "cdfd54429cb235dd3b73535518950b2e515e54f2",
    "execution": {
     "iopub.execute_input": "2021-12-19T10:46:57.678059Z",
     "iopub.status.busy": "2021-12-19T10:46:57.677515Z",
     "iopub.status.idle": "2021-12-19T10:46:57.689062Z",
     "shell.execute_reply": "2021-12-19T10:46:57.687929Z",
     "shell.execute_reply.started": "2021-12-19T10:46:57.678014Z"
    }
   },
   "outputs": [],
   "source": [
    "## Family_size seems like a good feature to create\n",
    "train['family_size'] = train.SibSp + train.Parch+1\n",
    "test['family_size'] = test.SibSp + test.Parch+1"
   ]
  },
  {
   "cell_type": "code",
   "execution_count": null,
   "metadata": {
    "_cell_guid": "3d471d07-7735-4aab-8b26-3f26e481dc49",
    "_kg_hide-input": true,
    "_uuid": "2e23467af7a2e85fcaa06b52b303daf2e5e44250",
    "execution": {
     "iopub.execute_input": "2021-12-19T10:46:57.690587Z",
     "iopub.status.busy": "2021-12-19T10:46:57.690154Z",
     "iopub.status.idle": "2021-12-19T10:46:57.701025Z",
     "shell.execute_reply": "2021-12-19T10:46:57.700148Z",
     "shell.execute_reply.started": "2021-12-19T10:46:57.690542Z"
    }
   },
   "outputs": [],
   "source": [
    "## bin the family size. \n",
    "def family_group(size):\n",
    "    \"\"\"\n",
    "    This funciton groups(loner, small, large) family based on family size\n",
    "    \"\"\"\n",
    "    \n",
    "    a = ''\n",
    "    if (size <= 1):\n",
    "        a = 'loner'\n",
    "    elif (size <= 4):\n",
    "        a = 'small'\n",
    "    else:\n",
    "        a = 'large'\n",
    "    return a"
   ]
  },
  {
   "cell_type": "code",
   "execution_count": null,
   "metadata": {
    "_cell_guid": "82f3cf5a-7e8d-42c3-a06b-56e17e890358",
    "_kg_hide-input": true,
    "_uuid": "549239812f919f5348da08db4264632d2b21b587",
    "execution": {
     "iopub.execute_input": "2021-12-19T10:46:57.702545Z",
     "iopub.status.busy": "2021-12-19T10:46:57.702164Z",
     "iopub.status.idle": "2021-12-19T10:46:57.716566Z",
     "shell.execute_reply": "2021-12-19T10:46:57.715818Z",
     "shell.execute_reply.started": "2021-12-19T10:46:57.7025Z"
    }
   },
   "outputs": [],
   "source": [
    "## apply the family_group function in family_size\n",
    "train['family_group'] = train['family_size'].map(family_group)\n",
    "test['family_group'] = test['family_size'].map(family_group)"
   ]
  },
  {
   "cell_type": "markdown",
   "metadata": {
    "_cell_guid": "d827a2d9-8ca5-454a-8323-90c397b25ccf",
    "_uuid": "3aa4ad0fac364f8f3c04e240841ee097baa3c871"
   },
   "source": [
    "## is_alone"
   ]
  },
  {
   "cell_type": "code",
   "execution_count": null,
   "metadata": {
    "_cell_guid": "298b28d6-75a7-4e49-b1c3-7755f1727327",
    "_kg_hide-input": true,
    "_uuid": "45315bb62f69e94e66109e7da06c6c5ade578398",
    "execution": {
     "iopub.execute_input": "2021-12-19T10:46:57.718247Z",
     "iopub.status.busy": "2021-12-19T10:46:57.717824Z",
     "iopub.status.idle": "2021-12-19T10:46:57.727756Z",
     "shell.execute_reply": "2021-12-19T10:46:57.726611Z",
     "shell.execute_reply.started": "2021-12-19T10:46:57.7182Z"
    }
   },
   "outputs": [],
   "source": [
    "train['is_alone'] = [1 if i<2 else 0 for i in train.family_size]\n",
    "test['is_alone'] = [1 if i<2 else 0 for i in test.family_size]"
   ]
  },
  {
   "cell_type": "markdown",
   "metadata": {
    "_cell_guid": "fee91907-4197-46c2-92c1-92474565e9a0",
    "_uuid": "0a6032d2746a7cf75e2cc899615d72433572fd6d"
   },
   "source": [
    "## ticket"
   ]
  },
  {
   "cell_type": "code",
   "execution_count": null,
   "metadata": {
    "_cell_guid": "352c794d-728d-44de-9160-25da7abe0c06",
    "_kg_hide-input": true,
    "_uuid": "5b99e1f7d7757f11e6dd6dbc627f3bd6e2fbd874",
    "execution": {
     "iopub.execute_input": "2021-12-19T10:46:57.729676Z",
     "iopub.status.busy": "2021-12-19T10:46:57.72915Z",
     "iopub.status.idle": "2021-12-19T10:46:57.740974Z",
     "shell.execute_reply": "2021-12-19T10:46:57.739877Z",
     "shell.execute_reply.started": "2021-12-19T10:46:57.729567Z"
    }
   },
   "outputs": [],
   "source": [
    "train.Ticket.value_counts().sample(10)"
   ]
  },
  {
   "cell_type": "markdown",
   "metadata": {
    "_uuid": "dd50f2d503d4b951bee458793dde6e23f0e35dc9"
   },
   "source": [
    "I have yet to figureout how to best manage ticket feature. So, any suggestion would be truly appreciated. For now, I will get rid off the ticket feature."
   ]
  },
  {
   "cell_type": "code",
   "execution_count": null,
   "metadata": {
    "_kg_hide-input": true,
    "_uuid": "d23d451982f0cbe44976c2eacafb726d816e9195",
    "execution": {
     "iopub.execute_input": "2021-12-19T10:46:57.742889Z",
     "iopub.status.busy": "2021-12-19T10:46:57.742466Z",
     "iopub.status.idle": "2021-12-19T10:46:57.753974Z",
     "shell.execute_reply": "2021-12-19T10:46:57.75298Z",
     "shell.execute_reply.started": "2021-12-19T10:46:57.742676Z"
    }
   },
   "outputs": [],
   "source": [
    "train.drop(['Ticket'], axis=1, inplace=True)\n",
    "\n",
    "test.drop(['Ticket'], axis=1, inplace=True)"
   ]
  },
  {
   "cell_type": "markdown",
   "metadata": {
    "_cell_guid": "60cb16dc-9bc3-4ff3-93b8-e3b3d4bcc0c8",
    "_uuid": "800052abc32a56c5f5f875bb3652c02e93c6b0a8"
   },
   "source": [
    "## calculated_fare"
   ]
  },
  {
   "cell_type": "code",
   "execution_count": null,
   "metadata": {
    "_cell_guid": "adaa30fe-cb0f-4666-bf95-505f1dcce188",
    "_kg_hide-input": true,
    "_uuid": "9374a6357551a7551e71731d72f5ceb3144856df",
    "execution": {
     "iopub.execute_input": "2021-12-19T10:46:57.756605Z",
     "iopub.status.busy": "2021-12-19T10:46:57.756318Z",
     "iopub.status.idle": "2021-12-19T10:46:57.765704Z",
     "shell.execute_reply": "2021-12-19T10:46:57.764851Z",
     "shell.execute_reply.started": "2021-12-19T10:46:57.756555Z"
    }
   },
   "outputs": [],
   "source": [
    "## Calculating fare based on family size. \n",
    "train['calculated_fare'] = train.Fare/train.family_size\n",
    "test['calculated_fare'] = test.Fare/test.family_size"
   ]
  },
  {
   "cell_type": "markdown",
   "metadata": {
    "_uuid": "157cec80a8138c7976b135f093fc52832b82d71e"
   },
   "source": [
    "Some people have travelled in groups like family or friends. It seems like Fare column kept a record of the total fare rather than the fare of individual passenger, therefore calculated fare will be much handy in this situation. "
   ]
  },
  {
   "cell_type": "markdown",
   "metadata": {
    "_cell_guid": "60579ed1-9978-4d4a-aea0-79c75b6b1376",
    "_uuid": "c0e1c25bc6a7717646a5d0d063acae220e496e9e"
   },
   "source": [
    "## fare_group"
   ]
  },
  {
   "cell_type": "code",
   "execution_count": null,
   "metadata": {
    "_cell_guid": "8c33b78c-14cb-4cc2-af0f-65079a741570",
    "_kg_hide-input": true,
    "_uuid": "35685a6ca28651eab389c4673c21da2ea5ba4187",
    "execution": {
     "iopub.execute_input": "2021-12-19T10:46:57.767209Z",
     "iopub.status.busy": "2021-12-19T10:46:57.766796Z",
     "iopub.status.idle": "2021-12-19T10:46:57.783574Z",
     "shell.execute_reply": "2021-12-19T10:46:57.782771Z",
     "shell.execute_reply.started": "2021-12-19T10:46:57.767158Z"
    }
   },
   "outputs": [],
   "source": [
    "def fare_group(fare):\n",
    "    \"\"\"\n",
    "    This function creates a fare group based on the fare provided\n",
    "    \"\"\"\n",
    "    \n",
    "    a= ''\n",
    "    if fare <= 4:\n",
    "        a = 'Very_low'\n",
    "    elif fare <= 10:\n",
    "        a = 'low'\n",
    "    elif fare <= 20:\n",
    "        a = 'mid'\n",
    "    elif fare <= 45:\n",
    "        a = 'high'\n",
    "    else:\n",
    "        a = \"very_high\"\n",
    "    return a\n",
    "\n",
    "train['fare_group'] = train['calculated_fare'].map(fare_group)\n",
    "test['fare_group'] = test['calculated_fare'].map(fare_group)\n",
    "\n",
    "#train['fare_group'] = pd.cut(train['calculated_fare'], bins = 4, labels=groups)"
   ]
  },
  {
   "cell_type": "markdown",
   "metadata": {
    "_cell_guid": "5f5072cf-2234-425e-b91d-9609971117a0",
    "_uuid": "907614ee16efce8cbcc32b5535648688d23271eb"
   },
   "source": [
    "Fare group was calculated based on <i>calculated_fare</i>. This can further help our cause. "
   ]
  },
  {
   "cell_type": "markdown",
   "metadata": {
    "_uuid": "57a333f5c225ce65ec46a7e8b3c33d78fd70752e"
   },
   "source": [
    "## PassengerId"
   ]
  },
  {
   "cell_type": "markdown",
   "metadata": {
    "_uuid": "b44cc5b5f6fd4d844b85f689f3a713599915bbce"
   },
   "source": [
    "It seems like <i>PassengerId</i> column only works as an id in this dataset without any significant effect on the dataset. Let's drop it."
   ]
  },
  {
   "cell_type": "code",
   "execution_count": null,
   "metadata": {
    "_uuid": "dadea67801cf5b56a882aa96bb874a4afa0e0bec",
    "execution": {
     "iopub.execute_input": "2021-12-19T10:46:57.785635Z",
     "iopub.status.busy": "2021-12-19T10:46:57.785044Z",
     "iopub.status.idle": "2021-12-19T10:46:57.804035Z",
     "shell.execute_reply": "2021-12-19T10:46:57.802811Z",
     "shell.execute_reply.started": "2021-12-19T10:46:57.785578Z"
    }
   },
   "outputs": [],
   "source": [
    "train.drop(['PassengerId'], axis=1, inplace=True)\n",
    "\n",
    "test.drop(['PassengerId'], axis=1, inplace=True)"
   ]
  },
  {
   "cell_type": "code",
   "execution_count": null,
   "metadata": {
    "execution": {
     "iopub.execute_input": "2021-12-19T10:46:57.80553Z",
     "iopub.status.busy": "2021-12-19T10:46:57.805162Z",
     "iopub.status.idle": "2021-12-19T10:46:57.827461Z",
     "shell.execute_reply": "2021-12-19T10:46:57.826534Z",
     "shell.execute_reply.started": "2021-12-19T10:46:57.805488Z"
    }
   },
   "outputs": [],
   "source": [
    "train.head()"
   ]
  },
  {
   "cell_type": "markdown",
   "metadata": {
    "_cell_guid": "6a494c58-c1cf-44e9-be41-f404626ab299",
    "_uuid": "704994b577f803ae51c5c6473a2d96f49bdd12ea"
   },
   "source": [
    "## Creating dummy variables\n",
    "\n",
    "You might be wondering what is a dummy variable? \n",
    "\n",
    "Dummy variable is an important **prepocessing machine learning step**. Often times Categorical variables are an important features, which can be the difference between a good model and a great model. While working with a dataset, having meaningful value for example, \"male\" or \"female\" instead of 0's and 1's is more intuitive for us. However, machines do not understand the value of categorical values, for example, in this dataset we have gender male or female, algorithms do not accept categorical variables as input. In order to feed data in a machine learning model, we  "
   ]
  },
  {
   "cell_type": "code",
   "execution_count": null,
   "metadata": {
    "_cell_guid": "9243ac8c-be44-46d0-a0ca-ee5f19b89bd4",
    "_kg_hide-input": true,
    "_uuid": "7b8db3930fb1bfb91db16686223dfc6d8e77744d",
    "execution": {
     "iopub.execute_input": "2021-12-19T10:46:57.829087Z",
     "iopub.status.busy": "2021-12-19T10:46:57.828774Z",
     "iopub.status.idle": "2021-12-19T10:46:57.864109Z",
     "shell.execute_reply": "2021-12-19T10:46:57.863362Z",
     "shell.execute_reply.started": "2021-12-19T10:46:57.829047Z"
    }
   },
   "outputs": [],
   "source": [
    "train = pd.get_dummies(train, columns=['title',\"Pclass\", 'Cabin','Embarked','nLength_group', 'family_group', 'fare_group'], drop_first=False)\n",
    "test = pd.get_dummies(test, columns=['title',\"Pclass\",'Cabin','Embarked','nLength_group', 'family_group', 'fare_group'], drop_first=False)\n",
    "train.drop(['family_size','Name', 'Fare','name_length'], axis=1, inplace=True)\n",
    "test.drop(['Name','family_size',\"Fare\",'name_length'], axis=1, inplace=True)"
   ]
  },
  {
   "cell_type": "code",
   "execution_count": null,
   "metadata": {
    "execution": {
     "iopub.execute_input": "2021-12-19T10:46:57.865337Z",
     "iopub.status.busy": "2021-12-19T10:46:57.865091Z",
     "iopub.status.idle": "2021-12-19T10:46:57.888554Z",
     "shell.execute_reply": "2021-12-19T10:46:57.887352Z",
     "shell.execute_reply.started": "2021-12-19T10:46:57.865295Z"
    }
   },
   "outputs": [],
   "source": [
    "train.head()"
   ]
  },
  {
   "cell_type": "markdown",
   "metadata": {
    "_cell_guid": "67dc98ce-bedc-456d-bdbb-9684bbd88d66",
    "_uuid": "23586743d94d093f76f05a2fd3ca0ae75c0d663c"
   },
   "source": [
    "## age"
   ]
  },
  {
   "cell_type": "markdown",
   "metadata": {
    "_uuid": "a519858b2df34c499bb53808a5a23592ba7af040"
   },
   "source": [
    "As I promised before, we are going to use Random forest regressor in this section to predict the missing age values. Let's do it"
   ]
  },
  {
   "cell_type": "code",
   "execution_count": null,
   "metadata": {
    "_kg_hide-input": true,
    "_uuid": "9597c320c3db4db5e5c28980a28abaae7281bc61",
    "execution": {
     "iopub.execute_input": "2021-12-19T10:46:57.890486Z",
     "iopub.status.busy": "2021-12-19T10:46:57.889996Z",
     "iopub.status.idle": "2021-12-19T10:46:57.907981Z",
     "shell.execute_reply": "2021-12-19T10:46:57.906953Z",
     "shell.execute_reply.started": "2021-12-19T10:46:57.890426Z"
    }
   },
   "outputs": [],
   "source": [
    "## rearranging the columns so that I can easily use the dataframe to predict the missing age values. \n",
    "train = pd.concat([train[[\"Survived\", \"Age\", \"Sex\",\"SibSp\",\"Parch\"]], train.loc[:,\"is_alone\":]], axis=1)\n",
    "test = pd.concat([test[[\"Age\", \"Sex\"]], test.loc[:,\"SibSp\":]], axis=1)"
   ]
  },
  {
   "cell_type": "code",
   "execution_count": null,
   "metadata": {
    "_kg_hide-input": true,
    "_uuid": "91662e7b63c2361fdcf3215f130b3895154ad92d",
    "execution": {
     "iopub.execute_input": "2021-12-19T10:46:57.909704Z",
     "iopub.status.busy": "2021-12-19T10:46:57.90931Z",
     "iopub.status.idle": "2021-12-19T10:47:04.082814Z",
     "shell.execute_reply": "2021-12-19T10:47:04.081889Z",
     "shell.execute_reply.started": "2021-12-19T10:46:57.90964Z"
    }
   },
   "outputs": [],
   "source": [
    "## Importing RandomForestRegressor\n",
    "from sklearn.ensemble import RandomForestRegressor\n",
    "\n",
    "## writing a function that takes a dataframe with missing values and outputs it by filling the missing values. \n",
    "def completing_age(df):\n",
    "    ## gettting all the features except survived\n",
    "    age_df = df.loc[:,\"Age\":] \n",
    "    \n",
    "    temp_train = age_df.loc[age_df.Age.notnull()] ## df with age values\n",
    "    temp_test = age_df.loc[age_df.Age.isnull()] ## df without age values\n",
    "    \n",
    "    y = temp_train.Age.values ## setting target variables(age) in y \n",
    "    x = temp_train.loc[:, \"Sex\":].values\n",
    "    \n",
    "    rfr = RandomForestRegressor(n_estimators=1500, n_jobs=-1)\n",
    "    rfr.fit(x, y)\n",
    "    \n",
    "    predicted_age = rfr.predict(temp_test.loc[:, \"Sex\":])\n",
    "    \n",
    "    df.loc[df.Age.isnull(), \"Age\"] = predicted_age\n",
    "    \n",
    "\n",
    "    return df\n",
    "\n",
    "## Implementing the completing_age function in both train and test dataset. \n",
    "completing_age(train)\n",
    "completing_age(test);"
   ]
  },
  {
   "cell_type": "markdown",
   "metadata": {
    "_uuid": "8f4891f73fe40cdf20cbcdfce93bda7a4f5ccc5d"
   },
   "source": [
    "Let's take a look at the histogram of the age column. "
   ]
  },
  {
   "cell_type": "code",
   "execution_count": null,
   "metadata": {
    "_kg_hide-input": true,
    "_uuid": "8fc55e4670061d46dab3cc6585b3cc71eb996868",
    "execution": {
     "iopub.execute_input": "2021-12-19T10:47:04.085069Z",
     "iopub.status.busy": "2021-12-19T10:47:04.084535Z",
     "iopub.status.idle": "2021-12-19T10:47:04.617478Z",
     "shell.execute_reply": "2021-12-19T10:47:04.616539Z",
     "shell.execute_reply.started": "2021-12-19T10:47:04.084861Z"
    }
   },
   "outputs": [],
   "source": [
    "## Let's look at the his\n",
    "plt.subplots(figsize = (22,10),)\n",
    "sns.distplot(train.Age, bins = 100, kde = True, rug = False, norm_hist=False);"
   ]
  },
  {
   "cell_type": "markdown",
   "metadata": {
    "_uuid": "97fcc2a4c7cdc7f998052aed543b86e113499580"
   },
   "source": [
    "## age_group\n",
    "We can create a new feature by grouping the \"Age\" column"
   ]
  },
  {
   "cell_type": "code",
   "execution_count": null,
   "metadata": {
    "_cell_guid": "3140c968-6755-42ec-aa70-d30c0acede1e",
    "_kg_hide-input": true,
    "_uuid": "c3bd77bb4d9d5411aa696a605be127db181d2a67",
    "execution": {
     "iopub.execute_input": "2021-12-19T10:47:04.619067Z",
     "iopub.status.busy": "2021-12-19T10:47:04.618792Z",
     "iopub.status.idle": "2021-12-19T10:47:04.641848Z",
     "shell.execute_reply": "2021-12-19T10:47:04.64075Z",
     "shell.execute_reply.started": "2021-12-19T10:47:04.619018Z"
    }
   },
   "outputs": [],
   "source": [
    "## create bins for age\n",
    "def age_group_fun(age):\n",
    "    \"\"\"\n",
    "    This function creates a bin for age\n",
    "    \"\"\"\n",
    "    a = ''\n",
    "    if age <= 1:\n",
    "        a = 'infant'\n",
    "    elif age <= 4: \n",
    "        a = 'toddler'\n",
    "    elif age <= 13:\n",
    "        a = 'child'\n",
    "    elif age <= 18:\n",
    "        a = 'teenager'\n",
    "    elif age <= 35:\n",
    "        a = 'Young_Adult'\n",
    "    elif age <= 45:\n",
    "        a = 'adult'\n",
    "    elif age <= 55:\n",
    "        a = 'middle_aged'\n",
    "    elif age <= 65:\n",
    "        a = 'senior_citizen'\n",
    "    else:\n",
    "        a = 'old'\n",
    "    return a\n",
    "        \n",
    "## Applying \"age_group_fun\" function to the \"Age\" column.\n",
    "train['age_group'] = train['Age'].map(age_group_fun)\n",
    "test['age_group'] = test['Age'].map(age_group_fun)\n",
    "\n",
    "## Creating dummies for \"age_group\" feature. \n",
    "train = pd.get_dummies(train,columns=['age_group'], drop_first=True)\n",
    "test = pd.get_dummies(test,columns=['age_group'], drop_first=True);"
   ]
  },
  {
   "cell_type": "markdown",
   "metadata": {},
   "source": [
    "<div class=\"alert alert-danger\">\n",
    "<h1>Need to paraphrase this section</h1>\n",
    "<h2>Feature Selection</h2>\n",
    "<h3>Feature selection is an important part of machine learning models. There are many reasons why we use feature selection.</h3> \n",
    "<ul>\n",
    "    <li>Simple models are easier to interpret. People who acts according to model results have a better understanding of the model.</li>\n",
    "    <li>Shorter training times.</li>\n",
    "    <li>Enhanced generalisation by reducing overfitting. </li>\n",
    "    <li>Easier to implement by software developers> model production.</li>\n",
    "        <ul>\n",
    "            <li>As Data Scientists we need to remember no to creating models with too many variables since it might overwhelm production engineers.</li>\n",
    "    </ul>\n",
    "    <li>Reduced risk of data errors during model use</li>\n",
    "    <li>Data redundancy</li>\n",
    "</ul>\n",
    "</div>"
   ]
  },
  {
   "cell_type": "markdown",
   "metadata": {
    "_cell_guid": "9de7bf55-edfb-42e0-a235-7fee883001d9",
    "_uuid": "8eb07418adf26340ec68fa41401e68d08603f6d4"
   },
   "source": [
    "# Part 6: Pre-Modeling Tasks\n",
    "## 6a. Separating dependent and independent variables\n",
    "<a id=\"dependent_independent\"></a>\n",
    "***\n",
    "Before we apply any machine learning models, It is important to separate dependent and independent variables. Our dependent variable or target variable is something that we are trying to find, and our independent variable is the features we use to find the dependent variable. The way we use machine learning algorithm in a dataset is that we train our machine learning model by specifying independent variables and dependent variable. To specify them, we need to separate them from each other, and the code below does just that.\n",
    "\n",
    "P.S. In our test dataset, we do not have a dependent variable feature. We are to predict that using machine learning models. "
   ]
  },
  {
   "cell_type": "code",
   "execution_count": null,
   "metadata": {
    "_cell_guid": "dcb0934f-8e3f-40b6-859e-abf70b0b074e",
    "_kg_hide-input": true,
    "_uuid": "607db6be6dfacc7385e5adcc0feeee28c50c99c5",
    "execution": {
     "iopub.execute_input": "2021-12-19T10:47:04.644426Z",
     "iopub.status.busy": "2021-12-19T10:47:04.643987Z",
     "iopub.status.idle": "2021-12-19T10:47:04.653141Z",
     "shell.execute_reply": "2021-12-19T10:47:04.652246Z",
     "shell.execute_reply.started": "2021-12-19T10:47:04.644308Z"
    }
   },
   "outputs": [],
   "source": [
    "# separating our independent and dependent variable\n",
    "X = train.drop(['Survived'], axis = 1)\n",
    "y = train[\"Survived\"]"
   ]
  },
  {
   "cell_type": "markdown",
   "metadata": {
    "_cell_guid": "042502ae-2714-43e2-9e33-6705b1aa781a",
    "_uuid": "92001d23ce79265c0f7d2b3d6f67094feeec2ea7"
   },
   "source": [
    "## 6b. Splitting the training data\n",
    "<a id=\"split_training_data\" ></a>\n",
    "***\n",
    "There are multiple ways of splitting data. They are...\n",
    "* train_test_split.\n",
    "* cross_validation. \n",
    "\n",
    "We have separated dependent and independent features; We have separated train and test data. So, why do we still have to split our training data? If you are curious about that, I have the answer. For this competition, when we train the machine learning algorithms, we use part of the training set usually two-thirds of the train data. Once we train our algorithm using 2/3 of the train data, we start to test our algorithms using the remaining data. If the model performs well we dump our test data in the algorithms to predict and submit the competition. The code below, basically splits the train data into 4 parts, **X_train**, **X_test**, **y_train**, **y_test**.  \n",
    "* **X_train** and **y_train** first used to train the algorithm. \n",
    "* then, **X_test** is used in that trained algorithms to predict **outcomes. **\n",
    "* Once we get the **outcomes**, we compare it with **y_test**\n",
    "\n",
    "By comparing the **outcome** of the model with **y_test**, we can determine whether our algorithms are performing well or not. As we compare we use confusion matrix to determine different aspects of model performance.\n",
    "\n",
    "P.S. When we use cross validation it is important to remember not to use **X_train, X_test, y_train and y_test**, rather we will use **X and y**. I will discuss more on that. "
   ]
  },
  {
   "cell_type": "code",
   "execution_count": null,
   "metadata": {
    "_cell_guid": "348a5be2-5f4f-4c98-93a3-7352b6060ef4",
    "_kg_hide-input": true,
    "_uuid": "41b70e57f8e03da9910c20af89a9fa4a2aaea85b",
    "execution": {
     "iopub.execute_input": "2021-12-19T10:47:04.654383Z",
     "iopub.status.busy": "2021-12-19T10:47:04.6541Z",
     "iopub.status.idle": "2021-12-19T10:47:04.668382Z",
     "shell.execute_reply": "2021-12-19T10:47:04.667404Z",
     "shell.execute_reply.started": "2021-12-19T10:47:04.654325Z"
    }
   },
   "outputs": [],
   "source": [
    "from sklearn.model_selection import train_test_split\n",
    "X_train, X_test, y_train, y_test = train_test_split(X, y,test_size = .33, random_state=0)"
   ]
  },
  {
   "cell_type": "code",
   "execution_count": null,
   "metadata": {
    "execution": {
     "iopub.execute_input": "2021-12-19T10:47:04.670619Z",
     "iopub.status.busy": "2021-12-19T10:47:04.670212Z",
     "iopub.status.idle": "2021-12-19T10:47:04.682857Z",
     "shell.execute_reply": "2021-12-19T10:47:04.68186Z",
     "shell.execute_reply.started": "2021-12-19T10:47:04.670517Z"
    }
   },
   "outputs": [],
   "source": [
    "len(X_train)"
   ]
  },
  {
   "cell_type": "code",
   "execution_count": null,
   "metadata": {
    "execution": {
     "iopub.execute_input": "2021-12-19T10:47:04.684299Z",
     "iopub.status.busy": "2021-12-19T10:47:04.684065Z",
     "iopub.status.idle": "2021-12-19T10:47:04.694183Z",
     "shell.execute_reply": "2021-12-19T10:47:04.693194Z",
     "shell.execute_reply.started": "2021-12-19T10:47:04.684259Z"
    }
   },
   "outputs": [],
   "source": [
    "len(X_test)"
   ]
  },
  {
   "cell_type": "markdown",
   "metadata": {
    "_cell_guid": "1f920690-2084-498c-a2fa-e618ad2228d8",
    "_uuid": "75407683b262fb65fc4afdfca6084d4ddaebe9a9"
   },
   "source": [
    "## 6c. Feature Scaling\n",
    "<a id=\"feature_scaling\" ></a>\n",
    "***\n",
    "Feature scaling is an important concept of machine learning models. Often times a dataset contain features highly varying in magnitude and unit. For some machine learning models, it is not a problem. However, for many other ones, its quite a problem. Many machine learning algorithms uses euclidian distances to calculate the distance between two points, it is quite a problem. Let's again look at a the sample of the **train** dataset below."
   ]
  },
  {
   "cell_type": "code",
   "execution_count": null,
   "metadata": {
    "_kg_hide-input": true,
    "_uuid": "d788baa4b88106afe5b30c769a6c85a1d67a5d6c",
    "execution": {
     "iopub.execute_input": "2021-12-19T10:47:04.695709Z",
     "iopub.status.busy": "2021-12-19T10:47:04.695436Z",
     "iopub.status.idle": "2021-12-19T10:47:04.724812Z",
     "shell.execute_reply": "2021-12-19T10:47:04.723884Z",
     "shell.execute_reply.started": "2021-12-19T10:47:04.695645Z"
    }
   },
   "outputs": [],
   "source": [
    "train.sample(5)"
   ]
  },
  {
   "cell_type": "markdown",
   "metadata": {
    "_uuid": "3d213fdd45a46ea0cf060adc7d9af58a84a03e21"
   },
   "source": [
    "Here **Age** and **Calculated_fare** is much higher in magnitude compared to others machine learning features. This can create problems as many machine learning models will get confused thinking **Age** and **Calculated_fare** have higher weight than other features. Therefore, we need to do feature scaling to get a better result. \n",
    "There are multiple ways to do feature scaling. \n",
    "<ul>\n",
    "    <li><b>MinMaxScaler</b>-Scales the data using the max and min values so that it fits between 0 and 1.</li>\n",
    "    <li><b>StandardScaler</b>-Scales the data so that it has mean 0 and variance of 1.</li>\n",
    "    <li><b>RobustScaler</b>-Scales the data similary to Standard Scaler, but makes use of the median and scales using the interquertile range so as to aviod issues with large outliers.</b>\n",
    " </ul>\n",
    "I will discuss more on that in a different kernel. For now we will use <b>Standard Scaler</b> to feature scale our dataset. \n",
    "\n",
    "P.S. I am showing a sample of both before and after so that you can see how scaling changes the dataset. "
   ]
  },
  {
   "cell_type": "markdown",
   "metadata": {
    "_uuid": "2bf3db75976f363c0e922b0b7843716f900e0fd9"
   },
   "source": [
    "<h3><font color=\"$5831bc\" face=\"Comic Sans MS\">Before Scaling</font></h3>"
   ]
  },
  {
   "cell_type": "code",
   "execution_count": null,
   "metadata": {
    "_kg_hide-input": true,
    "_uuid": "c4011a767b1d846f2866b4573d1d6d116afe8427",
    "execution": {
     "iopub.execute_input": "2021-12-19T10:47:04.726307Z",
     "iopub.status.busy": "2021-12-19T10:47:04.726057Z",
     "iopub.status.idle": "2021-12-19T10:47:04.74959Z",
     "shell.execute_reply": "2021-12-19T10:47:04.748567Z",
     "shell.execute_reply.started": "2021-12-19T10:47:04.726264Z"
    }
   },
   "outputs": [],
   "source": [
    "headers = X_train.columns \n",
    "\n",
    "X_train.head()"
   ]
  },
  {
   "cell_type": "code",
   "execution_count": null,
   "metadata": {
    "_cell_guid": "5c89c54b-7f5a-4e31-9e8f-58726cef5eab",
    "_kg_hide-input": true,
    "_uuid": "182b849ba7f2b311e919cdbf83970b97736e9d98",
    "execution": {
     "iopub.execute_input": "2021-12-19T10:47:04.751756Z",
     "iopub.status.busy": "2021-12-19T10:47:04.751254Z",
     "iopub.status.idle": "2021-12-19T10:47:04.772889Z",
     "shell.execute_reply": "2021-12-19T10:47:04.771818Z",
     "shell.execute_reply.started": "2021-12-19T10:47:04.751677Z"
    }
   },
   "outputs": [],
   "source": [
    "# Feature Scaling\n",
    "## We will be using standardscaler to transform\n",
    "from sklearn.preprocessing import StandardScaler\n",
    "st_scale = StandardScaler()\n",
    "\n",
    "## transforming \"train_x\"\n",
    "X_train = st_scale.fit_transform(X_train)\n",
    "## transforming \"test_x\"\n",
    "X_test = st_scale.transform(X_test)\n",
    "\n",
    "## transforming \"The testset\"\n",
    "#test = st_scale.transform(test)"
   ]
  },
  {
   "cell_type": "markdown",
   "metadata": {
    "_uuid": "d425ca579370db88e39cdd1811ba3df2b257b36c"
   },
   "source": [
    "<h3><font color=\"#5831bc\" face=\"Comic Sans MS\">After Scaling</font></h3>"
   ]
  },
  {
   "cell_type": "code",
   "execution_count": null,
   "metadata": {
    "_kg_hide-input": true,
    "_uuid": "fc6f031833ac9e2734aa7b3a2373b667679c6b2f",
    "execution": {
     "iopub.execute_input": "2021-12-19T10:47:04.775133Z",
     "iopub.status.busy": "2021-12-19T10:47:04.774758Z",
     "iopub.status.idle": "2021-12-19T10:47:04.80527Z",
     "shell.execute_reply": "2021-12-19T10:47:04.804066Z",
     "shell.execute_reply.started": "2021-12-19T10:47:04.775063Z"
    }
   },
   "outputs": [],
   "source": [
    "pd.DataFrame(X_train, columns=headers).head()"
   ]
  },
  {
   "cell_type": "markdown",
   "metadata": {},
   "source": [
    "You can see how the features have transformed above."
   ]
  },
  {
   "cell_type": "markdown",
   "metadata": {
    "_cell_guid": "0e03e40b-789a-40a0-a095-135f3d1c8f23",
    "_uuid": "99e108b83ba88738e42480b053371d60d89151cf"
   },
   "source": [
    "# Part 7: Modeling the Data\n",
    "<a id=\"modelingthedata\"></a>\n",
    "***\n",
    "In the previous versions of this kernel, I thought about explaining each model before applying it. However, this process makes this kernel too lengthy to sit and read at one go. Therefore I have decided to break this kernel down and explain each algorithm in a different kernel and add the links here. If you like to review logistic regression, please click [here](https://www.kaggle.com/masumrumi/logistic-regression-with-titanic-dataset). "
   ]
  },
  {
   "cell_type": "code",
   "execution_count": null,
   "metadata": {
    "_cell_guid": "0c8b0c41-6738-4689-85b0-b83a16e46ab9",
    "_uuid": "09140be1a71e37b441a16951a82747462b767e6e",
    "execution": {
     "iopub.execute_input": "2021-12-19T10:47:04.807168Z",
     "iopub.status.busy": "2021-12-19T10:47:04.806844Z",
     "iopub.status.idle": "2021-12-19T10:47:04.836202Z",
     "shell.execute_reply": "2021-12-19T10:47:04.835322Z",
     "shell.execute_reply.started": "2021-12-19T10:47:04.807103Z"
    }
   },
   "outputs": [],
   "source": [
    "# import LogisticRegression model in python. \n",
    "from sklearn.linear_model import LogisticRegression\n",
    "from sklearn.metrics import mean_absolute_error, accuracy_score\n",
    "\n",
    "## call on the model object\n",
    "logreg = LogisticRegression(solver='liblinear',\n",
    "                            penalty= 'l1',random_state = 42\n",
    "                                \n",
    "                            )\n",
    "\n",
    "## fit the model with \"train_x\" and \"train_y\"\n",
    "logreg.fit(X_train,y_train)\n",
    "\n",
    "## Once the model is trained we want to find out how well the model is performing, so we test the model. \n",
    "## we use \"X_test\" portion of the data(this data was not used to fit the model) to predict model outcome. \n",
    "y_pred = logreg.predict(X_test)\n",
    "\n",
    "## Once predicted we save that outcome in \"y_pred\" variable.\n",
    "## Then we compare the predicted value( \"y_pred\") and actual value(\"test_y\") to see how well our model is performing. "
   ]
  },
  {
   "cell_type": "markdown",
   "metadata": {},
   "source": [
    "<h1><font color=\"#5831bc\" face=\"Comic Sans MS\">Evaluating a classification model</font></h1>\n",
    "\n",
    "There are multiple ways to evaluate a classification model. \n",
    "\n",
    "* Confusion Matrix. \n",
    "* ROC Curve\n",
    "* AUC Curve. \n",
    "\n",
    "\n",
    "## Confusion Matrix\n",
    "<b>Confusion matrix</b>, a table that <b>describes the performance of a classification model</b>. Confusion Matrix tells us how many our model predicted correctly and incorrectly in terms of binary/multiple outcome classes by comparing actual and predicted cases. For example, in terms of this dataset, our model is a binary one and we are trying to classify whether the passenger survived or not survived. we have fit the model using **X_train** and **y_train** and predicted the outcome of **X_test** in the variable **y_pred**. So, now we will use a confusion matrix to compare between **y_test** and **y_pred**. Let's do the confusion matrix. \n"
   ]
  },
  {
   "cell_type": "code",
   "execution_count": null,
   "metadata": {
    "execution": {
     "iopub.execute_input": "2021-12-19T10:47:04.837999Z",
     "iopub.status.busy": "2021-12-19T10:47:04.837694Z",
     "iopub.status.idle": "2021-12-19T10:47:04.849567Z",
     "shell.execute_reply": "2021-12-19T10:47:04.848677Z",
     "shell.execute_reply.started": "2021-12-19T10:47:04.837946Z"
    }
   },
   "outputs": [],
   "source": [
    "from sklearn.metrics import classification_report, confusion_matrix\n",
    "# printing confision matrix\n",
    "pd.DataFrame(confusion_matrix(y_test,y_pred),\\\n",
    "            columns=[\"Predicted Not-Survived\", \"Predicted Survived\"],\\\n",
    "            index=[\"Not-Survived\",\"Survived\"] )"
   ]
  },
  {
   "cell_type": "markdown",
   "metadata": {},
   "source": [
    "Our **y_test** has a total of 294 data points; part of the original train set that we splitted in order to evaluate our model. Each number here represents certain details about our model. If we were to think about this interms of column and raw, we could see that...\n",
    "\n",
    "* the first column is of data points that the machine predicted as not-survived.\n",
    "* the second column is of the statistics that the model predicted as survievd.\n",
    "* In terms of raws, the first raw indexed as \"Not-survived\" means that the value in that raw are actual statistics of not survived once. \n",
    "* and the \"Survived\" indexed raw are values that actually survived.\n",
    "\n",
    "Now you can see that the predicted not-survived and predicted survived sort of overlap with actual survived and actual not-survived. After all it is a matrix and we have some terminologies to call these statistics more specifically. Let's see what they are"
   ]
  },
  {
   "cell_type": "markdown",
   "metadata": {},
   "source": [
    "<ul style=\"list-style-type:square;\">\n",
    "    <li><b>True Positive(TP)</b>: values that the model predicted as yes(survived) and is actually yes(survived).</li>\n",
    "    <li><b>True Negative(TN)</b>: values that model predicted as no(not-survived) and is actually no(not-survived)</li>\n",
    "    <li><b>False Positive(or Type I error)</b>: values that model predicted as yes(survived) but actually no(not-survived)</li>\n",
    "    <li><b>False Negative(or Type II error)</b>: values that model predicted as no(not-survived) but actually yes(survived)</li>\n",
    "</ul>\n",
    "\n",
    "For this dataset, whenever the model is predicting something as yes, it means the model is predicting that the passenger survived and for cases when the model predicting no; it means the passenger did not survive. Let's determine the value of all these terminologies above.\n",
    "<ul style=\"list-style-type:square;\">\n",
    "    <li><b>True Positive(TP):87</b></li>\n",
    "    <li><b>True Negative(TN):149</b></li>\n",
    "    <li><b>False Positive(FP):28</b></li>\n",
    "    <li><b>False Negative(FN):30</b></li>\n",
    "</ul>\n",
    "From these four terminologies, we can compute many other rates that are used to evaluate a binary classifier. \n",
    "\n",
    "\n",
    "#### Accuracy: \n",
    "** Accuracy is the measure of how often the model is correct.** \n",
    "* (TP + TN)/total = (87+149)/294 = .8027\n",
    "\n",
    "We can also calculate accuracy score using scikit learn. "
   ]
  },
  {
   "cell_type": "code",
   "execution_count": null,
   "metadata": {
    "execution": {
     "iopub.execute_input": "2021-12-19T10:47:04.851422Z",
     "iopub.status.busy": "2021-12-19T10:47:04.851133Z",
     "iopub.status.idle": "2021-12-19T10:47:04.857815Z",
     "shell.execute_reply": "2021-12-19T10:47:04.857018Z",
     "shell.execute_reply.started": "2021-12-19T10:47:04.85137Z"
    }
   },
   "outputs": [],
   "source": [
    "from sklearn.metrics import accuracy_score\n",
    "accuracy_score(y_test, y_pred)"
   ]
  },
  {
   "cell_type": "markdown",
   "metadata": {},
   "source": [
    "**Misclassification Rate:** Misclassification Rate is the measure of how often the model is wrong**\n",
    "* Misclassification Rate and Accuracy are opposite of each other.\n",
    "* Missclassification is equivalent to 1 minus Accuracy. \n",
    "* Misclassification Rate is also known as \"Error Rate\".\n",
    "\n",
    "> (FP + FN)/Total = (28+30)/294 = 0.19\n",
    "\n",
    "**True Positive Rate/Recall/Sensitivity:** How often the model predicts yes(survived) when it's actually yes(survived)?\n",
    "> TP/(TP+FN) = 87/(87+30) = 0.7435897435897436\n"
   ]
  },
  {
   "cell_type": "code",
   "execution_count": null,
   "metadata": {
    "execution": {
     "iopub.execute_input": "2021-12-19T10:47:04.859211Z",
     "iopub.status.busy": "2021-12-19T10:47:04.858945Z",
     "iopub.status.idle": "2021-12-19T10:47:04.869571Z",
     "shell.execute_reply": "2021-12-19T10:47:04.868846Z",
     "shell.execute_reply.started": "2021-12-19T10:47:04.859153Z"
    }
   },
   "outputs": [],
   "source": [
    "from sklearn.metrics import recall_score\n",
    "recall_score(y_test, y_pred)"
   ]
  },
  {
   "cell_type": "markdown",
   "metadata": {},
   "source": [
    "\n",
    "**False Positive Rate:** How often the model predicts yes(survived) when it's actually no(not-survived)?\n",
    "> FP/(FP+TN) = 28/(28+149) = 0.15819209039548024\n",
    "\n",
    "**True Negative Rate/Specificity:** How often the model predicts no(not-survived) when it's actually no(not-survived)?\n",
    "* True Negative Rate is equivalent to 1 minus False Positive Rate.\n",
    "\n",
    "> TN/(TN+FP) = 149/(149+28) = 0.8418079096045198\n",
    "\n",
    "**Precision:** How often is it correct when the model predicts yes. \n",
    "> TP/(TP+FP) = 87/(87+28) = 0.7565217391304347"
   ]
  },
  {
   "cell_type": "code",
   "execution_count": null,
   "metadata": {
    "execution": {
     "iopub.execute_input": "2021-12-19T10:47:04.87102Z",
     "iopub.status.busy": "2021-12-19T10:47:04.870594Z",
     "iopub.status.idle": "2021-12-19T10:47:04.881458Z",
     "shell.execute_reply": "2021-12-19T10:47:04.880735Z",
     "shell.execute_reply.started": "2021-12-19T10:47:04.870967Z"
    }
   },
   "outputs": [],
   "source": [
    "from sklearn.metrics import precision_score\n",
    "precision_score(y_test, y_pred)"
   ]
  },
  {
   "cell_type": "code",
   "execution_count": null,
   "metadata": {
    "execution": {
     "iopub.execute_input": "2021-12-19T10:47:04.882814Z",
     "iopub.status.busy": "2021-12-19T10:47:04.882535Z",
     "iopub.status.idle": "2021-12-19T10:47:04.896152Z",
     "shell.execute_reply": "2021-12-19T10:47:04.894918Z",
     "shell.execute_reply.started": "2021-12-19T10:47:04.882767Z"
    }
   },
   "outputs": [],
   "source": [
    "from sklearn.metrics import classification_report, balanced_accuracy_score\n",
    "print(classification_report(y_test, y_pred))"
   ]
  },
  {
   "cell_type": "markdown",
   "metadata": {},
   "source": [
    "we have our confusion matrix. How about we give it a little more character. "
   ]
  },
  {
   "cell_type": "code",
   "execution_count": null,
   "metadata": {
    "_kg_hide-input": true,
    "execution": {
     "iopub.execute_input": "2021-12-19T10:47:04.898022Z",
     "iopub.status.busy": "2021-12-19T10:47:04.897514Z",
     "iopub.status.idle": "2021-12-19T10:47:05.255761Z",
     "shell.execute_reply": "2021-12-19T10:47:05.255122Z",
     "shell.execute_reply.started": "2021-12-19T10:47:04.897974Z"
    }
   },
   "outputs": [],
   "source": [
    "from sklearn.utils.multiclass import unique_labels\n",
    "from sklearn.metrics import confusion_matrix\n",
    "\n",
    "\n",
    "def plot_confusion_matrix(y_true, y_pred, classes,\n",
    "                          normalize=False,\n",
    "                          title=None,\n",
    "                          cmap=plt.cm.Blues):\n",
    "    \"\"\"\n",
    "    This function prints and plots the confusion matrix.\n",
    "    Normalization can be applied by setting `normalize=True`.\n",
    "    \"\"\"\n",
    "    if not title:\n",
    "        if normalize:\n",
    "            title = 'Normalized confusion matrix'\n",
    "        else:\n",
    "            title = 'Confusion matrix, without normalization'\n",
    "\n",
    "    # Compute confusion matrix\n",
    "    cm = confusion_matrix(y_true, y_pred)\n",
    "    # Only use the labels that appear in the data\n",
    "    classes = classes[unique_labels(y_true, y_pred)]\n",
    "    if normalize:\n",
    "        cm = cm.astype('float') / cm.sum(axis=1)[:, np.newaxis]\n",
    "        print(\"Normalized confusion matrix\")\n",
    "    else:\n",
    "        print('Confusion matrix, without normalization')\n",
    "\n",
    "    print(cm)\n",
    "\n",
    "    fig, ax = plt.subplots()\n",
    "    im = ax.imshow(cm, interpolation='nearest', cmap=cmap)\n",
    "    ax.figure.colorbar(im, ax=ax)\n",
    "    # We want to show all ticks...\n",
    "    ax.set(xticks=np.arange(cm.shape[1]),\n",
    "           yticks=np.arange(cm.shape[0]),\n",
    "           # ... and label them with the respective list entries\n",
    "           xticklabels=classes, yticklabels=classes,\n",
    "           title=title,\n",
    "           ylabel='True label',\n",
    "           xlabel='Predicted label')\n",
    "\n",
    "    # Rotate the tick labels and set their alignment.\n",
    "    plt.setp(ax.get_xticklabels(), rotation=45, ha=\"right\",\n",
    "             rotation_mode=\"anchor\")\n",
    "\n",
    "    # Loop over data dimensions and create text annotations.\n",
    "    fmt = '.2f' if normalize else 'd'\n",
    "    thresh = cm.max() / 2.\n",
    "    for i in range(cm.shape[0]):\n",
    "        for j in range(cm.shape[1]):\n",
    "            ax.text(j, i, format(cm[i, j], fmt),\n",
    "                    ha=\"center\", va=\"center\",\n",
    "                    color=\"white\" if cm[i, j] > thresh else \"black\")\n",
    "    fig.tight_layout()\n",
    "    return ax\n",
    "\n",
    "\n",
    "np.set_printoptions(precision=2)\n",
    "\n",
    "class_names = np.array(['not_survived','survived'])\n",
    "\n",
    "# Plot non-normalized confusion matrix\n",
    "plot_confusion_matrix(y_test, y_pred, classes=class_names,\n",
    "                      title='Confusion matrix, without normalization')\n",
    "\n",
    "# Plot normalized confusion matrix\n",
    "plot_confusion_matrix(y_test, y_pred, classes=class_names, normalize=True,\n",
    "                      title='Normalized confusion matrix')\n",
    "\n",
    "plt.show()"
   ]
  },
  {
   "cell_type": "markdown",
   "metadata": {
    "_uuid": "e13731cbb9d9040cf6e4088e8660eca66037a8cc"
   },
   "source": [
    "<h1>AUC & ROC Curve</h1>"
   ]
  },
  {
   "cell_type": "code",
   "execution_count": null,
   "metadata": {
    "_uuid": "1e71bc7c685b757b6920076527780674d6f619bc",
    "execution": {
     "iopub.execute_input": "2021-12-19T10:47:05.257161Z",
     "iopub.status.busy": "2021-12-19T10:47:05.256797Z",
     "iopub.status.idle": "2021-12-19T10:47:05.439617Z",
     "shell.execute_reply": "2021-12-19T10:47:05.438946Z",
     "shell.execute_reply.started": "2021-12-19T10:47:05.25711Z"
    }
   },
   "outputs": [],
   "source": [
    "from sklearn.metrics import roc_curve, auc\n",
    "#plt.style.use('seaborn-pastel')\n",
    "y_score = logreg.decision_function(X_test)\n",
    "\n",
    "FPR, TPR, _ = roc_curve(y_test, y_score)\n",
    "ROC_AUC = auc(FPR, TPR)\n",
    "print (ROC_AUC)\n",
    "\n",
    "plt.figure(figsize =[11,9])\n",
    "plt.plot(FPR, TPR, label= 'ROC curve(area = %0.2f)'%ROC_AUC, linewidth= 4)\n",
    "plt.plot([0,1],[0,1], 'k--', linewidth = 4)\n",
    "plt.xlim([0.0,1.0])\n",
    "plt.ylim([0.0,1.05])\n",
    "plt.xlabel('False Positive Rate', fontsize = 18)\n",
    "plt.ylabel('True Positive Rate', fontsize = 18)\n",
    "plt.title('ROC for Titanic survivors', fontsize= 18)\n",
    "plt.show()"
   ]
  },
  {
   "cell_type": "code",
   "execution_count": null,
   "metadata": {
    "_uuid": "22f15e384372a1ece2f28cd9eced0c703a79598f",
    "execution": {
     "iopub.execute_input": "2021-12-19T10:47:05.440987Z",
     "iopub.status.busy": "2021-12-19T10:47:05.440637Z",
     "iopub.status.idle": "2021-12-19T10:47:05.632483Z",
     "shell.execute_reply": "2021-12-19T10:47:05.631805Z",
     "shell.execute_reply.started": "2021-12-19T10:47:05.440949Z"
    }
   },
   "outputs": [],
   "source": [
    "from sklearn.metrics import precision_recall_curve\n",
    "\n",
    "y_score = logreg.decision_function(X_test)\n",
    "\n",
    "precision, recall, _ = precision_recall_curve(y_test, y_score)\n",
    "PR_AUC = auc(recall, precision)\n",
    "\n",
    "plt.figure(figsize=[11,9])\n",
    "plt.plot(recall, precision, label='PR curve (area = %0.2f)' % PR_AUC, linewidth=4)\n",
    "plt.xlabel('Recall', fontsize=18)\n",
    "plt.ylabel('Precision', fontsize=18)\n",
    "plt.title('Precision Recall Curve for Titanic survivors', fontsize=18)\n",
    "plt.legend(loc=\"lower right\")\n",
    "plt.show()"
   ]
  },
  {
   "cell_type": "markdown",
   "metadata": {
    "_uuid": "e46b6d4bcb0ef70c06535b58bbe84c8a301ead91"
   },
   "source": [
    "## Using Cross-validation:\n",
    "Pros: \n",
    "* Helps reduce variance. \n",
    "* Expends models predictability. \n"
   ]
  },
  {
   "cell_type": "code",
   "execution_count": null,
   "metadata": {
    "execution": {
     "iopub.execute_input": "2021-12-19T10:47:05.63378Z",
     "iopub.status.busy": "2021-12-19T10:47:05.633442Z",
     "iopub.status.idle": "2021-12-19T10:47:05.637444Z",
     "shell.execute_reply": "2021-12-19T10:47:05.636083Z",
     "shell.execute_reply.started": "2021-12-19T10:47:05.633743Z"
    }
   },
   "outputs": [],
   "source": [
    "sc = st_scale"
   ]
  },
  {
   "cell_type": "code",
   "execution_count": null,
   "metadata": {
    "_uuid": "17791284c3e88236de2daa112422cde8ddcb0641",
    "execution": {
     "iopub.execute_input": "2021-12-19T10:47:05.639056Z",
     "iopub.status.busy": "2021-12-19T10:47:05.638826Z",
     "iopub.status.idle": "2021-12-19T10:47:05.756942Z",
     "shell.execute_reply": "2021-12-19T10:47:05.755999Z",
     "shell.execute_reply.started": "2021-12-19T10:47:05.639017Z"
    },
    "scrolled": true
   },
   "outputs": [],
   "source": [
    "## Using StratifiedShuffleSplit\n",
    "## We can use KFold, StratifiedShuffleSplit, StratiriedKFold or ShuffleSplit, They are all close cousins. look at sklearn userguide for more info.   \n",
    "from sklearn.model_selection import StratifiedShuffleSplit, cross_val_score\n",
    "cv = StratifiedShuffleSplit(n_splits = 10, test_size = .25, random_state = 0 ) # run model 10x with 60/30 split intentionally leaving out 10%\n",
    "## Using standard scale for the whole dataset.\n",
    "\n",
    "## saving the feature names for decision tree display\n",
    "column_names = X.columns\n",
    "\n",
    "X = sc.fit_transform(X)\n",
    "accuracies = cross_val_score(LogisticRegression(solver='liblinear'), X,y, cv  = cv)\n",
    "print (\"Cross-Validation accuracy scores:{}\".format(accuracies))\n",
    "print (\"Mean Cross-Validation accuracy score: {}\".format(round(accuracies.mean(),5)))"
   ]
  },
  {
   "cell_type": "markdown",
   "metadata": {
    "_cell_guid": "d1f2930c-43ae-4c15-87f7-ccc9214ee0e1",
    "_uuid": "b8020ecfe44bebdf7a2b95ec49393e8baac6bcf9"
   },
   "source": [
    "## Grid Search on Logistic Regression\n",
    "* What is grid search? \n",
    "* What are the pros and cons?\n",
    "\n",
    "**Gridsearch** is a simple concept but effective technique in Machine Learning. The word **GridSearch** stands for the fact that we are searching for optimal parameter/parameters over a \"grid.\" These optimal parameters are also known as **Hyperparameters**. **The Hyperparameters are model parameters that are set before fitting the model and determine the behavior of the model.**. For example, when we choose to use linear regression, we may decide to add a penalty to the loss function such as Ridge or Lasso. These penalties require specific alpha (the strength of the regularization technique) to set beforehand. The higher the value of alpha, the more penalty is being added. GridSearch finds the optimal value of alpha among a range of values provided by us, and then we go on and use that optimal value to fit the model and get sweet results. It is essential to understand those model parameters are different from models outcomes, for example, **coefficients** or model evaluation metrics such as **accuracy score** or **mean squared error** are model outcomes and different than hyperparameters.\n",
    "\n",
    "#### This part of the kernel is a working progress. Please check back again for future updates.####"
   ]
  },
  {
   "cell_type": "code",
   "execution_count": null,
   "metadata": {
    "_cell_guid": "0620523c-b33b-4302-8a1c-4b6759ffa5fa",
    "_uuid": "36a379a00a31dd161be1723f65490990294fe13d",
    "execution": {
     "iopub.execute_input": "2021-12-19T10:47:05.761355Z",
     "iopub.status.busy": "2021-12-19T10:47:05.760821Z",
     "iopub.status.idle": "2021-12-19T10:47:16.265143Z",
     "shell.execute_reply": "2021-12-19T10:47:16.264301Z",
     "shell.execute_reply.started": "2021-12-19T10:47:05.761287Z"
    }
   },
   "outputs": [],
   "source": [
    "from sklearn.model_selection import GridSearchCV, StratifiedKFold\n",
    "## C_vals is the alpla value of lasso and ridge regression(as alpha increases the model complexity decreases,)\n",
    "## remember effective alpha scores are 0<alpha<infinity \n",
    "C_vals = [0.2,0.3,0.4,0.5,0.6,0.7,0.8,0.9,1,2,3,4,5,6,7,8,9,10,12,13,14,15,16,16.5,17,17.5,18]\n",
    "## Choosing penalties(Lasso(l1) or Ridge(l2))\n",
    "penalties = ['l1','l2']\n",
    "## Choose a cross validation strategy. \n",
    "cv = StratifiedShuffleSplit(n_splits = 10, test_size = .25)\n",
    "\n",
    "## setting param for param_grid in GridSearchCV. \n",
    "param = {'penalty': penalties, 'C': C_vals}\n",
    "\n",
    "logreg = LogisticRegression(solver='liblinear')\n",
    "## Calling on GridSearchCV object. \n",
    "grid = GridSearchCV(estimator=LogisticRegression(), \n",
    "                           param_grid = param,\n",
    "                           scoring = 'accuracy',\n",
    "                            n_jobs =-1,\n",
    "                           cv = cv\n",
    "                          )\n",
    "## Fitting the model\n",
    "grid.fit(X, y)"
   ]
  },
  {
   "cell_type": "code",
   "execution_count": null,
   "metadata": {
    "_cell_guid": "1fa35072-87c4-4f47-86ab-dda03d4b7b15",
    "_uuid": "4c6650e39550527b271ddf733dcfe5221bcd5c98",
    "execution": {
     "iopub.execute_input": "2021-12-19T10:47:16.267334Z",
     "iopub.status.busy": "2021-12-19T10:47:16.266778Z",
     "iopub.status.idle": "2021-12-19T10:47:16.274418Z",
     "shell.execute_reply": "2021-12-19T10:47:16.273519Z",
     "shell.execute_reply.started": "2021-12-19T10:47:16.267273Z"
    }
   },
   "outputs": [],
   "source": [
    "## Getting the best of everything. \n",
    "print (grid.best_score_)\n",
    "print (grid.best_params_)\n",
    "print(grid.best_estimator_)"
   ]
  },
  {
   "cell_type": "markdown",
   "metadata": {
    "_uuid": "dcd2ad782c168abb5cfb5a3d148814e53cb2119c"
   },
   "source": [
    "\n",
    "#### Using the best parameters from the grid-search. "
   ]
  },
  {
   "cell_type": "code",
   "execution_count": null,
   "metadata": {
    "_uuid": "ba53f6b3610821dc820936dde7b7803a54d20f5a",
    "execution": {
     "iopub.execute_input": "2021-12-19T10:47:16.276158Z",
     "iopub.status.busy": "2021-12-19T10:47:16.27578Z",
     "iopub.status.idle": "2021-12-19T10:47:16.290678Z",
     "shell.execute_reply": "2021-12-19T10:47:16.289721Z",
     "shell.execute_reply.started": "2021-12-19T10:47:16.275985Z"
    }
   },
   "outputs": [],
   "source": [
    "### Using the best parameters from the grid-search.\n",
    "logreg_grid = grid.best_estimator_\n",
    "logreg_grid.score(X,y)"
   ]
  },
  {
   "cell_type": "markdown",
   "metadata": {},
   "source": [
    " #### This part of the kernel is a working progress. Please check back again for future updates.####\n",
    " \n",
    " Resources: \n",
    " * [Confusion Matrix](https://www.youtube.com/watch?v=8Oog7TXHvFY)\n",
    "### Under-fitting & Over-fitting: \n",
    "So, we have our first model and its score. But, how do we make sure that our model is performing well. Our model may be overfitting or underfitting. In fact, for those of you don't know what overfitting and underfitting is, Let's find out.\n",
    "\n",
    "![](https://cdncontribute.geeksforgeeks.org/wp-content/uploads/fittings.jpg)\n",
    "\n",
    "As you see in the chart above. **Underfitting** is when the model fails to capture important aspects of the data and therefore introduces more bias and performs poorly. On the other hand, **Overfitting** is when the model performs too well on the training data but does poorly in the validation set or test sets.  This situation is also known as having less bias but more variation and perform poorly as well. Ideally, we want to configure a model that performs well not only in the training data but also in the test data. This is where **bias-variance tradeoff** comes in. When we have a model that overfits, meaning less biased and more of variance, we introduce some bias in exchange of having much less variance. One particular tactic for this task is regularization models (Ridge, Lasso, Elastic Net).  These models are built to deal with the bias-variance tradeoff. This [kernel](https://www.kaggle.com/dansbecker/underfitting-and-overfitting) explains this topic well. Also, the following chart gives us a mental picture of where we want our models to be. \n",
    "![](http://scott.fortmann-roe.com/docs/docs/BiasVariance/biasvariance.png)\n",
    "\n",
    "Ideally, we want to pick a sweet spot where the model performs well in training set, validation set, and test set. As the model gets complex, bias decreases, variance increases. However, the most critical part is the error rates. We want our models to be at the bottom of that **U** shape where the error rate is the least. That sweet spot is also known as **Optimum Model Complexity(OMC).**\n",
    "\n",
    "Now that we know what we want in terms of under-fitting and over-fitting, let's talk about how to combat them. \n",
    "\n",
    "How to combat over-fitting?\n",
    "<ul>\n",
    "    <li>Simplify the model by using less parameters.</li>\n",
    "    <li>Simplify the model by changing the hyperparameters.</li>\n",
    "    <li>Introducing regularization models. </li>\n",
    "    <li>Use more training data. </li>\n",
    "    <li>Gatter more data ( and gather better quality data). </li>\n",
    "    </ul>\n",
    " #### This part of the kernel is a working progress. Please check back again for future updates.####"
   ]
  },
  {
   "cell_type": "markdown",
   "metadata": {
    "_cell_guid": "8046e4d9-12db-4b1c-9e9e-31fd5e6543f2",
    "_uuid": "26b0ea9184b2c37eabe4e705b1c840956ecc1e10"
   },
   "source": [
    "## 7b. K-Nearest Neighbor classifier(KNN)\n",
    "<a id=\"knn\"></a>\n",
    "***"
   ]
  },
  {
   "cell_type": "code",
   "execution_count": null,
   "metadata": {
    "_uuid": "953bc2c18b5fd93bcd51a42cc04a0539d86d5bac",
    "execution": {
     "iopub.execute_input": "2021-12-19T10:47:16.292965Z",
     "iopub.status.busy": "2021-12-19T10:47:16.292308Z",
     "iopub.status.idle": "2021-12-19T10:47:16.518128Z",
     "shell.execute_reply": "2021-12-19T10:47:16.517162Z",
     "shell.execute_reply.started": "2021-12-19T10:47:16.292908Z"
    }
   },
   "outputs": [],
   "source": [
    "## Importing the model. \n",
    "from sklearn.neighbors import KNeighborsClassifier\n",
    "## calling on the model oject. \n",
    "knn = KNeighborsClassifier(metric='minkowski', p=2)\n",
    "## knn classifier works by doing euclidian distance \n",
    "\n",
    "\n",
    "## doing 10 fold staratified-shuffle-split cross validation \n",
    "cv = StratifiedShuffleSplit(n_splits=10, test_size=.25, random_state=2)\n",
    "\n",
    "accuracies = cross_val_score(knn, X,y, cv = cv, scoring='accuracy')\n",
    "print (\"Cross-Validation accuracy scores:{}\".format(accuracies))\n",
    "print (\"Mean Cross-Validation accuracy score: {}\".format(round(accuracies.mean(),3)))"
   ]
  },
  {
   "cell_type": "markdown",
   "metadata": {
    "_uuid": "6aa75e53129898ccd714370dc55c0ed2830e72f4"
   },
   "source": [
    "#### Manually find the best possible k value for KNN"
   ]
  },
  {
   "cell_type": "code",
   "execution_count": null,
   "metadata": {
    "_uuid": "9c0f44165e08f63ae5436180c5a7182e6db5c63f",
    "execution": {
     "iopub.execute_input": "2021-12-19T10:47:16.51987Z",
     "iopub.status.busy": "2021-12-19T10:47:16.519491Z",
     "iopub.status.idle": "2021-12-19T10:47:23.342847Z",
     "shell.execute_reply": "2021-12-19T10:47:23.341735Z",
     "shell.execute_reply.started": "2021-12-19T10:47:16.519802Z"
    }
   },
   "outputs": [],
   "source": [
    "## Search for an optimal value of k for KNN.\n",
    "k_range = range(1,31)\n",
    "k_scores = []\n",
    "for k in k_range:\n",
    "    knn = KNeighborsClassifier(n_neighbors=k)\n",
    "    scores = cross_val_score(knn, X,y, cv = cv, scoring = 'accuracy')\n",
    "    k_scores.append(scores.mean())\n",
    "print(\"Accuracy scores are: {}\\n\".format(k_scores))\n",
    "print (\"Mean accuracy score: {}\".format(np.mean(k_scores)))\n"
   ]
  },
  {
   "cell_type": "code",
   "execution_count": null,
   "metadata": {
    "_uuid": "e123680b431ba99d399fa8205c32bcfdc7cabd81",
    "execution": {
     "iopub.execute_input": "2021-12-19T10:47:23.344874Z",
     "iopub.status.busy": "2021-12-19T10:47:23.344426Z",
     "iopub.status.idle": "2021-12-19T10:47:23.495856Z",
     "shell.execute_reply": "2021-12-19T10:47:23.494929Z",
     "shell.execute_reply.started": "2021-12-19T10:47:23.3448Z"
    }
   },
   "outputs": [],
   "source": [
    "from matplotlib import pyplot as plt\n",
    "plt.plot(k_range, k_scores)"
   ]
  },
  {
   "cell_type": "markdown",
   "metadata": {
    "_uuid": "77b5b6e3b7bc925e0b008cd6d531175e5cc44040"
   },
   "source": [
    "### Grid search on KNN classifier"
   ]
  },
  {
   "cell_type": "code",
   "execution_count": null,
   "metadata": {
    "_uuid": "507e2a7cdb28a47be45ed247f1343c123a6b592b",
    "execution": {
     "iopub.execute_input": "2021-12-19T10:47:23.497284Z",
     "iopub.status.busy": "2021-12-19T10:47:23.496914Z",
     "iopub.status.idle": "2021-12-19T10:47:28.883997Z",
     "shell.execute_reply": "2021-12-19T10:47:28.883051Z",
     "shell.execute_reply.started": "2021-12-19T10:47:23.497237Z"
    }
   },
   "outputs": [],
   "source": [
    "from sklearn.model_selection import GridSearchCV\n",
    "## trying out multiple values for k\n",
    "k_range = range(1,31)\n",
    "## \n",
    "weights_options=['uniform','distance']\n",
    "# \n",
    "param = {'n_neighbors':k_range, 'weights':weights_options}\n",
    "## Using startifiedShufflesplit. \n",
    "cv = StratifiedShuffleSplit(n_splits=10, test_size=.30, random_state=15)\n",
    "# estimator = knn, param_grid = param, n_jobs = -1 to instruct scikit learn to use all available processors. \n",
    "grid = GridSearchCV(KNeighborsClassifier(), param,cv=cv,verbose = False, n_jobs=-1)\n",
    "## Fitting the model. \n",
    "grid.fit(X,y)"
   ]
  },
  {
   "cell_type": "code",
   "execution_count": null,
   "metadata": {
    "_uuid": "c710770daa6cf327dcc28e18b3ed180fabecd49b",
    "execution": {
     "iopub.execute_input": "2021-12-19T10:47:28.885802Z",
     "iopub.status.busy": "2021-12-19T10:47:28.885424Z",
     "iopub.status.idle": "2021-12-19T10:47:28.891381Z",
     "shell.execute_reply": "2021-12-19T10:47:28.890494Z",
     "shell.execute_reply.started": "2021-12-19T10:47:28.885733Z"
    }
   },
   "outputs": [],
   "source": [
    "print(grid.best_score_)\n",
    "print(grid.best_params_)\n",
    "print(grid.best_estimator_)"
   ]
  },
  {
   "cell_type": "markdown",
   "metadata": {
    "_uuid": "bb06144264d3127c92169aed7c29c2f66ad0ffc4"
   },
   "source": [
    "#### Using best estimator from grid search using KNN. "
   ]
  },
  {
   "cell_type": "code",
   "execution_count": null,
   "metadata": {
    "_uuid": "dd1fbf223c4ec9db65dde4924e2827e46029da1a",
    "execution": {
     "iopub.execute_input": "2021-12-19T10:47:28.893324Z",
     "iopub.status.busy": "2021-12-19T10:47:28.892822Z",
     "iopub.status.idle": "2021-12-19T10:47:28.989472Z",
     "shell.execute_reply": "2021-12-19T10:47:28.988434Z",
     "shell.execute_reply.started": "2021-12-19T10:47:28.893267Z"
    }
   },
   "outputs": [],
   "source": [
    "### Using the best parameters from the grid-search.\n",
    "knn_grid= grid.best_estimator_\n",
    "knn_grid.score(X,y)"
   ]
  },
  {
   "cell_type": "markdown",
   "metadata": {
    "_uuid": "c2ebec8b83f23e3e27d23bdd707852269edd4d24"
   },
   "source": [
    "#### Using RandomizedSearchCV\n",
    "Randomized search is a close cousin of grid search. It doesn't  always provide the best result but its fast. "
   ]
  },
  {
   "cell_type": "code",
   "execution_count": null,
   "metadata": {
    "_uuid": "e159b267a57d7519fc0ee8b3d1e95b841d3daf60",
    "execution": {
     "iopub.execute_input": "2021-12-19T10:47:28.991438Z",
     "iopub.status.busy": "2021-12-19T10:47:28.990892Z",
     "iopub.status.idle": "2021-12-19T10:47:32.580637Z",
     "shell.execute_reply": "2021-12-19T10:47:32.579971Z",
     "shell.execute_reply.started": "2021-12-19T10:47:28.991376Z"
    }
   },
   "outputs": [],
   "source": [
    "from sklearn.model_selection import RandomizedSearchCV\n",
    "## trying out multiple values for k\n",
    "k_range = range(1,31)\n",
    "## \n",
    "weights_options=['uniform','distance']\n",
    "# \n",
    "param = {'n_neighbors':k_range, 'weights':weights_options}\n",
    "## Using startifiedShufflesplit. \n",
    "cv = StratifiedShuffleSplit(n_splits=10, test_size=.30)\n",
    "# estimator = knn, param_grid = param, n_jobs = -1 to instruct scikit learn to use all available processors. \n",
    "## for RandomizedSearchCV, \n",
    "grid = RandomizedSearchCV(KNeighborsClassifier(), param,cv=cv,verbose = False, n_jobs=-1, n_iter=40)\n",
    "## Fitting the model. \n",
    "grid.fit(X,y)"
   ]
  },
  {
   "cell_type": "code",
   "execution_count": null,
   "metadata": {
    "_uuid": "c58492525dd18659ef9f9c774ee7601a55e96f36",
    "execution": {
     "iopub.execute_input": "2021-12-19T10:47:32.582031Z",
     "iopub.status.busy": "2021-12-19T10:47:32.581802Z",
     "iopub.status.idle": "2021-12-19T10:47:32.587411Z",
     "shell.execute_reply": "2021-12-19T10:47:32.586796Z",
     "shell.execute_reply.started": "2021-12-19T10:47:32.58199Z"
    }
   },
   "outputs": [],
   "source": [
    "print (grid.best_score_)\n",
    "print (grid.best_params_)\n",
    "print(grid.best_estimator_)"
   ]
  },
  {
   "cell_type": "code",
   "execution_count": null,
   "metadata": {
    "_uuid": "6fb31588585d50de773ba0db6c378363841a5313",
    "execution": {
     "iopub.execute_input": "2021-12-19T10:47:32.588845Z",
     "iopub.status.busy": "2021-12-19T10:47:32.588422Z",
     "iopub.status.idle": "2021-12-19T10:47:32.688674Z",
     "shell.execute_reply": "2021-12-19T10:47:32.687895Z",
     "shell.execute_reply.started": "2021-12-19T10:47:32.588804Z"
    }
   },
   "outputs": [],
   "source": [
    "### Using the best parameters from the grid-search.\n",
    "knn_ran_grid = grid.best_estimator_\n",
    "knn_ran_grid.score(X,y)"
   ]
  },
  {
   "cell_type": "markdown",
   "metadata": {
    "_cell_guid": "be0143d6-a7ea-4752-9520-c692f4c3eb8a",
    "_uuid": "21e91edd53b6587d5a05036045bc5eea52f056da"
   },
   "source": [
    "## Gaussian Naive Bayes\n",
    "<a id=\"gaussian_naive\"></a>\n",
    "***"
   ]
  },
  {
   "cell_type": "code",
   "execution_count": null,
   "metadata": {
    "_uuid": "8b2435030dbef1303bfc2864d227f5918f359330",
    "execution": {
     "iopub.execute_input": "2021-12-19T10:47:32.690466Z",
     "iopub.status.busy": "2021-12-19T10:47:32.690122Z",
     "iopub.status.idle": "2021-12-19T10:47:32.705486Z",
     "shell.execute_reply": "2021-12-19T10:47:32.704617Z",
     "shell.execute_reply.started": "2021-12-19T10:47:32.690413Z"
    }
   },
   "outputs": [],
   "source": [
    "# Gaussian Naive Bayes\n",
    "from sklearn.naive_bayes import GaussianNB\n",
    "from sklearn.metrics import accuracy_score\n",
    "\n",
    "gaussian = GaussianNB()\n",
    "gaussian.fit(X, y)\n",
    "y_pred = gaussian.predict(X_test)\n",
    "gaussian_accy = round(accuracy_score(y_pred, y_test), 3)\n",
    "print(gaussian_accy)"
   ]
  },
  {
   "cell_type": "markdown",
   "metadata": {
    "_cell_guid": "c3e025c5-50f3-4fa1-a385-438d6665199b",
    "_uuid": "2a1558118d9e673395246acc4f3c0edb1b1895f0"
   },
   "source": [
    "## Support Vector Machines(SVM)\n",
    "<a id=\"svm\"></a>\n",
    "***"
   ]
  },
  {
   "cell_type": "code",
   "execution_count": null,
   "metadata": {
    "_uuid": "56895672215b0b6365c6aaa10e446216ef635f53",
    "execution": {
     "iopub.execute_input": "2021-12-19T10:47:32.708022Z",
     "iopub.status.busy": "2021-12-19T10:47:32.707508Z",
     "iopub.status.idle": "2021-12-19T10:49:11.37904Z",
     "shell.execute_reply": "2021-12-19T10:49:11.377856Z",
     "shell.execute_reply.started": "2021-12-19T10:47:32.707978Z"
    }
   },
   "outputs": [],
   "source": [
    "from sklearn.svm import SVC\n",
    "Cs = [0.001, 0.01, 0.1, 1,1.5,2,2.5,3,4,5, 10] ## penalty parameter C for the error term. \n",
    "gammas = [0.0001,0.001, 0.01, 0.1, 1]\n",
    "param_grid = {'C': Cs, 'gamma' : gammas}\n",
    "cv = StratifiedShuffleSplit(n_splits=10, test_size=.30, random_state=15)\n",
    "grid_search = GridSearchCV(SVC(kernel = 'rbf', probability=True), param_grid, cv=cv) ## 'rbf' stands for gaussian kernel\n",
    "grid_search.fit(X,y)"
   ]
  },
  {
   "cell_type": "code",
   "execution_count": null,
   "metadata": {
    "_uuid": "4108264ea5d18e3d3fa38a30584a032c734d6d49",
    "execution": {
     "iopub.execute_input": "2021-12-19T10:49:11.382344Z",
     "iopub.status.busy": "2021-12-19T10:49:11.381929Z",
     "iopub.status.idle": "2021-12-19T10:49:11.388767Z",
     "shell.execute_reply": "2021-12-19T10:49:11.387648Z",
     "shell.execute_reply.started": "2021-12-19T10:49:11.382264Z"
    }
   },
   "outputs": [],
   "source": [
    "print(grid_search.best_score_)\n",
    "print(grid_search.best_params_)\n",
    "print(grid_search.best_estimator_)"
   ]
  },
  {
   "cell_type": "code",
   "execution_count": null,
   "metadata": {
    "_uuid": "db18a3b5475f03b21a039e31e4962c43f7caffdc",
    "execution": {
     "iopub.execute_input": "2021-12-19T10:49:11.390821Z",
     "iopub.status.busy": "2021-12-19T10:49:11.390377Z",
     "iopub.status.idle": "2021-12-19T10:49:11.442712Z",
     "shell.execute_reply": "2021-12-19T10:49:11.441934Z",
     "shell.execute_reply.started": "2021-12-19T10:49:11.390743Z"
    }
   },
   "outputs": [],
   "source": [
    "# using the best found hyper paremeters to get the score. \n",
    "svm_grid = grid_search.best_estimator_\n",
    "svm_grid.score(X,y)"
   ]
  },
  {
   "cell_type": "markdown",
   "metadata": {},
   "source": [
    "## Decision Tree Classifier\n",
    "\n",
    "Decision tree works by breaking down the dataset into small subsets. This breaking down process is done by asking questions about the features of the datasets. The idea is to unmix the labels by asking fewer questions necessary. As we ask questions, we are breaking down the dataset into more subsets. Once we have a subgroup with only the unique type of labels, we end the tree in that node. If you would like to get a detailed understanding of Decision tree classifier, please take a look at [this](https://www.kaggle.com/masumrumi/decision-tree-with-titanic-dataset) kernel. "
   ]
  },
  {
   "cell_type": "code",
   "execution_count": null,
   "metadata": {
    "_cell_guid": "38c90de9-d2e9-4341-a378-a854762d8be2",
    "_uuid": "18efb62b713591d1512010536ff10d9f6a91ec11",
    "execution": {
     "iopub.execute_input": "2021-12-19T10:49:11.444315Z",
     "iopub.status.busy": "2021-12-19T10:49:11.443873Z",
     "iopub.status.idle": "2021-12-19T10:49:30.80965Z",
     "shell.execute_reply": "2021-12-19T10:49:30.808763Z",
     "shell.execute_reply.started": "2021-12-19T10:49:11.444274Z"
    }
   },
   "outputs": [],
   "source": [
    "from sklearn.tree import DecisionTreeClassifier\n",
    "max_depth = range(1,30)\n",
    "max_feature = [21,22,23,24,25,26,28,29,30,'auto']\n",
    "criterion=[\"entropy\", \"gini\"]\n",
    "\n",
    "param = {'max_depth':max_depth, \n",
    "         'max_features':max_feature, \n",
    "         'criterion': criterion}\n",
    "grid = GridSearchCV(DecisionTreeClassifier(), \n",
    "                                param_grid = param, \n",
    "                                 verbose=False, \n",
    "                                 cv=StratifiedKFold(n_splits=20, random_state=15, shuffle=True),\n",
    "                                n_jobs = -1)\n",
    "grid.fit(X, y) "
   ]
  },
  {
   "cell_type": "code",
   "execution_count": null,
   "metadata": {
    "_cell_guid": "b2222e4e-f5f2-4601-b95f-506d7811610a",
    "_uuid": "b0fb5055e6b4a7fb69ef44f669c4df693ce46212",
    "execution": {
     "iopub.execute_input": "2021-12-19T10:49:30.814182Z",
     "iopub.status.busy": "2021-12-19T10:49:30.813852Z",
     "iopub.status.idle": "2021-12-19T10:49:30.825201Z",
     "shell.execute_reply": "2021-12-19T10:49:30.823697Z",
     "shell.execute_reply.started": "2021-12-19T10:49:30.814127Z"
    },
    "scrolled": true
   },
   "outputs": [],
   "source": [
    "print( grid.best_params_)\n",
    "print (grid.best_score_)\n",
    "print (grid.best_estimator_)"
   ]
  },
  {
   "cell_type": "code",
   "execution_count": null,
   "metadata": {
    "_cell_guid": "d731079a-31b4-429a-8445-48597bb2639d",
    "_uuid": "76c26437d374442826ef140574c5c4880ae1e853",
    "execution": {
     "iopub.execute_input": "2021-12-19T10:49:30.828412Z",
     "iopub.status.busy": "2021-12-19T10:49:30.827605Z",
     "iopub.status.idle": "2021-12-19T10:49:30.840949Z",
     "shell.execute_reply": "2021-12-19T10:49:30.839604Z",
     "shell.execute_reply.started": "2021-12-19T10:49:30.827967Z"
    }
   },
   "outputs": [],
   "source": [
    "dectree_grid = grid.best_estimator_\n",
    "## using the best found hyper paremeters to get the score. \n",
    "dectree_grid.score(X,y)"
   ]
  },
  {
   "cell_type": "markdown",
   "metadata": {},
   "source": [
    " <h4> Let's look at the feature importance from decision tree grid.</h4>"
   ]
  },
  {
   "cell_type": "code",
   "execution_count": null,
   "metadata": {
    "execution": {
     "iopub.execute_input": "2021-12-19T10:49:30.844584Z",
     "iopub.status.busy": "2021-12-19T10:49:30.844188Z",
     "iopub.status.idle": "2021-12-19T10:49:30.867988Z",
     "shell.execute_reply": "2021-12-19T10:49:30.866538Z",
     "shell.execute_reply.started": "2021-12-19T10:49:30.844521Z"
    }
   },
   "outputs": [],
   "source": [
    "## feature importance\n",
    "feature_importances = pd.DataFrame(dectree_grid.feature_importances_,\n",
    "                                   index = column_names,\n",
    "                                    columns=['importance'])\n",
    "feature_importances.sort_values(by='importance', ascending=False).head(10)"
   ]
  },
  {
   "cell_type": "markdown",
   "metadata": {},
   "source": [
    "These are the top 10 features determined by **Decision Tree** helped classifing the fates of many passenger on Titanic on that night."
   ]
  },
  {
   "cell_type": "markdown",
   "metadata": {},
   "source": [
    "## 7f. Random Forest Classifier\n",
    "<a id=\"random_forest\"></a>"
   ]
  },
  {
   "cell_type": "markdown",
   "metadata": {},
   "source": [
    "I admire working with decision trees because of the potential and basics they provide towards building a more complex model like Random Forest(RF). RF is an ensemble method (combination of many decision trees) which is where the \"forest\" part comes in. One crucial details about Random Forest is that while using a forest of decision trees, RF model <b>takes random subsets of the original dataset(bootstrapped)</b> and <b>random subsets of the variables(features/columns)</b>. Using this method, the RF model creates 100's-1000's(the amount can be menually determined) of a wide variety of decision trees. This variety makes the RF model more effective and accurate. We then run each test data point through all of these 100's to 1000's of decision trees or the RF model and take a vote on the output. \n",
    "\n"
   ]
  },
  {
   "cell_type": "code",
   "execution_count": null,
   "metadata": {
    "execution": {
     "iopub.execute_input": "2021-12-19T10:49:30.870519Z",
     "iopub.status.busy": "2021-12-19T10:49:30.869785Z",
     "iopub.status.idle": "2021-12-19T10:50:32.986929Z",
     "shell.execute_reply": "2021-12-19T10:50:32.986115Z",
     "shell.execute_reply.started": "2021-12-19T10:49:30.870452Z"
    }
   },
   "outputs": [],
   "source": [
    "from sklearn.model_selection import GridSearchCV, StratifiedKFold, StratifiedShuffleSplit\n",
    "from sklearn.ensemble import RandomForestClassifier\n",
    "n_estimators = [140,145,150,155,160];\n",
    "max_depth = range(1,10);\n",
    "criterions = ['gini', 'entropy'];\n",
    "cv = StratifiedShuffleSplit(n_splits=10, test_size=.30, random_state=15)\n",
    "\n",
    "\n",
    "parameters = {'n_estimators':n_estimators,\n",
    "              'max_depth':max_depth,\n",
    "              'criterion': criterions\n",
    "              \n",
    "        }\n",
    "grid = GridSearchCV(estimator=RandomForestClassifier(max_features='auto'),\n",
    "                                 param_grid=parameters,\n",
    "                                 cv=cv,\n",
    "                                 n_jobs = -1)\n",
    "grid.fit(X,y) "
   ]
  },
  {
   "cell_type": "code",
   "execution_count": null,
   "metadata": {
    "execution": {
     "iopub.execute_input": "2021-12-19T10:50:32.988314Z",
     "iopub.status.busy": "2021-12-19T10:50:32.988078Z",
     "iopub.status.idle": "2021-12-19T10:50:32.993637Z",
     "shell.execute_reply": "2021-12-19T10:50:32.99269Z",
     "shell.execute_reply.started": "2021-12-19T10:50:32.988265Z"
    }
   },
   "outputs": [],
   "source": [
    "print (grid.best_score_)\n",
    "print (grid.best_params_)\n",
    "print (grid.best_estimator_)"
   ]
  },
  {
   "cell_type": "code",
   "execution_count": null,
   "metadata": {
    "execution": {
     "iopub.execute_input": "2021-12-19T10:50:32.995827Z",
     "iopub.status.busy": "2021-12-19T10:50:32.995477Z",
     "iopub.status.idle": "2021-12-19T10:50:33.029601Z",
     "shell.execute_reply": "2021-12-19T10:50:33.028715Z",
     "shell.execute_reply.started": "2021-12-19T10:50:32.995763Z"
    }
   },
   "outputs": [],
   "source": [
    "rf_grid = grid.best_estimator_\n",
    "rf_grid.score(X,y)"
   ]
  },
  {
   "cell_type": "code",
   "execution_count": null,
   "metadata": {
    "_kg_hide-input": true,
    "execution": {
     "iopub.execute_input": "2021-12-19T10:50:33.031392Z",
     "iopub.status.busy": "2021-12-19T10:50:33.031103Z",
     "iopub.status.idle": "2021-12-19T10:50:33.041961Z",
     "shell.execute_reply": "2021-12-19T10:50:33.040695Z",
     "shell.execute_reply.started": "2021-12-19T10:50:33.031343Z"
    }
   },
   "outputs": [],
   "source": [
    "from sklearn.metrics import classification_report\n",
    "# Print classification report for y_test\n",
    "print(classification_report(y_test, y_pred, labels=rf_grid.classes_))"
   ]
  },
  {
   "cell_type": "markdown",
   "metadata": {},
   "source": [
    "## Feature Importance"
   ]
  },
  {
   "cell_type": "code",
   "execution_count": null,
   "metadata": {
    "_kg_hide-input": true,
    "execution": {
     "iopub.execute_input": "2021-12-19T10:50:33.044424Z",
     "iopub.status.busy": "2021-12-19T10:50:33.043775Z",
     "iopub.status.idle": "2021-12-19T10:50:33.071892Z",
     "shell.execute_reply": "2021-12-19T10:50:33.070749Z",
     "shell.execute_reply.started": "2021-12-19T10:50:33.044353Z"
    }
   },
   "outputs": [],
   "source": [
    "## feature importance\n",
    "feature_importances = pd.DataFrame(rf_grid.feature_importances_,\n",
    "                                   index = column_names,\n",
    "                                    columns=['importance'])\n",
    "feature_importances.sort_values(by='importance', ascending=False).head(10)"
   ]
  },
  {
   "cell_type": "markdown",
   "metadata": {},
   "source": [
    "<h3>Why Random Forest?(Pros and Cons)</h3>"
   ]
  },
  {
   "cell_type": "markdown",
   "metadata": {
    "_cell_guid": "9c4c43f6-42c4-4cd3-a038-3f0c37f3c767",
    "_uuid": "aba2679da04529faf9f9175ab20a66ee71217f92"
   },
   "source": [
    "***\n",
    "<h2>Introducing Ensemble Learning</h2>\n",
    "In statistics and machine learning, ensemble methods use multiple learning algorithms to obtain better predictive performance than could be obtained from any of the constituent learning algorithms alone. \n",
    "\n",
    "There are two types of ensemple learnings. \n",
    "\n",
    "**Bagging/Averaging Methods**\n",
    "> In averaging methods, the driving principle is to build several estimators independently and then to average their predictions. On average, the combined estimator is usually better than any of the single base estimator because its variance is reduced.\n",
    "\n",
    "**Boosting Methods**\n",
    "> The other family of ensemble methods are boosting methods, where base estimators are built sequentially and one tries to reduce the bias of the combined estimator. The motivation is to combine several weak models to produce a powerful ensemble.\n",
    "\n",
    "<h4 align=\"right\">Source:GA</h4>\n",
    "\n",
    "Resource: <a href=\"https://towardsdatascience.com/ensemble-methods-bagging-boosting-and-stacking-c9214a10a205\">Ensemble methods: bagging, boosting and stacking</a>\n",
    "***\n",
    "## 7g. Bagging Classifier\n",
    "<a id=\"bagging\"></a>\n",
    "***"
   ]
  },
  {
   "cell_type": "markdown",
   "metadata": {},
   "source": [
    "<a href=\"https://scikit-learn.org/stable/modules/generated/sklearn.ensemble.BaggingClassifier.html\">Bagging Classifier</a>(Bootstrap Aggregating) is the ensemble method that involves manipulating the training set by resampling and running algorithms on it. Let's do a quick review:\n",
    "* Bagging classifier uses a process called bootstrapped dataset to create multiple datasets from one original dataset and runs algorithm on each one of them. Here is an image to show how bootstrapped dataset works. \n",
    "<img src=\"https://uc-r.github.io/public/images/analytics/bootstrap/bootstrap.png\" width=\"600\">\n",
    "<h4 align=\"center\">Resampling from original dataset to bootstrapped datasets</h4>\n",
    "<h4 align=\"right\">Source: https://uc-r.github.io</h4>\n",
    "\n",
    "\n",
    "* After running a learning algorithm on each one of the bootstrapped datasets, all models are combined by taking their average. the test data/new data then go through this averaged classifier/combined classifier and predict the output. \n",
    "\n",
    "Here is an image to make it clear on how bagging works, \n",
    "<img src=\"https://prachimjoshi.files.wordpress.com/2015/07/screen_shot_2010-12-03_at_5-46-21_pm.png\" width=\"600\">\n",
    "<h4 align=\"right\">Source: https://prachimjoshi.files.wordpress.com</h4>\n",
    "Please check out [this](https://www.kaggle.com/masumrumi/bagging-with-titanic-dataset) kernel if you want to find out more about bagging classifier. "
   ]
  },
  {
   "cell_type": "code",
   "execution_count": null,
   "metadata": {
    "execution": {
     "iopub.execute_input": "2021-12-19T10:50:33.073869Z",
     "iopub.status.busy": "2021-12-19T10:50:33.07341Z",
     "iopub.status.idle": "2021-12-19T10:50:47.088076Z",
     "shell.execute_reply": "2021-12-19T10:50:47.087216Z",
     "shell.execute_reply.started": "2021-12-19T10:50:33.073648Z"
    }
   },
   "outputs": [],
   "source": [
    "from sklearn.ensemble import BaggingClassifier\n",
    "n_estimators = [10,30,50,70,80,150,160, 170,175,180,185];\n",
    "cv = StratifiedShuffleSplit(n_splits=10, test_size=.30, random_state=15)\n",
    "\n",
    "parameters = {'n_estimators':n_estimators,\n",
    "              \n",
    "        }\n",
    "grid = GridSearchCV(BaggingClassifier(base_estimator= None, ## If None, then the base estimator is a decision tree.\n",
    "                                      bootstrap_features=False),\n",
    "                                 param_grid=parameters,\n",
    "                                 cv=cv,\n",
    "                                 n_jobs = -1)\n",
    "grid.fit(X,y) "
   ]
  },
  {
   "cell_type": "code",
   "execution_count": null,
   "metadata": {
    "execution": {
     "iopub.execute_input": "2021-12-19T10:50:47.08951Z",
     "iopub.status.busy": "2021-12-19T10:50:47.089226Z",
     "iopub.status.idle": "2021-12-19T10:50:47.096373Z",
     "shell.execute_reply": "2021-12-19T10:50:47.095066Z",
     "shell.execute_reply.started": "2021-12-19T10:50:47.08946Z"
    }
   },
   "outputs": [],
   "source": [
    "print (grid.best_score_)\n",
    "print (grid.best_params_)\n",
    "print (grid.best_estimator_)"
   ]
  },
  {
   "cell_type": "code",
   "execution_count": null,
   "metadata": {
    "execution": {
     "iopub.execute_input": "2021-12-19T10:50:47.098349Z",
     "iopub.status.busy": "2021-12-19T10:50:47.097988Z",
     "iopub.status.idle": "2021-12-19T10:50:47.156786Z",
     "shell.execute_reply": "2021-12-19T10:50:47.15585Z",
     "shell.execute_reply.started": "2021-12-19T10:50:47.09828Z"
    }
   },
   "outputs": [],
   "source": [
    "bagging_grid = grid.best_estimator_\n",
    "bagging_grid.score(X,y)"
   ]
  },
  {
   "cell_type": "markdown",
   "metadata": {},
   "source": [
    "<h3>Why use Bagging? (Pros and cons)</h3>\n",
    "Bagging works best with strong and complex models(for example, fully developed decision trees). However, don't let that fool you to thinking that similar to a decision tree, bagging also overfits the model. Instead, bagging reduces overfitting since a lot of the sample training data are repeated and used to create base estimators. With a lot of equally likely training data, bagging is not very susceptible to overfitting with noisy data, therefore reduces variance. However, the downside is that this leads to an increase in bias."
   ]
  },
  {
   "cell_type": "markdown",
   "metadata": {},
   "source": [
    "<h4>Random Forest VS. Bagging Classifier</h4>\n",
    "\n",
    "If some of you are like me, you may find Random Forest to be similar to Bagging Classifier. However, there is a fundamental difference between these two which is **Random Forests ability to pick subsets of features in each node.** I will elaborate on this in a future update."
   ]
  },
  {
   "cell_type": "markdown",
   "metadata": {},
   "source": [
    "## 7h. AdaBoost Classifier\n",
    "<a id=\"AdaBoost\"></a>\n",
    "***\n",
    "AdaBoost is another <b>ensemble model</b> and is quite different than Bagging. Let's point out the core concepts. \n",
    "> AdaBoost combines a lot of \"weak learners\"(they are also called stump; a tree with only one node and two leaves) to make classifications.\n",
    "\n",
    "> This base model fitting is an iterative process where each stump is chained one after the other; <b>It cannot run in parallel.</b>\n",
    "\n",
    "> <b>Some stumps get more say in the final classifications than others.</b> The models use weights that are assigned to each data point/raw indicating their \"importance.\" Samples with higher weight have a higher influence on the total error of the next model and gets more priority. The first stump starts with uniformly distributed weight which means, in the beginning, every datapoint have an equal amount of weights. \n",
    "\n",
    "> <b>Each stump is made by talking the previous stump's mistakes into account.</b> After each iteration weights gets re-calculated in order to take the errors/misclassifications from the last stump into consideration. \n",
    "\n",
    "> The final prediction is typically constructed by a weighted vote where weights for each base model depends on their training errors or misclassification rates. \n",
    "\n",
    "To illustrate what we have talked about so far let's look at the following visualization. \n",
    "\n",
    "<img src=\"https://cdn-images-1.medium.com/max/1600/0*paPv7vXuq4eBHZY7.png\">\n",
    "<h5 align=\"right\"> Source: Diogo(Medium)</h5>\n",
    "\n",
    "\n",
    "\n",
    "\n",
    "Let's dive into each one of the nitty-gritty stuff about AdaBoost:\n",
    "***\n",
    "> <b>First</b>, we determine the best feature to split the dataset using Gini index(basics from decision tree). The feature with the lowest Gini index becomes the first stump in the AdaBoost stump chain(the lower the Gini index is, the better unmixed the label is, therefore, better split).\n",
    "***\n",
    "> <b>Secondly</b>, we need to determine how much say a stump will have in the final classification and how we can calculate that.\n",
    "* We learn how much say a stump has in the final classification by calculating how well it classified the samples (aka calculate the total error of the weight).\n",
    "* The <b>Total Error</b> for a stump is the sum of the weights associated with the incorrectly classified samples. For example, lets say, we start a stump with 10 datasets. The first stump will uniformly distribute an weight amoung all the datapoints. Which means each data point will have 1/10 weight. Let's say once the weight is distributed we run the model and find 2 incorrect predicitons. In order to calculate the total erorr we add up all the misclassified weights. Here we get 1/10 + 1/10 = 2/10 or 1/5. This is our total error. We can also think about it\n",
    "\n",
    "\n",
    "$$ \\epsilon_t = \\frac{\\text{misclassifications}_t}{\\text{observations}_t} $$\n",
    "\n",
    "\n",
    "* Since the weight is uniformly distributed(all add up to 1) among all data points, the total error will always be between 0(perfect stump) and 1(horrible stump).\n",
    "* We use the total error to determine the amount of say a stump has in the final classification using the following formula\n",
    " \n",
    "\n",
    "$$ \\alpha_t = \\frac{1}{2}ln \\left(\\frac{1-\\epsilon_t}{\\epsilon_t}\\right) \\text{where } \\epsilon_t < 1$$\n",
    "\n",
    "\n",
    "Where $\\epsilon_t$ is the misclassification rate for the current classifier:\n",
    "\n",
    "\n",
    "$$ \\epsilon_t = \\frac{\\text{misclassifications}_t}{\\text{observations}_t} $$\n",
    "\n",
    "\n",
    "Here...\n",
    "* $\\alpha_t$ = Amount of Say\n",
    "* $\\epsilon_t$ = Total error\n",
    "\n",
    "\n",
    "\n",
    "We can draw a graph to determine the amount of say using the value of total error(0 to 1)\n",
    "\n",
    "<img src=\"http://chrisjmccormick.files.wordpress.com/2013/12/adaboost_alphacurve.png\">\n",
    "<h5 align=\"right\"> Source: Chris McCormick</h5>\n",
    "\n",
    "* The blue line tells us the amount of say for <b>Total Error(Error rate)</b> between 0 and 1. \n",
    "* When the stump does a reasonably good job, and the <b>total error</b> is minimal, then the <b>amount of say(Alpha)</b> is relatively large, and the alpha value is positive. \n",
    "* When the stump does an average job(similar to a coin flip/the ratio of getting correct and incorrect ~50%/50%), then the <b>total error</b> is ~0.5. In this case the <b>amount of say</b> is <b>0</b>.\n",
    "* When the error rate is high let's say close to 1, then the <b>amount of say</b> will be negative, which means if the stump outputs a value as \"survived\" the included weight will turn that value into \"not survived.\"\n",
    "\n",
    "P.S. If the <b>Total Error</b> is 1 or 0, then this equation will freak out. A small amount of error is added to prevent this from happening. \n",
    " \n",
    " ***\n",
    "> <b>Third</b>, We need to learn how to modify the weights so that the next stump will take the errors that the current stump made into account. The pseducode for calculating the new sample weight is as follows. \n",
    "\n",
    "\n",
    "$$ New Sample Weight = Sample Weight + e^{\\alpha_t}$$\n",
    "\n",
    "Here the $\\alpha_t(AmountOfSay)$ can be positive or negative depending whether the sample was correctly classified or misclassified by the current stump. We want to increase the sample weight of the misclassified samples; hinting the next stump to put more emphasize on those. Inversely, we want to decrease the sample weight of the correctly classified samples; hinting the next stump to put less emphasize on those. \n",
    "\n",
    "The following equation help us to do this calculation. \n",
    "\n",
    "$$ D_{t+1}(i) = D_t(i) e^{-\\alpha_t y_i h_t(x_i)} $$\n",
    "\n",
    "Here, \n",
    "* $D_{t+1}(i)$ = New Sample Weight. \n",
    "* $D_t(i)$ = Current Sample weight.\n",
    "* $\\alpha_t$ = Amount of Say, alpha value, this is the coefficient that gets updated in each iteration and \n",
    "* $y_i h_t(x_i)$ = place holder for 1 if stump correctly classified, -1 if misclassified. \n",
    "\n",
    "Finally, we put together the combined classifier, which is \n",
    "\n",
    "$$ AdaBoost(X) = sign\\left(\\sum_{t=1}^T\\alpha_t h_t(X)\\right) $$ \n",
    "\n",
    "Here, \n",
    "\n",
    "$AdaBoost(X)$ is the classification predictions for $y$ using predictor matrix $X$\n",
    "\n",
    "$T$ is the set of \"weak learners\"\n",
    "\n",
    "$\\alpha_t$ is the contribution weight for weak learner $t$\n",
    "\n",
    "$h_t(X)$ is the prediction of weak learner $t$\n",
    "\n",
    "and $y$ is binary **with values -1 and 1**\n",
    "\n",
    "\n",
    "P.S. Since the stump barely captures essential specs about the dataset, the model is highly biased in the beginning. However, as the chain of stumps continues and at the end of the process, AdaBoost becomes a strong tree and reduces both bias and variance.\n",
    "\n",
    "<h3>Resources:</h3>\n",
    "<ul>\n",
    "    <li><a href=\"https://www.youtube.com/watch?v=LsK-xG1cLYA\">Statquest</a></li>\n",
    "    <li><a href=\"https://www.youtube.com/watch?v=-DUxtdeCiB4\">Principles of Machine Learning | AdaBoost(Video)</a></li>\n",
    "</ul>"
   ]
  },
  {
   "cell_type": "code",
   "execution_count": null,
   "metadata": {
    "execution": {
     "iopub.execute_input": "2021-12-19T10:50:47.158301Z",
     "iopub.status.busy": "2021-12-19T10:50:47.15804Z",
     "iopub.status.idle": "2021-12-19T10:51:24.717864Z",
     "shell.execute_reply": "2021-12-19T10:51:24.71701Z",
     "shell.execute_reply.started": "2021-12-19T10:50:47.158251Z"
    }
   },
   "outputs": [],
   "source": [
    "from sklearn.ensemble import AdaBoostClassifier\n",
    "n_estimators = [100,140,145,150,160, 170,175,180,185];\n",
    "cv = StratifiedShuffleSplit(n_splits=10, test_size=.30, random_state=15)\n",
    "learning_r = [0.1,1,0.01,0.5]\n",
    "\n",
    "parameters = {'n_estimators':n_estimators,\n",
    "              'learning_rate':learning_r\n",
    "              \n",
    "        }\n",
    "grid = GridSearchCV(AdaBoostClassifier(base_estimator= None, ## If None, then the base estimator is a decision tree.\n",
    "                                     ),\n",
    "                                 param_grid=parameters,\n",
    "                                 cv=cv,\n",
    "                                 n_jobs = -1)\n",
    "grid.fit(X,y) "
   ]
  },
  {
   "cell_type": "code",
   "execution_count": null,
   "metadata": {
    "execution": {
     "iopub.execute_input": "2021-12-19T10:51:24.719622Z",
     "iopub.status.busy": "2021-12-19T10:51:24.719357Z",
     "iopub.status.idle": "2021-12-19T10:51:24.725179Z",
     "shell.execute_reply": "2021-12-19T10:51:24.724193Z",
     "shell.execute_reply.started": "2021-12-19T10:51:24.719575Z"
    }
   },
   "outputs": [],
   "source": [
    "print (grid.best_score_)\n",
    "print (grid.best_params_)\n",
    "print (grid.best_estimator_)"
   ]
  },
  {
   "cell_type": "code",
   "execution_count": null,
   "metadata": {
    "execution": {
     "iopub.execute_input": "2021-12-19T10:51:24.726911Z",
     "iopub.status.busy": "2021-12-19T10:51:24.72658Z",
     "iopub.status.idle": "2021-12-19T10:51:24.77155Z",
     "shell.execute_reply": "2021-12-19T10:51:24.770856Z",
     "shell.execute_reply.started": "2021-12-19T10:51:24.726861Z"
    }
   },
   "outputs": [],
   "source": [
    "adaBoost_grid = grid.best_estimator_\n",
    "adaBoost_grid.score(X,y)"
   ]
  },
  {
   "cell_type": "markdown",
   "metadata": {},
   "source": [
    "## Pros and cons of boosting\n",
    "\n",
    "---\n",
    "\n",
    "### Pros\n",
    "\n",
    "- Achieves higher performance than bagging when hyper-parameters tuned properly.\n",
    "- Can be used for classification and regression equally well.\n",
    "- Easily handles mixed data types.\n",
    "- Can use \"robust\" loss functions that make the model resistant to outliers.\n",
    "\n",
    "---\n",
    "\n",
    "### Cons\n",
    "\n",
    "- Difficult and time consuming to properly tune hyper-parameters.\n",
    "- Cannot be parallelized like bagging (bad scalability when huge amounts of data).\n",
    "- More risk of overfitting compared to bagging.\n",
    "\n",
    "<h3>Resources: </h3>\n",
    "<ul>\n",
    "    <li><a href=\"http://mccormickml.com/2013/12/13/adaboost-tutorial/\">AdaBoost Tutorial-Chris McCormick</a></li>\n",
    "    <li><a href=\"http://rob.schapire.net/papers/explaining-adaboost.pdf\">Explaining AdaBoost by Robert Schapire(One of the original author of AdaBoost)</a></li>\n",
    "</ul>"
   ]
  },
  {
   "cell_type": "markdown",
   "metadata": {
    "_cell_guid": "6ea60e91-544f-49fc-8128-ee190e8292e7",
    "_uuid": "860921893a28a1fe9a4ce47f0779f1e7b154ca0a"
   },
   "source": [
    "## 7i. Gradient Boosting Classifier\n",
    "<a id=\"gradient_boosting\"></a>\n",
    "***"
   ]
  },
  {
   "cell_type": "code",
   "execution_count": null,
   "metadata": {
    "_cell_guid": "d32d6df9-b8e7-4637-bacc-2baec08547b8",
    "_uuid": "fd788c4f4cde834a1329f325f1f59e3f77c37e42",
    "execution": {
     "iopub.execute_input": "2021-12-19T10:51:24.773395Z",
     "iopub.status.busy": "2021-12-19T10:51:24.772832Z",
     "iopub.status.idle": "2021-12-19T10:51:24.95044Z",
     "shell.execute_reply": "2021-12-19T10:51:24.949602Z",
     "shell.execute_reply.started": "2021-12-19T10:51:24.773332Z"
    },
    "scrolled": true
   },
   "outputs": [],
   "source": [
    "# Gradient Boosting Classifier\n",
    "from sklearn.ensemble import GradientBoostingClassifier\n",
    "\n",
    "gradient_boost = GradientBoostingClassifier()\n",
    "gradient_boost.fit(X, y)\n",
    "y_pred = gradient_boost.predict(X_test)\n",
    "gradient_accy = round(accuracy_score(y_pred, y_test), 3)\n",
    "print(gradient_accy)"
   ]
  },
  {
   "cell_type": "markdown",
   "metadata": {},
   "source": [
    "<div class=\" alert alert-info\">\n",
    "<h3>Resources: </h3>\n",
    "<ul>\n",
    "    <li><a href=\"https://www.youtube.com/watch?v=sDv4f4s2SB8\">Gradient Descent(StatQuest)</a></li>\n",
    "    <li><a href=\"https://www.youtube.com/watch?v=3CC4N4z3GJc\">Gradient Boost(Regression Main Ideas)(StatQuest)</a></li>\n",
    "    <li><a href=\"https://www.youtube.com/watch?v=3CC4N4z3GJc\">Gradient Boost(Regression Calculation)(StatQuest)</a></li>\n",
    "    <li><a href=\"https://www.youtube.com/watch?v=jxuNLH5dXCs\">Gradient Boost(Classification Main Ideas)(StatQuest)</a></li>\n",
    "    <li><a href=\"https://www.youtube.com/watch?v=StWY5QWMXCw\">Gradient Boost(Classification Calculation)(StatQuest)</a></li>\n",
    "    <li><a href=\"https://www.analyticsvidhya.com/blog/2016/02/complete-guide-parameter-tuning-gradient-boosting-gbm-python/\">Complete Machine Learning Guide to Parameter Tuning in Gradient Boosting (GBM) in Python</a></li>\n",
    "</ul>\n",
    "</div>"
   ]
  },
  {
   "cell_type": "markdown",
   "metadata": {
    "_cell_guid": "996b8ee8-13ff-461d-8f7b-ac0d7d488cff",
    "_uuid": "ee9c7a2ccdf93a90f929b6618105afbe699bd6de"
   },
   "source": [
    "## 7j. XGBClassifier\n",
    "<a id=\"XGBClassifier\"></a>\n",
    "***"
   ]
  },
  {
   "cell_type": "code",
   "execution_count": null,
   "metadata": {
    "_cell_guid": "5d94cc5b-d8b7-40d3-b264-138539daabfa",
    "_uuid": "9d96154d2267ea26a6682a73bd1850026eb1303b",
    "execution": {
     "iopub.execute_input": "2021-12-19T10:51:24.952129Z",
     "iopub.status.busy": "2021-12-19T10:51:24.951821Z",
     "iopub.status.idle": "2021-12-19T10:51:24.955597Z",
     "shell.execute_reply": "2021-12-19T10:51:24.95463Z",
     "shell.execute_reply.started": "2021-12-19T10:51:24.952043Z"
    }
   },
   "outputs": [],
   "source": [
    "# from xgboost import XGBClassifier\n",
    "# XGBClassifier = XGBClassifier()\n",
    "# XGBClassifier.fit(X, y)\n",
    "# y_pred = XGBClassifier.predict(X_test)\n",
    "# XGBClassifier_accy = round(accuracy_score(y_pred, y_test), 3)\n",
    "# print(XGBClassifier_accy)"
   ]
  },
  {
   "cell_type": "markdown",
   "metadata": {
    "_cell_guid": "a6b4c23c-b42b-4fad-b37d-c84154b3478d",
    "_uuid": "3fa68b3d2e835b1a14088102561a2f8d4dac8f5c"
   },
   "source": [
    "## 7k. Extra Trees Classifier\n",
    "<a id=\"extra_tree\"></a>\n",
    "***"
   ]
  },
  {
   "cell_type": "code",
   "execution_count": null,
   "metadata": {
    "_cell_guid": "2e567e01-6b5f-4313-84af-cc378c3b709e",
    "_uuid": "c9b958e2488adf6f79401c677087e3250d63ac9b",
    "execution": {
     "iopub.execute_input": "2021-12-19T10:51:24.957803Z",
     "iopub.status.busy": "2021-12-19T10:51:24.957404Z",
     "iopub.status.idle": "2021-12-19T10:51:24.986695Z",
     "shell.execute_reply": "2021-12-19T10:51:24.985797Z",
     "shell.execute_reply.started": "2021-12-19T10:51:24.957725Z"
    }
   },
   "outputs": [],
   "source": [
    "from sklearn.ensemble import ExtraTreesClassifier\n",
    "ExtraTreesClassifier = ExtraTreesClassifier()\n",
    "ExtraTreesClassifier.fit(X, y)\n",
    "y_pred = ExtraTreesClassifier.predict(X_test)\n",
    "extraTree_accy = round(accuracy_score(y_pred, y_test), 3)\n",
    "print(extraTree_accy)"
   ]
  },
  {
   "cell_type": "markdown",
   "metadata": {
    "_cell_guid": "20a66dcc-7f9f-4802-aa6d-58be75e07539",
    "_uuid": "c55a54821feda82c75dde28bab7e2cf4445c4cf0"
   },
   "source": [
    "## 7l. Gaussian Process Classifier\n",
    "<a id=\"GaussianProcessClassifier\"></a>\n",
    "***"
   ]
  },
  {
   "cell_type": "code",
   "execution_count": null,
   "metadata": {
    "_cell_guid": "23bd5744-e04d-49bb-9d70-7c2a518f76dd",
    "_uuid": "57fc008eea2ce1c0b595f888a82ddeaee6ce2177",
    "execution": {
     "iopub.execute_input": "2021-12-19T10:51:24.987997Z",
     "iopub.status.busy": "2021-12-19T10:51:24.987779Z",
     "iopub.status.idle": "2021-12-19T10:51:25.357385Z",
     "shell.execute_reply": "2021-12-19T10:51:25.356563Z",
     "shell.execute_reply.started": "2021-12-19T10:51:24.987965Z"
    }
   },
   "outputs": [],
   "source": [
    "from sklearn.gaussian_process import GaussianProcessClassifier\n",
    "GaussianProcessClassifier = GaussianProcessClassifier()\n",
    "GaussianProcessClassifier.fit(X, y)\n",
    "y_pred = GaussianProcessClassifier.predict(X_test)\n",
    "gau_pro_accy = round(accuracy_score(y_pred, y_test), 3)\n",
    "print(gau_pro_accy)"
   ]
  },
  {
   "cell_type": "markdown",
   "metadata": {
    "_cell_guid": "ec676e4d-0cbe-43fa-9ff8-92d76030faef",
    "_uuid": "6f89f2cb63120a4594c7b0f2883b6872aa444700"
   },
   "source": [
    "## 7m. Voting Classifier\n",
    "<a id=\"voting_classifer\"></a>\n",
    "***"
   ]
  },
  {
   "cell_type": "code",
   "execution_count": null,
   "metadata": {
    "_cell_guid": "ac208dd3-1045-47bb-9512-de5ecb5c81b0",
    "_uuid": "821c74bbf404193219eb91fe53755d669f5a14d1",
    "execution": {
     "iopub.execute_input": "2021-12-19T10:51:25.359251Z",
     "iopub.status.busy": "2021-12-19T10:51:25.358938Z",
     "iopub.status.idle": "2021-12-19T10:51:26.912923Z",
     "shell.execute_reply": "2021-12-19T10:51:26.911856Z",
     "shell.execute_reply.started": "2021-12-19T10:51:25.359159Z"
    }
   },
   "outputs": [],
   "source": [
    "from sklearn.ensemble import VotingClassifier\n",
    "\n",
    "voting_classifier = VotingClassifier(estimators=[\n",
    "    ('lr_grid', logreg_grid),\n",
    "    ('svc', svm_grid),\n",
    "    ('random_forest', rf_grid),\n",
    "    ('gradient_boosting', gradient_boost),\n",
    "    ('decision_tree_grid',dectree_grid),\n",
    "    ('knn_classifier', knn_grid),\n",
    "#     ('XGB_Classifier', XGBClassifier),\n",
    "    ('bagging_classifier', bagging_grid),\n",
    "    ('adaBoost_classifier',adaBoost_grid),\n",
    "    ('ExtraTrees_Classifier', ExtraTreesClassifier),\n",
    "    ('gaussian_classifier',gaussian),\n",
    "    ('gaussian_process_classifier', GaussianProcessClassifier)\n",
    "],voting='hard')\n",
    "\n",
    "#voting_classifier = voting_classifier.fit(train_x,train_y)\n",
    "voting_classifier = voting_classifier.fit(X,y)"
   ]
  },
  {
   "cell_type": "code",
   "execution_count": null,
   "metadata": {
    "_cell_guid": "648ac6a6-2437-490a-bf76-1612a71126e8",
    "_uuid": "518a02ae91cc91d618e476d1fc643cd3912ee5fb",
    "execution": {
     "iopub.execute_input": "2021-12-19T10:51:26.915082Z",
     "iopub.status.busy": "2021-12-19T10:51:26.914594Z",
     "iopub.status.idle": "2021-12-19T10:51:27.028701Z",
     "shell.execute_reply": "2021-12-19T10:51:27.026714Z",
     "shell.execute_reply.started": "2021-12-19T10:51:26.914917Z"
    }
   },
   "outputs": [],
   "source": [
    "y_pred = voting_classifier.predict(X_test)\n",
    "voting_accy = round(accuracy_score(y_pred, y_test), 3)\n",
    "print(voting_accy)"
   ]
  },
  {
   "cell_type": "code",
   "execution_count": null,
   "metadata": {
    "_cell_guid": "277534eb-7ec8-4359-a2f4-30f7f76611b8",
    "_kg_hide-input": true,
    "_uuid": "00a9b98fd4e230db427a63596a2747f05b1654c1",
    "execution": {
     "iopub.execute_input": "2021-12-19T10:51:27.030336Z",
     "iopub.status.busy": "2021-12-19T10:51:27.030087Z",
     "iopub.status.idle": "2021-12-19T10:51:27.034439Z",
     "shell.execute_reply": "2021-12-19T10:51:27.033459Z",
     "shell.execute_reply.started": "2021-12-19T10:51:27.030293Z"
    }
   },
   "outputs": [],
   "source": [
    "#models = pd.DataFrame({\n",
    "#    'Model': ['Support Vector Machines', 'KNN', 'Logistic Regression', \n",
    "#              'Random Forest', 'Naive Bayes', \n",
    "#              'Decision Tree', 'Gradient Boosting Classifier', 'Voting Classifier', 'XGB Classifier','ExtraTrees Classifier','Bagging Classifier'],\n",
    "#    'Score': [svc_accy, knn_accy, logreg_accy, \n",
    "#              random_accy, gaussian_accy, dectree_accy,\n",
    "#               gradient_accy, voting_accy, XGBClassifier_accy, extraTree_accy, bagging_accy]})\n",
    "#models.sort_values(by='Score', ascending=False)"
   ]
  },
  {
   "cell_type": "markdown",
   "metadata": {
    "_cell_guid": "7128f3dd-1d8d-4b8e-afb4-891d8cb9657c",
    "_uuid": "7e17482a69dbe99319219a603ea39f8bbde98b87"
   },
   "source": [
    "# Part 8: Submit test predictions\n",
    "<a id=\"submit_predictions\"></a>\n",
    "***"
   ]
  },
  {
   "cell_type": "code",
   "execution_count": null,
   "metadata": {
    "_uuid": "eb0054822f296ba86aa6005b2a5e35fbc1aec88b",
    "execution": {
     "iopub.execute_input": "2021-12-19T10:51:27.0361Z",
     "iopub.status.busy": "2021-12-19T10:51:27.035741Z",
     "iopub.status.idle": "2021-12-19T10:51:27.273854Z",
     "shell.execute_reply": "2021-12-19T10:51:27.272954Z",
     "shell.execute_reply.started": "2021-12-19T10:51:27.035996Z"
    }
   },
   "outputs": [],
   "source": [
    "all_models = [logreg_grid,\n",
    "              knn_grid, \n",
    "              knn_ran_grid,\n",
    "              svm_grid,\n",
    "              dectree_grid,\n",
    "              rf_grid,\n",
    "              bagging_grid,\n",
    "              adaBoost_grid,\n",
    "              voting_classifier]\n",
    "\n",
    "c = {}\n",
    "for i in all_models:\n",
    "    a = i.predict(X_test)\n",
    "    b = accuracy_score(a, y_test)\n",
    "    c[i] = b\n",
    "    \n"
   ]
  },
  {
   "cell_type": "code",
   "execution_count": null,
   "metadata": {
    "_cell_guid": "51368e53-52e4-41cf-9cc9-af6164c9c6f5",
    "_uuid": "b947f168f6655c1c6eadaf53f3485d57c0cd74c7",
    "execution": {
     "iopub.execute_input": "2021-12-19T10:51:27.27564Z",
     "iopub.status.busy": "2021-12-19T10:51:27.275304Z",
     "iopub.status.idle": "2021-12-19T10:51:29.275243Z",
     "shell.execute_reply": "2021-12-19T10:51:29.274113Z",
     "shell.execute_reply.started": "2021-12-19T10:51:27.275589Z"
    }
   },
   "outputs": [],
   "source": [
    "test_prediction = (max(c, key=c.get)).predict(test)\n",
    "submission = pd.DataFrame({\n",
    "        \"PassengerId\": passengerid,\n",
    "        \"Survived\": test_prediction\n",
    "    })\n",
    "\n",
    "submission.PassengerId = submission.PassengerId.astype(int)\n",
    "submission.Survived = submission.Survived.astype(int)\n",
    "\n",
    "submission.to_csv(\"titanic1_submission.csv\", index=False)"
   ]
  },
  {
   "cell_type": "markdown",
   "metadata": {},
   "source": [
    "<div class=\"alert alert-info\">\n",
    "    <h1>Resources</h1>\n",
    "    <ul>\n",
    "        <li><b>Statistics</b></li>\n",
    "        <ul>\n",
    "            <li><a href=\"https://statistics.laerd.com/statistical-guides/measures-of-spread-standard-deviation.php\">Types of Standard Deviation</a></li>\n",
    "            <li><a href=\"https://blog.minitab.com/blog/statistics-and-quality-data-analysis/what-is-a-t-test-and-why-is-it-like-telling-a-kid-to-clean-up-that-mess-in-the-kitchen\">What Is a t-test? And Why Is It Like Telling a Kid to Clean Up that Mess in the Kitchen?</a></li>\n",
    "            <li><a href=\"https://blog.minitab.com/blog/statistics-and-quality-data-analysis/what-are-t-values-and-p-values-in-statistics\">What Are T Values and P Values in Statistics?</a></li>\n",
    "            <li><a href=\"https://www.youtube.com/watch?v=E4KCfcVwzyw\">What is p-value? How we decide on our confidence level.</a></li>\n",
    "        </ul>\n",
    "        <li><b>Writing pythonic code</b></li>\n",
    "        <ul>\n",
    "            <li><a href=\"https://www.kaggle.com/rtatman/six-steps-to-more-professional-data-science-code\">Six steps to more professional data science code</a></li>\n",
    "            <li><a href=\"https://www.kaggle.com/jpmiller/creating-a-good-analytics-report\">Creating a Good Analytics Report</a></li>\n",
    "            <li><a href=\"https://en.wikipedia.org/wiki/Code_smell\">Code Smell</a></li>\n",
    "            <li><a href=\"https://www.python.org/dev/peps/pep-0008/\">Python style guides</a></li>\n",
    "            <li><a href=\"https://gist.github.com/sloria/7001839\">The Best of the Best Practices(BOBP) Guide for Python</a></li>\n",
    "            <li><a href=\"https://www.python.org/dev/peps/pep-0020/\">PEP 20 -- The Zen of Python</a></li>\n",
    "            <li><a href=\"https://docs.python-guide.org/\">The Hitchiker's Guide to Python</a></li>\n",
    "            <li><a href=\"https://realpython.com/tutorials/best-practices/\">Python Best Practice Patterns</a></li>\n",
    "            <li><a href=\"http://www.nilunder.com/blog/2013/08/03/pythonic-sensibilities/\">Pythonic Sensibilities</a></li>\n",
    "        </ul>\n",
    "        <li><b>Why Scikit-Learn?</b></li>\n",
    "        <ul>\n",
    "            <li><a href=\"https://www.oreilly.com/content/intro-to-scikit-learn/\">Introduction to Scikit-Learn</a></li>\n",
    "            <li><a href=\"https://www.oreilly.com/content/six-reasons-why-i-recommend-scikit-learn/\">Six reasons why I recommend scikit-learn</a></li>\n",
    "            <li><a href=\"https://hub.packtpub.com/learn-scikit-learn/\">Why you should learn Scikit-learn</a></li>\n",
    "            <li><a href=\"https://www.kaggle.com/baghern/a-deep-dive-into-sklearn-pipelines\">A Deep Dive Into Sklearn Pipelines</a></li>\n",
    "            <li><a href=\"https://www.kaggle.com/sermakarevich/sklearn-pipelines-tutorial\">Sklearn pipelines tutorial</a></li>\n",
    "            <li><a href=\"https://www.kdnuggets.com/2017/12/managing-machine-learning-workflows-scikit-learn-pipelines-part-1.html\">Managing Machine Learning workflows with Sklearn pipelines</a></li>\n",
    "            <li><a href=\"https://towardsdatascience.com/a-simple-example-of-pipeline-in-machine-learning-with-scikit-learn-e726ffbb6976\">A simple example of pipeline in Machine Learning using SKlearn</a></li>\n",
    "        </ul>\n",
    "    </ul>\n",
    "    <h1>Credits</h1>\n",
    "    <ul>\n",
    "        <li>To Brandon Foltz for his <a href=\"https://www.youtube.com/channel/UCFrjdcImgcQVyFbK04MBEhA\">youtube</a> channel and for being an amazing teacher.</li>\n",
    "        <li>To GA where I started my data science journey.</li>\n",
    "        <li>To Kaggle community for inspiring me over and over again with all the resources I need.</li>\n",
    "        <li>To Udemy Course \"Deployment of Machine Learning\". I have used and modified some of the code from this course to help making the learning process intuitive.</li>\n",
    "    </ul>\n",
    "</div>"
   ]
  },
  {
   "cell_type": "markdown",
   "metadata": {},
   "source": [
    "<div class=\"alert alert-info\">\n",
    "<h4>If you like to discuss any other projects or just have a chat about data science topics, I'll be more than happy to connect with you on:</h4>\n",
    "    <ul>\n",
    "        <li><a href=\"https://www.linkedin.com/in/masumrumi/\"><b>LinkedIn</b></a></li>\n",
    "        <li><a href=\"https://github.com/masumrumi\"><b>Github</b></a></li>\n",
    "        <li><a href=\"http://masumrumi.com/\"><b>masumrumi.com</b></a></li>\n",
    "    </ul>\n",
    "\n",
    "<p>This kernel will always be a work in progress. I will incorporate new concepts of data science as I comprehend them with each update. If you have any idea/suggestions about this notebook, please let me know. Any feedback about further improvements would be genuinely appreciated.</p>\n",
    "\n",
    "<h1>If you have come this far, Congratulations!!</h1>\n",
    "\n",
    "<h1>If this notebook helped you in any way or you liked it, please upvote and/or leave a comment!! :)</h1></div>"
   ]
  },
  {
   "cell_type": "code",
   "execution_count": null,
   "metadata": {},
   "outputs": [],
   "source": []
  },
  {
   "cell_type": "code",
   "execution_count": null,
   "metadata": {},
   "outputs": [],
   "source": []
  },
  {
   "cell_type": "code",
   "execution_count": null,
   "metadata": {},
   "outputs": [],
   "source": []
  }
 ],
 "metadata": {
  "kernelspec": {
   "display_name": "Python 3",
   "language": "python",
   "name": "python3"
  },
  "language_info": {
   "codemirror_mode": {
    "name": "ipython",
    "version": 3
   },
   "file_extension": ".py",
   "mimetype": "text/x-python",
   "name": "python",
   "nbconvert_exporter": "python",
   "pygments_lexer": "ipython3",
   "version": "3.8.8"
  }
 },
 "nbformat": 4,
 "nbformat_minor": 4
}
